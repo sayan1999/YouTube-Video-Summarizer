{
  "cells": [
    {
      "cell_type": "code",
      "execution_count": null,
      "id": "5ea9a766-385e-4437-9d8d-7a0dd7f05ab1",
      "metadata": {
        "id": "5ea9a766-385e-4437-9d8d-7a0dd7f05ab1"
      },
      "outputs": [],
      "source": [
        "!pip install yt-dlp\n",
        "!pip install gradio\n",
        "!pip install gtts"
      ]
    },
    {
      "cell_type": "code",
      "source": [
        "import os\n",
        "DEVICE = 'cuda' if 'COLAB_GPU' in os.environ else 'cpu'"
      ],
      "metadata": {
        "id": "E7yeksy_qR0l"
      },
      "id": "E7yeksy_qR0l",
      "execution_count": null,
      "outputs": []
    },
    {
      "cell_type": "code",
      "execution_count": null,
      "id": "2c3bcd80-765c-4d4e-9737-4eb08fc8ade0",
      "metadata": {
        "id": "2c3bcd80-765c-4d4e-9737-4eb08fc8ade0"
      },
      "outputs": [],
      "source": [
        "from yt_dlp import YoutubeDL\n",
        "import glob\n",
        "\n",
        "def get_transcript(url):\n",
        "    with YoutubeDL({\"skip_download\":True, \"writeautomaticsub\":True, \"subtitleslangs\":[\"en\", \"en-us\", \"en-us\", \"en-uk\", \"en-in\", \"en-es\", \"en-fr\"]}) as ydl:\n",
        "        if ydl.download(url):\n",
        "            print(\"-----------------------------------------------------------------------------------------------------------LINK FAILED\")\n",
        "            return None, None\n",
        "        else:\n",
        "            # print(ydl.extract_info(url))\n",
        "            op = [f for f in os.listdir() if f.startswith(os.path.splitext(ydl.prepare_filename(ydl.extract_info(url)))[0]) and f.endswith('.vtt')]\n",
        "            if op:\n",
        "              return ydl.extract_info(url)['title'], op[0]\n",
        "            else:\n",
        "              print(\"-----------------------------------------------------------------------------------------------------------file download FAILED\")\n",
        "              return None, None"
      ]
    },
    {
      "cell_type": "code",
      "execution_count": null,
      "id": "8c29ff58-0309-452b-bcca-4229050bd65e",
      "metadata": {
        "id": "8c29ff58-0309-452b-bcca-4229050bd65e"
      },
      "outputs": [],
      "source": [
        "from transformers import BartForConditionalGeneration, AutoTokenizer\n",
        "import torch, math\n",
        "\n",
        "PROMPT_LEN, MAX_N_TOKEN = 1024, 1024\n",
        "\n",
        "class SUMMARY:\n",
        "    def __init__(self):\n",
        "        torch.cuda.empty_cache()\n",
        "        self.model_ckpt = \"facebook/bart-large-cnn\"\n",
        "        self.device = DEVICE\n",
        "        self.tokenizer = AutoTokenizer.from_pretrained(self.model_ckpt)\n",
        "        self.model = BartForConditionalGeneration.from_pretrained(self.model_ckpt).to(\n",
        "            self.device\n",
        "        )\n",
        "\n",
        "    def summarize(self, text, first=True):\n",
        "        input_ids = self.tokenizer.encode(text, return_tensors=\"pt\").to(self.device)\n",
        "        if input_ids.shape[1] <= PROMPT_LEN and not first:\n",
        "            summary = self.tokenizer.decode(input_ids[0], skip_special_tokens=True)\n",
        "            print(\"Summary is ->>>>>>>>>>>>>>>>>>>>>>>>>\\n\" + summary)\n",
        "            return summary\n",
        "\n",
        "        n_split = math.ceil(input_ids.shape[1] / MAX_N_TOKEN)\n",
        "        splits = [\n",
        "            input_ids[:, MAX_N_TOKEN * i : MAX_N_TOKEN * i + MAX_N_TOKEN]\n",
        "            for i in range(0, n_split)\n",
        "        ]\n",
        "        summarized_splits = [\n",
        "            self.model.generate(split, max_length=PROMPT_LEN) for split in splits\n",
        "        ]\n",
        "        decoded_summary_splits = [\n",
        "            self.tokenizer.decode(s[0], skip_special_tokens=True)\n",
        "            for s in summarized_splits\n",
        "        ]\n",
        "        summary = \" \".join(decoded_summary_splits)\n",
        "        print(\n",
        "            \"Intermediate Summaries ->>>>>>>>>>>>>>>>>>>>>>>>>\\n\",\n",
        "            decoded_summary_splits,\n",
        "        )\n",
        "        return self.summarize(summary, first=False)\n",
        "\n",
        "summarizer=SUMMARY()"
      ]
    },
    {
      "cell_type": "code",
      "source": [
        "def video_summarize(url):\n",
        "  title, vttfile=get_transcript(url)\n",
        "  if vttfile is None:\n",
        "    return \"SOME ISSUE WITH VIDEO LINK OR DOWNLOAINDING VIDEO CONTENTS\"\n",
        "  print(\"text file expected\", vttfile+'.txt')\n",
        "  os.system(f\"cat \\\"{vttfile}\\\" | grep : -v | awk '!seen[$0]++' > \\\"{vttfile}.txt\\\"\")\n",
        "  tscript = open(f'{vttfile}.txt').read()\n",
        "  return title, summarizer.summarize(tscript)"
      ],
      "metadata": {
        "id": "jrXUUFDJr1_p"
      },
      "id": "jrXUUFDJr1_p",
      "execution_count": null,
      "outputs": []
    },
    {
      "cell_type": "code",
      "source": [
        "import gradio as gr\n",
        "from gtts import gTTS\n",
        "\n",
        "def text_to_speech(text):\n",
        "    audio = gTTS(text=text, lang=\"en\", tld='co.in',  slow=False)\n",
        "    audio.save(\"bot.mp3\")\n",
        "    return \"bot.mp3\"\n",
        "\n",
        "with gr.Blocks(title=\"Youtube Video Summarizer\") as demo:\n",
        "    inputlink = gr.Textbox(label=\"Insert an youtube link here\", autofocus=True)\n",
        "    btn = gr.Button(\"Submit\")\n",
        "    outputtext = gr.Textbox(label=\"Summary\")\n",
        "    opaudio = gr.Audio(label=\"Audio Summary\", source=\"microphone\", type=\"filepath\", autoplay=True)\n",
        "    clear = gr.ClearButton([outputtext, inputlink, opaudio])\n",
        "\n",
        "    def respond(link):\n",
        "        title, summary = video_summarize(link.strip())\n",
        "        return title + '\\n\\n' + summary, text_to_speech(summary)\n",
        "\n",
        "    btn.click(lambda :None, None, inputlink)\n",
        "    btn.click(lambda :None, None, outputtext)\n",
        "    btn.click(lambda :None, None, opaudio)\n",
        "    btn.click(respond, [inputlink], [outputtext, opaudio])\n",
        "\n",
        "    inputlink.submit(lambda :None, None, inputlink)\n",
        "    inputlink.submit(lambda :None, None, outputtext)\n",
        "    inputlink.submit(lambda :None, None, opaudio)\n",
        "    inputlink.submit(respond, [inputlink], [outputtext, opaudio])\n",
        "\n",
        "demo.queue(concurrency_count=1)\n",
        "demo.launch(debug=True, share=True).queue()\n",
        "pass"
      ],
      "metadata": {
        "id": "WnhasqdYjsug",
        "colab": {
          "base_uri": "https://localhost:8080/",
          "height": 1000
        },
        "outputId": "4f4a6c0d-9ad5-4800-8e80-c1596bc06fa5"
      },
      "id": "WnhasqdYjsug",
      "execution_count": null,
      "outputs": [
        {
          "output_type": "stream",
          "name": "stdout",
          "text": [
            "Colab notebook detected. This cell will run indefinitely so that you can see errors and logs. To turn off, set debug=False in launch().\n",
            "Running on public URL: https://494d4a51e091af7fed.gradio.live\n",
            "\n",
            "This share link expires in 72 hours. For free permanent hosting and GPU upgrades, run `gradio deploy` from Terminal to deploy to Spaces (https://huggingface.co/spaces)\n"
          ]
        },
        {
          "output_type": "display_data",
          "data": {
            "text/plain": [
              "<IPython.core.display.HTML object>"
            ],
            "text/html": [
              "<div><iframe src=\"https://494d4a51e091af7fed.gradio.live\" width=\"100%\" height=\"500\" allow=\"autoplay; camera; microphone; clipboard-read; clipboard-write;\" frameborder=\"0\" allowfullscreen></iframe></div>"
            ]
          },
          "metadata": {}
        },
        {
          "output_type": "stream",
          "name": "stdout",
          "text": [
            "[youtube] Extracting URL: https://www.youtube.com/watch?v=DHaxfzNT1KA\n",
            "[youtube] DHaxfzNT1KA: Downloading webpage\n"
          ]
        },
        {
          "output_type": "stream",
          "name": "stderr",
          "text": [
            "WARNING: [youtube] unable to extract initial player response; please report this issue on  https://github.com/yt-dlp/yt-dlp/issues?q= , filling out the appropriate issue template. Confirm you are on the latest version using  yt-dlp -U\n"
          ]
        },
        {
          "output_type": "stream",
          "name": "stdout",
          "text": [
            "[youtube] DHaxfzNT1KA: Downloading ios player API JSON\n",
            "[youtube] DHaxfzNT1KA: Downloading android player API JSON\n",
            "[youtube] DHaxfzNT1KA: Downloading iframe API JS\n",
            "[youtube] DHaxfzNT1KA: Downloading player da7c2a60\n",
            "[youtube] DHaxfzNT1KA: Downloading web player API JSON\n",
            "[youtube] DHaxfzNT1KA: Downloading m3u8 information\n"
          ]
        },
        {
          "output_type": "stream",
          "name": "stderr",
          "text": [
            "WARNING: [youtube] unable to extract yt initial data; please report this issue on  https://github.com/yt-dlp/yt-dlp/issues?q= , filling out the appropriate issue template. Confirm you are on the latest version using  yt-dlp -U\n",
            "WARNING: [youtube] Incomplete data received in embedded initial data; re-fetching using API.\n"
          ]
        },
        {
          "output_type": "stream",
          "name": "stdout",
          "text": [
            "[youtube] DHaxfzNT1KA: Downloading initial data API JSON\n",
            "[info] DHaxfzNT1KA: Downloading subtitles: en, en-US\n",
            "[info] DHaxfzNT1KA: Downloading 1 format(s): 616+251\n",
            "[info] Writing video subtitles to: Gravitational wave discovery leads to greater understanding of the fabric of our universe [DHaxfzNT1KA].en.vtt\n",
            "[hlsnative] Downloading m3u8 manifest\n",
            "[hlsnative] Total fragments: 1\n",
            "[download] Destination: Gravitational wave discovery leads to greater understanding of the fabric of our universe [DHaxfzNT1KA].en.vtt\n",
            "[download] 100% of    9.58KiB in 00:00:00 at 168.25KiB/s             \n",
            "[info] Writing video subtitles to: Gravitational wave discovery leads to greater understanding of the fabric of our universe [DHaxfzNT1KA].en-US.vtt\n",
            "[hlsnative] Downloading m3u8 manifest\n",
            "[hlsnative] Total fragments: 1\n",
            "[download] Destination: Gravitational wave discovery leads to greater understanding of the fabric of our universe [DHaxfzNT1KA].en-US.vtt\n",
            "[download] 100% of    8.40KiB in 00:00:00 at 225.07KiB/s             \n",
            "[youtube] Extracting URL: https://www.youtube.com/watch?v=DHaxfzNT1KA\n",
            "[youtube] DHaxfzNT1KA: Downloading webpage\n"
          ]
        },
        {
          "output_type": "stream",
          "name": "stderr",
          "text": [
            "WARNING: [youtube] unable to extract initial player response; please report this issue on  https://github.com/yt-dlp/yt-dlp/issues?q= , filling out the appropriate issue template. Confirm you are on the latest version using  yt-dlp -U\n"
          ]
        },
        {
          "output_type": "stream",
          "name": "stdout",
          "text": [
            "[youtube] DHaxfzNT1KA: Downloading ios player API JSON\n",
            "[youtube] DHaxfzNT1KA: Downloading android player API JSON\n",
            "[youtube] DHaxfzNT1KA: Downloading iframe API JS\n",
            "[youtube] DHaxfzNT1KA: Downloading web player API JSON\n",
            "[youtube] DHaxfzNT1KA: Downloading m3u8 information\n"
          ]
        },
        {
          "output_type": "stream",
          "name": "stderr",
          "text": [
            "WARNING: [youtube] unable to extract yt initial data; please report this issue on  https://github.com/yt-dlp/yt-dlp/issues?q= , filling out the appropriate issue template. Confirm you are on the latest version using  yt-dlp -U\n",
            "WARNING: [youtube] Incomplete data received in embedded initial data; re-fetching using API.\n"
          ]
        },
        {
          "output_type": "stream",
          "name": "stdout",
          "text": [
            "[youtube] DHaxfzNT1KA: Downloading initial data API JSON\n",
            "[info] DHaxfzNT1KA: Downloading subtitles: en, en-US\n",
            "[info] DHaxfzNT1KA: Downloading 1 format(s): 616+251\n",
            "Deleting existing file Gravitational wave discovery leads to greater understanding of the fabric of our universe [DHaxfzNT1KA].en.vtt\n",
            "[info] Writing video subtitles to: Gravitational wave discovery leads to greater understanding of the fabric of our universe [DHaxfzNT1KA].en.vtt\n",
            "[hlsnative] Downloading m3u8 manifest\n",
            "[hlsnative] Total fragments: 1\n",
            "[download] Destination: Gravitational wave discovery leads to greater understanding of the fabric of our universe [DHaxfzNT1KA].en.vtt\n",
            "[download] 100% of    9.58KiB in 00:00:00 at 170.47KiB/s             \n",
            "Deleting existing file Gravitational wave discovery leads to greater understanding of the fabric of our universe [DHaxfzNT1KA].en-US.vtt\n",
            "[info] Writing video subtitles to: Gravitational wave discovery leads to greater understanding of the fabric of our universe [DHaxfzNT1KA].en-US.vtt\n",
            "[hlsnative] Downloading m3u8 manifest\n",
            "[hlsnative] Total fragments: 1\n",
            "[download] Destination: Gravitational wave discovery leads to greater understanding of the fabric of our universe [DHaxfzNT1KA].en-US.vtt\n",
            "[download] 100% of    8.40KiB in 00:00:00 at 149.03KiB/s             \n",
            "[youtube] Extracting URL: https://www.youtube.com/watch?v=DHaxfzNT1KA\n",
            "[youtube] DHaxfzNT1KA: Downloading webpage\n"
          ]
        },
        {
          "output_type": "stream",
          "name": "stderr",
          "text": [
            "WARNING: [youtube] unable to extract initial player response; please report this issue on  https://github.com/yt-dlp/yt-dlp/issues?q= , filling out the appropriate issue template. Confirm you are on the latest version using  yt-dlp -U\n"
          ]
        },
        {
          "output_type": "stream",
          "name": "stdout",
          "text": [
            "[youtube] DHaxfzNT1KA: Downloading ios player API JSON\n",
            "[youtube] DHaxfzNT1KA: Downloading android player API JSON\n",
            "[youtube] DHaxfzNT1KA: Downloading iframe API JS\n",
            "[youtube] DHaxfzNT1KA: Downloading web player API JSON\n",
            "[youtube] DHaxfzNT1KA: Downloading m3u8 information\n"
          ]
        },
        {
          "output_type": "stream",
          "name": "stderr",
          "text": [
            "WARNING: [youtube] unable to extract yt initial data; please report this issue on  https://github.com/yt-dlp/yt-dlp/issues?q= , filling out the appropriate issue template. Confirm you are on the latest version using  yt-dlp -U\n",
            "WARNING: [youtube] Incomplete data received in embedded initial data; re-fetching using API.\n"
          ]
        },
        {
          "output_type": "stream",
          "name": "stdout",
          "text": [
            "[youtube] DHaxfzNT1KA: Downloading initial data API JSON\n",
            "[info] DHaxfzNT1KA: Downloading subtitles: en, en-US\n",
            "[info] DHaxfzNT1KA: Downloading 1 format(s): 616+251\n",
            "Deleting existing file Gravitational wave discovery leads to greater understanding of the fabric of our universe [DHaxfzNT1KA].en.vtt\n",
            "[info] Writing video subtitles to: Gravitational wave discovery leads to greater understanding of the fabric of our universe [DHaxfzNT1KA].en.vtt\n",
            "[hlsnative] Downloading m3u8 manifest\n",
            "[hlsnative] Total fragments: 1\n",
            "[download] Destination: Gravitational wave discovery leads to greater understanding of the fabric of our universe [DHaxfzNT1KA].en.vtt\n",
            "[download] 100% of    9.58KiB in 00:00:00 at 174.76KiB/s             \n",
            "Deleting existing file Gravitational wave discovery leads to greater understanding of the fabric of our universe [DHaxfzNT1KA].en-US.vtt\n",
            "[info] Writing video subtitles to: Gravitational wave discovery leads to greater understanding of the fabric of our universe [DHaxfzNT1KA].en-US.vtt\n",
            "[hlsnative] Downloading m3u8 manifest\n",
            "[hlsnative] Total fragments: 1\n",
            "[download] Destination: Gravitational wave discovery leads to greater understanding of the fabric of our universe [DHaxfzNT1KA].en-US.vtt\n",
            "[download] 100% of    8.40KiB in 00:00:00 at 221.69KiB/s             \n",
            "[youtube] Extracting URL: https://www.youtube.com/watch?v=DHaxfzNT1KA\n",
            "[youtube] DHaxfzNT1KA: Downloading webpage\n"
          ]
        },
        {
          "output_type": "stream",
          "name": "stderr",
          "text": [
            "WARNING: [youtube] unable to extract initial player response; please report this issue on  https://github.com/yt-dlp/yt-dlp/issues?q= , filling out the appropriate issue template. Confirm you are on the latest version using  yt-dlp -U\n"
          ]
        },
        {
          "output_type": "stream",
          "name": "stdout",
          "text": [
            "[youtube] DHaxfzNT1KA: Downloading ios player API JSON\n",
            "[youtube] DHaxfzNT1KA: Downloading android player API JSON\n",
            "[youtube] DHaxfzNT1KA: Downloading iframe API JS\n",
            "[youtube] DHaxfzNT1KA: Downloading web player API JSON\n",
            "[youtube] DHaxfzNT1KA: Downloading m3u8 information\n"
          ]
        },
        {
          "output_type": "stream",
          "name": "stderr",
          "text": [
            "WARNING: [youtube] unable to extract yt initial data; please report this issue on  https://github.com/yt-dlp/yt-dlp/issues?q= , filling out the appropriate issue template. Confirm you are on the latest version using  yt-dlp -U\n",
            "WARNING: [youtube] Incomplete data received in embedded initial data; re-fetching using API.\n"
          ]
        },
        {
          "output_type": "stream",
          "name": "stdout",
          "text": [
            "[youtube] DHaxfzNT1KA: Downloading initial data API JSON\n",
            "[info] DHaxfzNT1KA: Downloading subtitles: en, en-US\n",
            "[info] DHaxfzNT1KA: Downloading 1 format(s): 616+251\n",
            "Deleting existing file Gravitational wave discovery leads to greater understanding of the fabric of our universe [DHaxfzNT1KA].en.vtt\n",
            "[info] Writing video subtitles to: Gravitational wave discovery leads to greater understanding of the fabric of our universe [DHaxfzNT1KA].en.vtt\n",
            "[hlsnative] Downloading m3u8 manifest\n",
            "[hlsnative] Total fragments: 1\n",
            "[download] Destination: Gravitational wave discovery leads to greater understanding of the fabric of our universe [DHaxfzNT1KA].en.vtt\n",
            "[download] 100% of    9.58KiB in 00:00:00 at 170.37KiB/s             \n",
            "Deleting existing file Gravitational wave discovery leads to greater understanding of the fabric of our universe [DHaxfzNT1KA].en-US.vtt\n",
            "[info] Writing video subtitles to: Gravitational wave discovery leads to greater understanding of the fabric of our universe [DHaxfzNT1KA].en-US.vtt\n",
            "[hlsnative] Downloading m3u8 manifest\n",
            "[hlsnative] Total fragments: 1\n",
            "[download] Destination: Gravitational wave discovery leads to greater understanding of the fabric of our universe [DHaxfzNT1KA].en-US.vtt\n",
            "[download] 100% of    8.40KiB in 00:00:00 at 211.04KiB/s             \n",
            "[youtube] Extracting URL: https://www.youtube.com/watch?v=DHaxfzNT1KA\n",
            "[youtube] DHaxfzNT1KA: Downloading webpage\n"
          ]
        },
        {
          "output_type": "stream",
          "name": "stderr",
          "text": [
            "WARNING: [youtube] unable to extract initial player response; please report this issue on  https://github.com/yt-dlp/yt-dlp/issues?q= , filling out the appropriate issue template. Confirm you are on the latest version using  yt-dlp -U\n"
          ]
        },
        {
          "output_type": "stream",
          "name": "stdout",
          "text": [
            "[youtube] DHaxfzNT1KA: Downloading ios player API JSON\n",
            "[youtube] DHaxfzNT1KA: Downloading android player API JSON\n",
            "[youtube] DHaxfzNT1KA: Downloading iframe API JS\n",
            "[youtube] DHaxfzNT1KA: Downloading web player API JSON\n",
            "[youtube] DHaxfzNT1KA: Downloading m3u8 information\n"
          ]
        },
        {
          "output_type": "stream",
          "name": "stderr",
          "text": [
            "WARNING: [youtube] unable to extract yt initial data; please report this issue on  https://github.com/yt-dlp/yt-dlp/issues?q= , filling out the appropriate issue template. Confirm you are on the latest version using  yt-dlp -U\n",
            "WARNING: [youtube] Incomplete data received in embedded initial data; re-fetching using API.\n"
          ]
        },
        {
          "output_type": "stream",
          "name": "stdout",
          "text": [
            "[youtube] DHaxfzNT1KA: Downloading initial data API JSON\n",
            "[info] DHaxfzNT1KA: Downloading subtitles: en, en-US\n",
            "[info] DHaxfzNT1KA: Downloading 1 format(s): 616+251\n",
            "Deleting existing file Gravitational wave discovery leads to greater understanding of the fabric of our universe [DHaxfzNT1KA].en.vtt\n",
            "[info] Writing video subtitles to: Gravitational wave discovery leads to greater understanding of the fabric of our universe [DHaxfzNT1KA].en.vtt\n",
            "[hlsnative] Downloading m3u8 manifest\n",
            "[hlsnative] Total fragments: 1\n",
            "[download] Destination: Gravitational wave discovery leads to greater understanding of the fabric of our universe [DHaxfzNT1KA].en.vtt\n",
            "[download] 100% of    9.58KiB in 00:00:00 at 155.15KiB/s             \n",
            "Deleting existing file Gravitational wave discovery leads to greater understanding of the fabric of our universe [DHaxfzNT1KA].en-US.vtt\n",
            "[info] Writing video subtitles to: Gravitational wave discovery leads to greater understanding of the fabric of our universe [DHaxfzNT1KA].en-US.vtt\n",
            "[hlsnative] Downloading m3u8 manifest\n",
            "[hlsnative] Total fragments: 1\n",
            "[download] Destination: Gravitational wave discovery leads to greater understanding of the fabric of our universe [DHaxfzNT1KA].en-US.vtt\n",
            "[download] 100% of    8.40KiB in 00:00:00 at 284.82KiB/s             \n",
            "[youtube] Extracting URL: https://www.youtube.com/watch?v=DHaxfzNT1KA\n",
            "[youtube] DHaxfzNT1KA: Downloading webpage\n"
          ]
        },
        {
          "output_type": "stream",
          "name": "stderr",
          "text": [
            "WARNING: [youtube] unable to extract initial player response; please report this issue on  https://github.com/yt-dlp/yt-dlp/issues?q= , filling out the appropriate issue template. Confirm you are on the latest version using  yt-dlp -U\n"
          ]
        },
        {
          "output_type": "stream",
          "name": "stdout",
          "text": [
            "[youtube] DHaxfzNT1KA: Downloading ios player API JSON\n",
            "[youtube] DHaxfzNT1KA: Downloading android player API JSON\n",
            "[youtube] DHaxfzNT1KA: Downloading iframe API JS\n",
            "[youtube] DHaxfzNT1KA: Downloading web player API JSON\n",
            "[youtube] DHaxfzNT1KA: Downloading m3u8 information\n"
          ]
        },
        {
          "output_type": "stream",
          "name": "stderr",
          "text": [
            "WARNING: [youtube] unable to extract yt initial data; please report this issue on  https://github.com/yt-dlp/yt-dlp/issues?q= , filling out the appropriate issue template. Confirm you are on the latest version using  yt-dlp -U\n",
            "WARNING: [youtube] Incomplete data received in embedded initial data; re-fetching using API.\n"
          ]
        },
        {
          "output_type": "stream",
          "name": "stdout",
          "text": [
            "[youtube] DHaxfzNT1KA: Downloading initial data API JSON\n",
            "[info] DHaxfzNT1KA: Downloading subtitles: en, en-US\n",
            "[info] DHaxfzNT1KA: Downloading 1 format(s): 616+251\n",
            "Deleting existing file Gravitational wave discovery leads to greater understanding of the fabric of our universe [DHaxfzNT1KA].en.vtt\n",
            "[info] Writing video subtitles to: Gravitational wave discovery leads to greater understanding of the fabric of our universe [DHaxfzNT1KA].en.vtt\n",
            "[hlsnative] Downloading m3u8 manifest\n",
            "[hlsnative] Total fragments: 1\n",
            "[download] Destination: Gravitational wave discovery leads to greater understanding of the fabric of our universe [DHaxfzNT1KA].en.vtt\n",
            "[download] 100% of    9.58KiB in 00:00:00 at 184.48KiB/s             \n",
            "Deleting existing file Gravitational wave discovery leads to greater understanding of the fabric of our universe [DHaxfzNT1KA].en-US.vtt\n",
            "[info] Writing video subtitles to: Gravitational wave discovery leads to greater understanding of the fabric of our universe [DHaxfzNT1KA].en-US.vtt\n",
            "[hlsnative] Downloading m3u8 manifest\n",
            "[hlsnative] Total fragments: 1\n",
            "[download] Destination: Gravitational wave discovery leads to greater understanding of the fabric of our universe [DHaxfzNT1KA].en-US.vtt\n",
            "[download] 100% of    8.40KiB in 00:00:00 at 239.62KiB/s             \n",
            "[youtube] Extracting URL: https://www.youtube.com/watch?v=DHaxfzNT1KA\n",
            "[youtube] DHaxfzNT1KA: Downloading webpage\n"
          ]
        },
        {
          "output_type": "stream",
          "name": "stderr",
          "text": [
            "WARNING: [youtube] unable to extract initial player response; please report this issue on  https://github.com/yt-dlp/yt-dlp/issues?q= , filling out the appropriate issue template. Confirm you are on the latest version using  yt-dlp -U\n"
          ]
        },
        {
          "output_type": "stream",
          "name": "stdout",
          "text": [
            "[youtube] DHaxfzNT1KA: Downloading ios player API JSON\n",
            "[youtube] DHaxfzNT1KA: Downloading android player API JSON\n",
            "[youtube] DHaxfzNT1KA: Downloading iframe API JS\n",
            "[youtube] DHaxfzNT1KA: Downloading web player API JSON\n",
            "[youtube] DHaxfzNT1KA: Downloading m3u8 information\n"
          ]
        },
        {
          "output_type": "stream",
          "name": "stderr",
          "text": [
            "WARNING: [youtube] unable to extract yt initial data; please report this issue on  https://github.com/yt-dlp/yt-dlp/issues?q= , filling out the appropriate issue template. Confirm you are on the latest version using  yt-dlp -U\n",
            "WARNING: [youtube] Incomplete data received in embedded initial data; re-fetching using API.\n"
          ]
        },
        {
          "output_type": "stream",
          "name": "stdout",
          "text": [
            "[youtube] DHaxfzNT1KA: Downloading initial data API JSON\n",
            "[info] DHaxfzNT1KA: Downloading subtitles: en, en-US\n",
            "[info] DHaxfzNT1KA: Downloading 1 format(s): 616+251\n",
            "Deleting existing file Gravitational wave discovery leads to greater understanding of the fabric of our universe [DHaxfzNT1KA].en.vtt\n",
            "[info] Writing video subtitles to: Gravitational wave discovery leads to greater understanding of the fabric of our universe [DHaxfzNT1KA].en.vtt\n",
            "[hlsnative] Downloading m3u8 manifest\n",
            "[hlsnative] Total fragments: 1\n",
            "[download] Destination: Gravitational wave discovery leads to greater understanding of the fabric of our universe [DHaxfzNT1KA].en.vtt\n",
            "[download] 100% of    9.58KiB in 00:00:00 at 180.67KiB/s             \n",
            "Deleting existing file Gravitational wave discovery leads to greater understanding of the fabric of our universe [DHaxfzNT1KA].en-US.vtt\n",
            "[info] Writing video subtitles to: Gravitational wave discovery leads to greater understanding of the fabric of our universe [DHaxfzNT1KA].en-US.vtt\n",
            "[hlsnative] Downloading m3u8 manifest\n",
            "[hlsnative] Total fragments: 1\n",
            "[download] Destination: Gravitational wave discovery leads to greater understanding of the fabric of our universe [DHaxfzNT1KA].en-US.vtt\n",
            "[download] 100% of    8.40KiB in 00:00:00 at 228.77KiB/s             \n",
            "[youtube] Extracting URL: https://www.youtube.com/watch?v=DHaxfzNT1KA\n",
            "[youtube] DHaxfzNT1KA: Downloading webpage\n"
          ]
        },
        {
          "output_type": "stream",
          "name": "stderr",
          "text": [
            "WARNING: [youtube] unable to extract initial player response; please report this issue on  https://github.com/yt-dlp/yt-dlp/issues?q= , filling out the appropriate issue template. Confirm you are on the latest version using  yt-dlp -U\n"
          ]
        },
        {
          "output_type": "stream",
          "name": "stdout",
          "text": [
            "[youtube] DHaxfzNT1KA: Downloading ios player API JSON\n",
            "[youtube] DHaxfzNT1KA: Downloading android player API JSON\n",
            "[youtube] DHaxfzNT1KA: Downloading iframe API JS\n",
            "[youtube] DHaxfzNT1KA: Downloading web player API JSON\n",
            "[youtube] DHaxfzNT1KA: Downloading m3u8 information\n"
          ]
        },
        {
          "output_type": "stream",
          "name": "stderr",
          "text": [
            "WARNING: [youtube] unable to extract yt initial data; please report this issue on  https://github.com/yt-dlp/yt-dlp/issues?q= , filling out the appropriate issue template. Confirm you are on the latest version using  yt-dlp -U\n",
            "WARNING: [youtube] Incomplete data received in embedded initial data; re-fetching using API.\n"
          ]
        },
        {
          "output_type": "stream",
          "name": "stdout",
          "text": [
            "[youtube] DHaxfzNT1KA: Downloading initial data API JSON\n",
            "[info] DHaxfzNT1KA: Downloading subtitles: en, en-US\n",
            "[info] DHaxfzNT1KA: Downloading 1 format(s): 616+251\n",
            "Deleting existing file Gravitational wave discovery leads to greater understanding of the fabric of our universe [DHaxfzNT1KA].en.vtt\n",
            "[info] Writing video subtitles to: Gravitational wave discovery leads to greater understanding of the fabric of our universe [DHaxfzNT1KA].en.vtt\n",
            "[hlsnative] Downloading m3u8 manifest\n",
            "[hlsnative] Total fragments: 1\n",
            "[download] Destination: Gravitational wave discovery leads to greater understanding of the fabric of our universe [DHaxfzNT1KA].en.vtt\n",
            "[download] 100% of    9.58KiB in 00:00:00 at 237.85KiB/s             \n",
            "Deleting existing file Gravitational wave discovery leads to greater understanding of the fabric of our universe [DHaxfzNT1KA].en-US.vtt\n",
            "[info] Writing video subtitles to: Gravitational wave discovery leads to greater understanding of the fabric of our universe [DHaxfzNT1KA].en-US.vtt\n",
            "[hlsnative] Downloading m3u8 manifest\n",
            "[hlsnative] Total fragments: 1\n",
            "[download] Destination: Gravitational wave discovery leads to greater understanding of the fabric of our universe [DHaxfzNT1KA].en-US.vtt\n",
            "[download] 100% of    8.40KiB in 00:00:00 at 266.08KiB/s             \n",
            "[youtube] Extracting URL: https://www.youtube.com/watch?v=DHaxfzNT1KA\n",
            "[youtube] DHaxfzNT1KA: Downloading webpage\n"
          ]
        },
        {
          "output_type": "stream",
          "name": "stderr",
          "text": [
            "WARNING: [youtube] unable to extract initial player response; please report this issue on  https://github.com/yt-dlp/yt-dlp/issues?q= , filling out the appropriate issue template. Confirm you are on the latest version using  yt-dlp -U\n"
          ]
        },
        {
          "output_type": "stream",
          "name": "stdout",
          "text": [
            "[youtube] DHaxfzNT1KA: Downloading ios player API JSON\n",
            "[youtube] DHaxfzNT1KA: Downloading android player API JSON\n",
            "[youtube] DHaxfzNT1KA: Downloading iframe API JS\n",
            "[youtube] DHaxfzNT1KA: Downloading web player API JSON\n",
            "[youtube] DHaxfzNT1KA: Downloading m3u8 information\n"
          ]
        },
        {
          "output_type": "stream",
          "name": "stderr",
          "text": [
            "WARNING: [youtube] unable to extract yt initial data; please report this issue on  https://github.com/yt-dlp/yt-dlp/issues?q= , filling out the appropriate issue template. Confirm you are on the latest version using  yt-dlp -U\n",
            "WARNING: [youtube] Incomplete data received in embedded initial data; re-fetching using API.\n"
          ]
        },
        {
          "output_type": "stream",
          "name": "stdout",
          "text": [
            "[youtube] DHaxfzNT1KA: Downloading initial data API JSON\n",
            "[info] DHaxfzNT1KA: Downloading subtitles: en, en-US\n",
            "[info] DHaxfzNT1KA: Downloading 1 format(s): 616+251\n",
            "Deleting existing file Gravitational wave discovery leads to greater understanding of the fabric of our universe [DHaxfzNT1KA].en.vtt\n",
            "[info] Writing video subtitles to: Gravitational wave discovery leads to greater understanding of the fabric of our universe [DHaxfzNT1KA].en.vtt\n",
            "[hlsnative] Downloading m3u8 manifest\n",
            "[hlsnative] Total fragments: 1\n",
            "[download] Destination: Gravitational wave discovery leads to greater understanding of the fabric of our universe [DHaxfzNT1KA].en.vtt\n",
            "[download] 100% of    9.58KiB in 00:00:00 at 173.43KiB/s             \n",
            "Deleting existing file Gravitational wave discovery leads to greater understanding of the fabric of our universe [DHaxfzNT1KA].en-US.vtt\n",
            "[info] Writing video subtitles to: Gravitational wave discovery leads to greater understanding of the fabric of our universe [DHaxfzNT1KA].en-US.vtt\n",
            "[hlsnative] Downloading m3u8 manifest\n",
            "[hlsnative] Total fragments: 1\n",
            "[download] Destination: Gravitational wave discovery leads to greater understanding of the fabric of our universe [DHaxfzNT1KA].en-US.vtt\n",
            "[download] 100% of    8.40KiB in 00:00:00 at 186.18KiB/s             \n",
            "[youtube] Extracting URL: https://www.youtube.com/watch?v=DHaxfzNT1KA\n",
            "[youtube] DHaxfzNT1KA: Downloading webpage\n"
          ]
        },
        {
          "output_type": "stream",
          "name": "stderr",
          "text": [
            "WARNING: [youtube] unable to extract initial player response; please report this issue on  https://github.com/yt-dlp/yt-dlp/issues?q= , filling out the appropriate issue template. Confirm you are on the latest version using  yt-dlp -U\n"
          ]
        },
        {
          "output_type": "stream",
          "name": "stdout",
          "text": [
            "[youtube] DHaxfzNT1KA: Downloading ios player API JSON\n",
            "[youtube] DHaxfzNT1KA: Downloading android player API JSON\n",
            "[youtube] DHaxfzNT1KA: Downloading iframe API JS\n",
            "[youtube] DHaxfzNT1KA: Downloading web player API JSON\n",
            "[youtube] DHaxfzNT1KA: Downloading m3u8 information\n"
          ]
        },
        {
          "output_type": "stream",
          "name": "stderr",
          "text": [
            "WARNING: [youtube] unable to extract yt initial data; please report this issue on  https://github.com/yt-dlp/yt-dlp/issues?q= , filling out the appropriate issue template. Confirm you are on the latest version using  yt-dlp -U\n",
            "WARNING: [youtube] Incomplete data received in embedded initial data; re-fetching using API.\n"
          ]
        },
        {
          "output_type": "stream",
          "name": "stdout",
          "text": [
            "[youtube] DHaxfzNT1KA: Downloading initial data API JSON\n",
            "[info] DHaxfzNT1KA: Downloading subtitles: en, en-US\n",
            "[info] DHaxfzNT1KA: Downloading 1 format(s): 616+251\n",
            "Deleting existing file Gravitational wave discovery leads to greater understanding of the fabric of our universe [DHaxfzNT1KA].en.vtt\n",
            "[info] Writing video subtitles to: Gravitational wave discovery leads to greater understanding of the fabric of our universe [DHaxfzNT1KA].en.vtt\n",
            "[hlsnative] Downloading m3u8 manifest\n",
            "[hlsnative] Total fragments: 1\n",
            "[download] Destination: Gravitational wave discovery leads to greater understanding of the fabric of our universe [DHaxfzNT1KA].en.vtt\n",
            "[download] 100% of    9.58KiB in 00:00:00 at 193.44KiB/s             \n",
            "Deleting existing file Gravitational wave discovery leads to greater understanding of the fabric of our universe [DHaxfzNT1KA].en-US.vtt\n",
            "[info] Writing video subtitles to: Gravitational wave discovery leads to greater understanding of the fabric of our universe [DHaxfzNT1KA].en-US.vtt\n",
            "[hlsnative] Downloading m3u8 manifest\n",
            "[hlsnative] Total fragments: 1\n",
            "[download] Destination: Gravitational wave discovery leads to greater understanding of the fabric of our universe [DHaxfzNT1KA].en-US.vtt\n",
            "[download] 100% of    8.40KiB in 00:00:00 at 179.08KiB/s             \n",
            "[youtube] Extracting URL: https://www.youtube.com/watch?v=DHaxfzNT1KA\n",
            "[youtube] DHaxfzNT1KA: Downloading webpage\n"
          ]
        },
        {
          "output_type": "stream",
          "name": "stderr",
          "text": [
            "WARNING: [youtube] unable to extract initial player response; please report this issue on  https://github.com/yt-dlp/yt-dlp/issues?q= , filling out the appropriate issue template. Confirm you are on the latest version using  yt-dlp -U\n"
          ]
        },
        {
          "output_type": "stream",
          "name": "stdout",
          "text": [
            "[youtube] DHaxfzNT1KA: Downloading ios player API JSON\n",
            "[youtube] DHaxfzNT1KA: Downloading android player API JSON\n",
            "[youtube] DHaxfzNT1KA: Downloading iframe API JS\n",
            "[youtube] DHaxfzNT1KA: Downloading web player API JSON\n",
            "[youtube] DHaxfzNT1KA: Downloading m3u8 information\n"
          ]
        },
        {
          "output_type": "stream",
          "name": "stderr",
          "text": [
            "WARNING: [youtube] unable to extract yt initial data; please report this issue on  https://github.com/yt-dlp/yt-dlp/issues?q= , filling out the appropriate issue template. Confirm you are on the latest version using  yt-dlp -U\n",
            "WARNING: [youtube] Incomplete data received in embedded initial data; re-fetching using API.\n"
          ]
        },
        {
          "output_type": "stream",
          "name": "stdout",
          "text": [
            "[youtube] DHaxfzNT1KA: Downloading initial data API JSON\n",
            "[info] DHaxfzNT1KA: Downloading subtitles: en, en-US\n",
            "[info] DHaxfzNT1KA: Downloading 1 format(s): 616+251\n",
            "Deleting existing file Gravitational wave discovery leads to greater understanding of the fabric of our universe [DHaxfzNT1KA].en.vtt\n",
            "[info] Writing video subtitles to: Gravitational wave discovery leads to greater understanding of the fabric of our universe [DHaxfzNT1KA].en.vtt\n",
            "[hlsnative] Downloading m3u8 manifest\n",
            "[hlsnative] Total fragments: 1\n",
            "[download] Destination: Gravitational wave discovery leads to greater understanding of the fabric of our universe [DHaxfzNT1KA].en.vtt\n",
            "[download] 100% of    9.58KiB in 00:00:00 at 162.73KiB/s             \n",
            "Deleting existing file Gravitational wave discovery leads to greater understanding of the fabric of our universe [DHaxfzNT1KA].en-US.vtt\n",
            "[info] Writing video subtitles to: Gravitational wave discovery leads to greater understanding of the fabric of our universe [DHaxfzNT1KA].en-US.vtt\n",
            "[hlsnative] Downloading m3u8 manifest\n",
            "[hlsnative] Total fragments: 1\n",
            "[download] Destination: Gravitational wave discovery leads to greater understanding of the fabric of our universe [DHaxfzNT1KA].en-US.vtt\n",
            "[download] 100% of    8.40KiB in 00:00:00 at 236.47KiB/s             \n",
            "[youtube] Extracting URL: https://www.youtube.com/watch?v=DHaxfzNT1KA\n",
            "[youtube] DHaxfzNT1KA: Downloading webpage\n"
          ]
        },
        {
          "output_type": "stream",
          "name": "stderr",
          "text": [
            "WARNING: [youtube] unable to extract initial player response; please report this issue on  https://github.com/yt-dlp/yt-dlp/issues?q= , filling out the appropriate issue template. Confirm you are on the latest version using  yt-dlp -U\n"
          ]
        },
        {
          "output_type": "stream",
          "name": "stdout",
          "text": [
            "[youtube] DHaxfzNT1KA: Downloading ios player API JSON\n",
            "[youtube] DHaxfzNT1KA: Downloading android player API JSON\n",
            "[youtube] DHaxfzNT1KA: Downloading iframe API JS\n",
            "[youtube] DHaxfzNT1KA: Downloading web player API JSON\n",
            "[youtube] DHaxfzNT1KA: Downloading m3u8 information\n"
          ]
        },
        {
          "output_type": "stream",
          "name": "stderr",
          "text": [
            "WARNING: [youtube] unable to extract yt initial data; please report this issue on  https://github.com/yt-dlp/yt-dlp/issues?q= , filling out the appropriate issue template. Confirm you are on the latest version using  yt-dlp -U\n",
            "WARNING: [youtube] Incomplete data received in embedded initial data; re-fetching using API.\n"
          ]
        },
        {
          "output_type": "stream",
          "name": "stdout",
          "text": [
            "[youtube] DHaxfzNT1KA: Downloading initial data API JSON\n",
            "[info] DHaxfzNT1KA: Downloading subtitles: en, en-US\n",
            "[info] DHaxfzNT1KA: Downloading 1 format(s): 616+251\n",
            "Deleting existing file Gravitational wave discovery leads to greater understanding of the fabric of our universe [DHaxfzNT1KA].en.vtt\n",
            "[info] Writing video subtitles to: Gravitational wave discovery leads to greater understanding of the fabric of our universe [DHaxfzNT1KA].en.vtt\n",
            "[hlsnative] Downloading m3u8 manifest\n",
            "[hlsnative] Total fragments: 1\n",
            "[download] Destination: Gravitational wave discovery leads to greater understanding of the fabric of our universe [DHaxfzNT1KA].en.vtt\n",
            "[download] 100% of    9.58KiB in 00:00:00 at 212.25KiB/s             \n",
            "Deleting existing file Gravitational wave discovery leads to greater understanding of the fabric of our universe [DHaxfzNT1KA].en-US.vtt\n",
            "[info] Writing video subtitles to: Gravitational wave discovery leads to greater understanding of the fabric of our universe [DHaxfzNT1KA].en-US.vtt\n",
            "[hlsnative] Downloading m3u8 manifest\n",
            "[hlsnative] Total fragments: 1\n",
            "[download] Destination: Gravitational wave discovery leads to greater understanding of the fabric of our universe [DHaxfzNT1KA].en-US.vtt\n",
            "[download] 100% of    8.40KiB in 00:00:00 at 247.16KiB/s             \n",
            "[youtube] Extracting URL: https://www.youtube.com/watch?v=DHaxfzNT1KA\n",
            "[youtube] DHaxfzNT1KA: Downloading webpage\n"
          ]
        },
        {
          "output_type": "stream",
          "name": "stderr",
          "text": [
            "WARNING: [youtube] unable to extract initial player response; please report this issue on  https://github.com/yt-dlp/yt-dlp/issues?q= , filling out the appropriate issue template. Confirm you are on the latest version using  yt-dlp -U\n"
          ]
        },
        {
          "output_type": "stream",
          "name": "stdout",
          "text": [
            "[youtube] DHaxfzNT1KA: Downloading ios player API JSON\n",
            "[youtube] DHaxfzNT1KA: Downloading android player API JSON\n",
            "[youtube] DHaxfzNT1KA: Downloading iframe API JS\n",
            "[youtube] DHaxfzNT1KA: Downloading web player API JSON\n",
            "[youtube] DHaxfzNT1KA: Downloading m3u8 information\n"
          ]
        },
        {
          "output_type": "stream",
          "name": "stderr",
          "text": [
            "WARNING: [youtube] unable to extract yt initial data; please report this issue on  https://github.com/yt-dlp/yt-dlp/issues?q= , filling out the appropriate issue template. Confirm you are on the latest version using  yt-dlp -U\n",
            "WARNING: [youtube] Incomplete data received in embedded initial data; re-fetching using API.\n"
          ]
        },
        {
          "output_type": "stream",
          "name": "stdout",
          "text": [
            "[youtube] DHaxfzNT1KA: Downloading initial data API JSON\n",
            "[info] DHaxfzNT1KA: Downloading subtitles: en, en-US\n",
            "[info] DHaxfzNT1KA: Downloading 1 format(s): 616+251\n",
            "Deleting existing file Gravitational wave discovery leads to greater understanding of the fabric of our universe [DHaxfzNT1KA].en.vtt\n",
            "[info] Writing video subtitles to: Gravitational wave discovery leads to greater understanding of the fabric of our universe [DHaxfzNT1KA].en.vtt\n",
            "[hlsnative] Downloading m3u8 manifest\n",
            "[hlsnative] Total fragments: 1\n",
            "[download] Destination: Gravitational wave discovery leads to greater understanding of the fabric of our universe [DHaxfzNT1KA].en.vtt\n",
            "[download] 100% of    9.58KiB in 00:00:00 at 227.52KiB/s             \n",
            "Deleting existing file Gravitational wave discovery leads to greater understanding of the fabric of our universe [DHaxfzNT1KA].en-US.vtt\n",
            "[info] Writing video subtitles to: Gravitational wave discovery leads to greater understanding of the fabric of our universe [DHaxfzNT1KA].en-US.vtt\n",
            "[hlsnative] Downloading m3u8 manifest\n",
            "[hlsnative] Total fragments: 1\n",
            "[download] Destination: Gravitational wave discovery leads to greater understanding of the fabric of our universe [DHaxfzNT1KA].en-US.vtt\n",
            "[download] 100% of    8.40KiB in 00:00:00 at 250.58KiB/s             \n",
            "[youtube] Extracting URL: https://www.youtube.com/watch?v=DHaxfzNT1KA\n",
            "[youtube] DHaxfzNT1KA: Downloading webpage\n"
          ]
        },
        {
          "output_type": "stream",
          "name": "stderr",
          "text": [
            "WARNING: [youtube] unable to extract initial player response; please report this issue on  https://github.com/yt-dlp/yt-dlp/issues?q= , filling out the appropriate issue template. Confirm you are on the latest version using  yt-dlp -U\n"
          ]
        },
        {
          "output_type": "stream",
          "name": "stdout",
          "text": [
            "[youtube] DHaxfzNT1KA: Downloading ios player API JSON\n",
            "[youtube] DHaxfzNT1KA: Downloading android player API JSON\n",
            "[youtube] DHaxfzNT1KA: Downloading iframe API JS\n",
            "[youtube] DHaxfzNT1KA: Downloading web player API JSON\n",
            "[youtube] DHaxfzNT1KA: Downloading m3u8 information\n"
          ]
        },
        {
          "output_type": "stream",
          "name": "stderr",
          "text": [
            "WARNING: [youtube] unable to extract yt initial data; please report this issue on  https://github.com/yt-dlp/yt-dlp/issues?q= , filling out the appropriate issue template. Confirm you are on the latest version using  yt-dlp -U\n",
            "WARNING: [youtube] Incomplete data received in embedded initial data; re-fetching using API.\n"
          ]
        },
        {
          "output_type": "stream",
          "name": "stdout",
          "text": [
            "[youtube] DHaxfzNT1KA: Downloading initial data API JSON\n",
            "[info] DHaxfzNT1KA: Downloading subtitles: en, en-US\n",
            "[info] DHaxfzNT1KA: Downloading 1 format(s): 616+251\n",
            "Deleting existing file Gravitational wave discovery leads to greater understanding of the fabric of our universe [DHaxfzNT1KA].en.vtt\n",
            "[info] Writing video subtitles to: Gravitational wave discovery leads to greater understanding of the fabric of our universe [DHaxfzNT1KA].en.vtt\n",
            "[hlsnative] Downloading m3u8 manifest\n",
            "[hlsnative] Total fragments: 1\n",
            "[download] Destination: Gravitational wave discovery leads to greater understanding of the fabric of our universe [DHaxfzNT1KA].en.vtt\n",
            "[download] 100% of    9.58KiB in 00:00:00 at 224.88KiB/s             \n",
            "Deleting existing file Gravitational wave discovery leads to greater understanding of the fabric of our universe [DHaxfzNT1KA].en-US.vtt\n",
            "[info] Writing video subtitles to: Gravitational wave discovery leads to greater understanding of the fabric of our universe [DHaxfzNT1KA].en-US.vtt\n",
            "[hlsnative] Downloading m3u8 manifest\n",
            "[hlsnative] Total fragments: 1\n",
            "[download] Destination: Gravitational wave discovery leads to greater understanding of the fabric of our universe [DHaxfzNT1KA].en-US.vtt\n",
            "[download] 100% of    8.40KiB in 00:00:00 at 243.79KiB/s             \n",
            "[youtube] Extracting URL: https://www.youtube.com/watch?v=DHaxfzNT1KA\n",
            "[youtube] DHaxfzNT1KA: Downloading webpage\n"
          ]
        },
        {
          "output_type": "stream",
          "name": "stderr",
          "text": [
            "WARNING: [youtube] unable to extract initial player response; please report this issue on  https://github.com/yt-dlp/yt-dlp/issues?q= , filling out the appropriate issue template. Confirm you are on the latest version using  yt-dlp -U\n"
          ]
        },
        {
          "output_type": "stream",
          "name": "stdout",
          "text": [
            "[youtube] DHaxfzNT1KA: Downloading ios player API JSON\n",
            "[youtube] DHaxfzNT1KA: Downloading android player API JSON\n",
            "[youtube] DHaxfzNT1KA: Downloading iframe API JS\n",
            "[youtube] DHaxfzNT1KA: Downloading web player API JSON\n",
            "[youtube] DHaxfzNT1KA: Downloading m3u8 information\n"
          ]
        },
        {
          "output_type": "stream",
          "name": "stderr",
          "text": [
            "WARNING: [youtube] unable to extract yt initial data; please report this issue on  https://github.com/yt-dlp/yt-dlp/issues?q= , filling out the appropriate issue template. Confirm you are on the latest version using  yt-dlp -U\n",
            "WARNING: [youtube] Incomplete data received in embedded initial data; re-fetching using API.\n"
          ]
        },
        {
          "output_type": "stream",
          "name": "stdout",
          "text": [
            "[youtube] DHaxfzNT1KA: Downloading initial data API JSON\n",
            "[info] DHaxfzNT1KA: Downloading subtitles: en, en-US\n",
            "[info] DHaxfzNT1KA: Downloading 1 format(s): 616+251\n",
            "Deleting existing file Gravitational wave discovery leads to greater understanding of the fabric of our universe [DHaxfzNT1KA].en.vtt\n",
            "[info] Writing video subtitles to: Gravitational wave discovery leads to greater understanding of the fabric of our universe [DHaxfzNT1KA].en.vtt\n",
            "[hlsnative] Downloading m3u8 manifest\n",
            "[hlsnative] Total fragments: 1\n",
            "[download] Destination: Gravitational wave discovery leads to greater understanding of the fabric of our universe [DHaxfzNT1KA].en.vtt\n",
            "[download] 100% of    9.58KiB in 00:00:00 at 219.24KiB/s             \n",
            "Deleting existing file Gravitational wave discovery leads to greater understanding of the fabric of our universe [DHaxfzNT1KA].en-US.vtt\n",
            "[info] Writing video subtitles to: Gravitational wave discovery leads to greater understanding of the fabric of our universe [DHaxfzNT1KA].en-US.vtt\n",
            "[hlsnative] Downloading m3u8 manifest\n",
            "[hlsnative] Total fragments: 1\n",
            "[download] Destination: Gravitational wave discovery leads to greater understanding of the fabric of our universe [DHaxfzNT1KA].en-US.vtt\n",
            "[download] 100% of    8.40KiB in 00:00:00 at 203.65KiB/s             \n",
            "[youtube] Extracting URL: https://www.youtube.com/watch?v=DHaxfzNT1KA\n",
            "[youtube] DHaxfzNT1KA: Downloading webpage\n"
          ]
        },
        {
          "output_type": "stream",
          "name": "stderr",
          "text": [
            "WARNING: [youtube] unable to extract initial player response; please report this issue on  https://github.com/yt-dlp/yt-dlp/issues?q= , filling out the appropriate issue template. Confirm you are on the latest version using  yt-dlp -U\n"
          ]
        },
        {
          "output_type": "stream",
          "name": "stdout",
          "text": [
            "[youtube] DHaxfzNT1KA: Downloading ios player API JSON\n",
            "[youtube] DHaxfzNT1KA: Downloading android player API JSON\n",
            "[youtube] DHaxfzNT1KA: Downloading iframe API JS\n",
            "[youtube] DHaxfzNT1KA: Downloading web player API JSON\n",
            "[youtube] DHaxfzNT1KA: Downloading m3u8 information\n"
          ]
        },
        {
          "output_type": "stream",
          "name": "stderr",
          "text": [
            "WARNING: [youtube] unable to extract yt initial data; please report this issue on  https://github.com/yt-dlp/yt-dlp/issues?q= , filling out the appropriate issue template. Confirm you are on the latest version using  yt-dlp -U\n",
            "WARNING: [youtube] Incomplete data received in embedded initial data; re-fetching using API.\n"
          ]
        },
        {
          "output_type": "stream",
          "name": "stdout",
          "text": [
            "[youtube] DHaxfzNT1KA: Downloading initial data API JSON\n",
            "[info] DHaxfzNT1KA: Downloading subtitles: en, en-US\n",
            "[info] DHaxfzNT1KA: Downloading 1 format(s): 616+251\n",
            "Deleting existing file Gravitational wave discovery leads to greater understanding of the fabric of our universe [DHaxfzNT1KA].en.vtt\n",
            "[info] Writing video subtitles to: Gravitational wave discovery leads to greater understanding of the fabric of our universe [DHaxfzNT1KA].en.vtt\n",
            "[hlsnative] Downloading m3u8 manifest\n",
            "[hlsnative] Total fragments: 1\n",
            "[download] Destination: Gravitational wave discovery leads to greater understanding of the fabric of our universe [DHaxfzNT1KA].en.vtt\n",
            "[download] 100% of    9.58KiB in 00:00:00 at 223.01KiB/s             \n",
            "Deleting existing file Gravitational wave discovery leads to greater understanding of the fabric of our universe [DHaxfzNT1KA].en-US.vtt\n",
            "[info] Writing video subtitles to: Gravitational wave discovery leads to greater understanding of the fabric of our universe [DHaxfzNT1KA].en-US.vtt\n",
            "[hlsnative] Downloading m3u8 manifest\n",
            "[hlsnative] Total fragments: 1\n",
            "[download] Destination: Gravitational wave discovery leads to greater understanding of the fabric of our universe [DHaxfzNT1KA].en-US.vtt\n",
            "[download] 100% of    8.40KiB in 00:00:00 at 248.81KiB/s             \n"
          ]
        },
        {
          "output_type": "stream",
          "name": "stderr",
          "text": [
            "Token indices sequence length is longer than the specified maximum sequence length for this model (1435 > 1024). Running this sequence through the model will result in indexing errors\n"
          ]
        },
        {
          "output_type": "stream",
          "name": "stdout",
          "text": [
            "text file expected Gravitational wave discovery leads to greater understanding of the fabric of our universe [DHaxfzNT1KA].en.vtt.txt\n",
            "Intermediate Summaries ->>>>>>>>>>>>>>>>>>>>>>>>>\n",
            " ['An international team of scientists has discovered new signs of GRAVITATIONAL WAVES. The waves are RIPPLES in the FABRIC of our universe, the COSMOS as we know it. The scientists have been working on this project for 15 years.', \"The researchers are trying to understand how the universe formed. They think it might be made up of millions of super-MASSIVE BLACK HOLES. They're also looking for GRAVITATIONAL WAVES. The scientists hope to connect the dots between these two phenomena.\"]\n",
            "Summary is ->>>>>>>>>>>>>>>>>>>>>>>>>\n",
            "An international team of scientists has discovered new signs of GRAVITATIONAL WAVES. The waves are RIPPLES in the FABRIC of our universe, the COSMOS as we know it. The scientists have been working on this project for 15 years. The researchers are trying to understand how the universe formed. They think it might be made up of millions of super-MASSIVE BLACK HOLES. They're also looking for GRAVITATIONAL WAVES. The scientists hope to connect the dots between these two phenomena.\n",
            "[youtube] Extracting URL: https://www.youtube.com/watch?v=DHaxfzNT1KA\n",
            "[youtube] DHaxfzNT1KA: Downloading webpage\n"
          ]
        },
        {
          "output_type": "stream",
          "name": "stderr",
          "text": [
            "WARNING: [youtube] unable to extract initial player response; please report this issue on  https://github.com/yt-dlp/yt-dlp/issues?q= , filling out the appropriate issue template. Confirm you are on the latest version using  yt-dlp -U\n"
          ]
        },
        {
          "output_type": "stream",
          "name": "stdout",
          "text": [
            "[youtube] DHaxfzNT1KA: Downloading ios player API JSON\n",
            "[youtube] DHaxfzNT1KA: Downloading android player API JSON\n",
            "[youtube] DHaxfzNT1KA: Downloading iframe API JS\n",
            "[youtube] DHaxfzNT1KA: Downloading player da7c2a60\n",
            "[youtube] DHaxfzNT1KA: Downloading web player API JSON\n",
            "[youtube] DHaxfzNT1KA: Downloading m3u8 information\n"
          ]
        },
        {
          "output_type": "stream",
          "name": "stderr",
          "text": [
            "WARNING: [youtube] unable to extract yt initial data; please report this issue on  https://github.com/yt-dlp/yt-dlp/issues?q= , filling out the appropriate issue template. Confirm you are on the latest version using  yt-dlp -U\n",
            "WARNING: [youtube] Incomplete data received in embedded initial data; re-fetching using API.\n"
          ]
        },
        {
          "output_type": "stream",
          "name": "stdout",
          "text": [
            "[youtube] DHaxfzNT1KA: Downloading initial data API JSON\n",
            "[info] DHaxfzNT1KA: Downloading subtitles: en, en-US\n",
            "[info] DHaxfzNT1KA: Downloading 1 format(s): 616+251\n",
            "Deleting existing file Gravitational wave discovery leads to greater understanding of the fabric of our universe [DHaxfzNT1KA].en.vtt\n",
            "[info] Writing video subtitles to: Gravitational wave discovery leads to greater understanding of the fabric of our universe [DHaxfzNT1KA].en.vtt\n",
            "[hlsnative] Downloading m3u8 manifest\n",
            "[hlsnative] Total fragments: 1\n",
            "[download] Destination: Gravitational wave discovery leads to greater understanding of the fabric of our universe [DHaxfzNT1KA].en.vtt\n",
            "[download] 100% of    9.58KiB in 00:00:00 at 185.00KiB/s             \n",
            "Deleting existing file Gravitational wave discovery leads to greater understanding of the fabric of our universe [DHaxfzNT1KA].en-US.vtt\n",
            "[info] Writing video subtitles to: Gravitational wave discovery leads to greater understanding of the fabric of our universe [DHaxfzNT1KA].en-US.vtt\n",
            "[hlsnative] Downloading m3u8 manifest\n",
            "[hlsnative] Total fragments: 1\n",
            "[download] Destination: Gravitational wave discovery leads to greater understanding of the fabric of our universe [DHaxfzNT1KA].en-US.vtt\n",
            "[download] 100% of    8.40KiB in 00:00:00 at 236.54KiB/s             \n",
            "[youtube] Extracting URL: https://www.youtube.com/watch?v=DHaxfzNT1KA\n",
            "[youtube] DHaxfzNT1KA: Downloading webpage\n"
          ]
        },
        {
          "output_type": "stream",
          "name": "stderr",
          "text": [
            "WARNING: [youtube] unable to extract initial player response; please report this issue on  https://github.com/yt-dlp/yt-dlp/issues?q= , filling out the appropriate issue template. Confirm you are on the latest version using  yt-dlp -U\n"
          ]
        },
        {
          "output_type": "stream",
          "name": "stdout",
          "text": [
            "[youtube] DHaxfzNT1KA: Downloading ios player API JSON\n",
            "[youtube] DHaxfzNT1KA: Downloading android player API JSON\n",
            "[youtube] DHaxfzNT1KA: Downloading iframe API JS\n",
            "[youtube] DHaxfzNT1KA: Downloading web player API JSON\n",
            "[youtube] DHaxfzNT1KA: Downloading m3u8 information\n"
          ]
        },
        {
          "output_type": "stream",
          "name": "stderr",
          "text": [
            "WARNING: [youtube] unable to extract yt initial data; please report this issue on  https://github.com/yt-dlp/yt-dlp/issues?q= , filling out the appropriate issue template. Confirm you are on the latest version using  yt-dlp -U\n",
            "WARNING: [youtube] Incomplete data received in embedded initial data; re-fetching using API.\n"
          ]
        },
        {
          "output_type": "stream",
          "name": "stdout",
          "text": [
            "[youtube] DHaxfzNT1KA: Downloading initial data API JSON\n",
            "[info] DHaxfzNT1KA: Downloading subtitles: en, en-US\n",
            "[info] DHaxfzNT1KA: Downloading 1 format(s): 616+251\n",
            "Deleting existing file Gravitational wave discovery leads to greater understanding of the fabric of our universe [DHaxfzNT1KA].en.vtt\n",
            "[info] Writing video subtitles to: Gravitational wave discovery leads to greater understanding of the fabric of our universe [DHaxfzNT1KA].en.vtt\n",
            "[hlsnative] Downloading m3u8 manifest\n",
            "[hlsnative] Total fragments: 1\n",
            "[download] Destination: Gravitational wave discovery leads to greater understanding of the fabric of our universe [DHaxfzNT1KA].en.vtt\n",
            "[download] 100% of    9.58KiB in 00:00:00 at 59.08KiB/s              \n",
            "Deleting existing file Gravitational wave discovery leads to greater understanding of the fabric of our universe [DHaxfzNT1KA].en-US.vtt\n",
            "[info] Writing video subtitles to: Gravitational wave discovery leads to greater understanding of the fabric of our universe [DHaxfzNT1KA].en-US.vtt\n",
            "[hlsnative] Downloading m3u8 manifest\n",
            "[hlsnative] Total fragments: 1\n",
            "[download] Destination: Gravitational wave discovery leads to greater understanding of the fabric of our universe [DHaxfzNT1KA].en-US.vtt\n",
            "[download] 100% of    8.40KiB in 00:00:00 at 277.71KiB/s             \n",
            "[youtube] Extracting URL: https://www.youtube.com/watch?v=DHaxfzNT1KA\n",
            "[youtube] DHaxfzNT1KA: Downloading webpage\n"
          ]
        },
        {
          "output_type": "stream",
          "name": "stderr",
          "text": [
            "WARNING: [youtube] unable to extract initial player response; please report this issue on  https://github.com/yt-dlp/yt-dlp/issues?q= , filling out the appropriate issue template. Confirm you are on the latest version using  yt-dlp -U\n"
          ]
        },
        {
          "output_type": "stream",
          "name": "stdout",
          "text": [
            "[youtube] DHaxfzNT1KA: Downloading ios player API JSON\n",
            "[youtube] DHaxfzNT1KA: Downloading android player API JSON\n",
            "[youtube] DHaxfzNT1KA: Downloading iframe API JS\n",
            "[youtube] DHaxfzNT1KA: Downloading web player API JSON\n",
            "[youtube] DHaxfzNT1KA: Downloading m3u8 information\n"
          ]
        },
        {
          "output_type": "stream",
          "name": "stderr",
          "text": [
            "WARNING: [youtube] unable to extract yt initial data; please report this issue on  https://github.com/yt-dlp/yt-dlp/issues?q= , filling out the appropriate issue template. Confirm you are on the latest version using  yt-dlp -U\n",
            "WARNING: [youtube] Incomplete data received in embedded initial data; re-fetching using API.\n"
          ]
        },
        {
          "output_type": "stream",
          "name": "stdout",
          "text": [
            "[youtube] DHaxfzNT1KA: Downloading initial data API JSON\n",
            "[info] DHaxfzNT1KA: Downloading subtitles: en, en-US\n",
            "[info] DHaxfzNT1KA: Downloading 1 format(s): 616+251\n",
            "Deleting existing file Gravitational wave discovery leads to greater understanding of the fabric of our universe [DHaxfzNT1KA].en.vtt\n",
            "[info] Writing video subtitles to: Gravitational wave discovery leads to greater understanding of the fabric of our universe [DHaxfzNT1KA].en.vtt\n",
            "[hlsnative] Downloading m3u8 manifest\n",
            "[hlsnative] Total fragments: 1\n",
            "[download] Destination: Gravitational wave discovery leads to greater understanding of the fabric of our universe [DHaxfzNT1KA].en.vtt\n",
            "[download] 100% of    9.58KiB in 00:00:00 at 214.59KiB/s             \n",
            "Deleting existing file Gravitational wave discovery leads to greater understanding of the fabric of our universe [DHaxfzNT1KA].en-US.vtt\n",
            "[info] Writing video subtitles to: Gravitational wave discovery leads to greater understanding of the fabric of our universe [DHaxfzNT1KA].en-US.vtt\n",
            "[hlsnative] Downloading m3u8 manifest\n",
            "[hlsnative] Total fragments: 1\n",
            "[download] Destination: Gravitational wave discovery leads to greater understanding of the fabric of our universe [DHaxfzNT1KA].en-US.vtt\n",
            "[download] 100% of    8.40KiB in 00:00:00 at 241.00KiB/s             \n",
            "[youtube] Extracting URL: https://www.youtube.com/watch?v=DHaxfzNT1KA\n",
            "[youtube] DHaxfzNT1KA: Downloading webpage\n"
          ]
        },
        {
          "output_type": "stream",
          "name": "stderr",
          "text": [
            "WARNING: [youtube] unable to extract initial player response; please report this issue on  https://github.com/yt-dlp/yt-dlp/issues?q= , filling out the appropriate issue template. Confirm you are on the latest version using  yt-dlp -U\n"
          ]
        },
        {
          "output_type": "stream",
          "name": "stdout",
          "text": [
            "[youtube] DHaxfzNT1KA: Downloading ios player API JSON\n",
            "[youtube] DHaxfzNT1KA: Downloading android player API JSON\n",
            "[youtube] DHaxfzNT1KA: Downloading iframe API JS\n",
            "[youtube] DHaxfzNT1KA: Downloading web player API JSON\n",
            "[youtube] DHaxfzNT1KA: Downloading m3u8 information\n"
          ]
        },
        {
          "output_type": "stream",
          "name": "stderr",
          "text": [
            "WARNING: [youtube] unable to extract yt initial data; please report this issue on  https://github.com/yt-dlp/yt-dlp/issues?q= , filling out the appropriate issue template. Confirm you are on the latest version using  yt-dlp -U\n",
            "WARNING: [youtube] Incomplete data received in embedded initial data; re-fetching using API.\n"
          ]
        },
        {
          "output_type": "stream",
          "name": "stdout",
          "text": [
            "[youtube] DHaxfzNT1KA: Downloading initial data API JSON\n",
            "[info] DHaxfzNT1KA: Downloading subtitles: en, en-US\n",
            "[info] DHaxfzNT1KA: Downloading 1 format(s): 616+251\n",
            "Deleting existing file Gravitational wave discovery leads to greater understanding of the fabric of our universe [DHaxfzNT1KA].en.vtt\n",
            "[info] Writing video subtitles to: Gravitational wave discovery leads to greater understanding of the fabric of our universe [DHaxfzNT1KA].en.vtt\n",
            "[hlsnative] Downloading m3u8 manifest\n",
            "[hlsnative] Total fragments: 1\n",
            "[download] Destination: Gravitational wave discovery leads to greater understanding of the fabric of our universe [DHaxfzNT1KA].en.vtt\n",
            "[download] 100% of    9.58KiB in 00:00:00 at 198.20KiB/s             \n",
            "Deleting existing file Gravitational wave discovery leads to greater understanding of the fabric of our universe [DHaxfzNT1KA].en-US.vtt\n",
            "[info] Writing video subtitles to: Gravitational wave discovery leads to greater understanding of the fabric of our universe [DHaxfzNT1KA].en-US.vtt\n",
            "[hlsnative] Downloading m3u8 manifest\n",
            "[hlsnative] Total fragments: 1\n",
            "[download] Destination: Gravitational wave discovery leads to greater understanding of the fabric of our universe [DHaxfzNT1KA].en-US.vtt\n",
            "[download] 100% of    8.40KiB in 00:00:00 at 243.83KiB/s             \n",
            "[youtube] Extracting URL: https://www.youtube.com/watch?v=DHaxfzNT1KA\n",
            "[youtube] DHaxfzNT1KA: Downloading webpage\n"
          ]
        },
        {
          "output_type": "stream",
          "name": "stderr",
          "text": [
            "WARNING: [youtube] unable to extract initial player response; please report this issue on  https://github.com/yt-dlp/yt-dlp/issues?q= , filling out the appropriate issue template. Confirm you are on the latest version using  yt-dlp -U\n"
          ]
        },
        {
          "output_type": "stream",
          "name": "stdout",
          "text": [
            "[youtube] DHaxfzNT1KA: Downloading ios player API JSON\n",
            "[youtube] DHaxfzNT1KA: Downloading android player API JSON\n",
            "[youtube] DHaxfzNT1KA: Downloading iframe API JS\n",
            "[youtube] DHaxfzNT1KA: Downloading web player API JSON\n",
            "[youtube] DHaxfzNT1KA: Downloading m3u8 information\n"
          ]
        },
        {
          "output_type": "stream",
          "name": "stderr",
          "text": [
            "WARNING: [youtube] unable to extract yt initial data; please report this issue on  https://github.com/yt-dlp/yt-dlp/issues?q= , filling out the appropriate issue template. Confirm you are on the latest version using  yt-dlp -U\n",
            "WARNING: [youtube] Incomplete data received in embedded initial data; re-fetching using API.\n"
          ]
        },
        {
          "output_type": "stream",
          "name": "stdout",
          "text": [
            "[youtube] DHaxfzNT1KA: Downloading initial data API JSON\n",
            "[info] DHaxfzNT1KA: Downloading subtitles: en, en-US\n",
            "[info] DHaxfzNT1KA: Downloading 1 format(s): 616+251\n",
            "Deleting existing file Gravitational wave discovery leads to greater understanding of the fabric of our universe [DHaxfzNT1KA].en.vtt\n",
            "[info] Writing video subtitles to: Gravitational wave discovery leads to greater understanding of the fabric of our universe [DHaxfzNT1KA].en.vtt\n",
            "[hlsnative] Downloading m3u8 manifest\n",
            "[hlsnative] Total fragments: 1\n",
            "[download] Destination: Gravitational wave discovery leads to greater understanding of the fabric of our universe [DHaxfzNT1KA].en.vtt\n",
            "[download] 100% of    9.58KiB in 00:00:00 at 181.57KiB/s             \n",
            "Deleting existing file Gravitational wave discovery leads to greater understanding of the fabric of our universe [DHaxfzNT1KA].en-US.vtt\n",
            "[info] Writing video subtitles to: Gravitational wave discovery leads to greater understanding of the fabric of our universe [DHaxfzNT1KA].en-US.vtt\n",
            "[hlsnative] Downloading m3u8 manifest\n",
            "[hlsnative] Total fragments: 1\n",
            "[download] Destination: Gravitational wave discovery leads to greater understanding of the fabric of our universe [DHaxfzNT1KA].en-US.vtt\n",
            "[download] 100% of    8.40KiB in 00:00:00 at 265.46KiB/s             \n",
            "[youtube] Extracting URL: https://www.youtube.com/watch?v=DHaxfzNT1KA\n",
            "[youtube] DHaxfzNT1KA: Downloading webpage\n"
          ]
        },
        {
          "output_type": "stream",
          "name": "stderr",
          "text": [
            "WARNING: [youtube] unable to extract initial player response; please report this issue on  https://github.com/yt-dlp/yt-dlp/issues?q= , filling out the appropriate issue template. Confirm you are on the latest version using  yt-dlp -U\n"
          ]
        },
        {
          "output_type": "stream",
          "name": "stdout",
          "text": [
            "[youtube] DHaxfzNT1KA: Downloading ios player API JSON\n",
            "[youtube] DHaxfzNT1KA: Downloading android player API JSON\n",
            "[youtube] DHaxfzNT1KA: Downloading iframe API JS\n",
            "[youtube] DHaxfzNT1KA: Downloading web player API JSON\n",
            "[youtube] DHaxfzNT1KA: Downloading m3u8 information\n"
          ]
        },
        {
          "output_type": "stream",
          "name": "stderr",
          "text": [
            "WARNING: [youtube] unable to extract yt initial data; please report this issue on  https://github.com/yt-dlp/yt-dlp/issues?q= , filling out the appropriate issue template. Confirm you are on the latest version using  yt-dlp -U\n",
            "WARNING: [youtube] Incomplete data received in embedded initial data; re-fetching using API.\n"
          ]
        },
        {
          "output_type": "stream",
          "name": "stdout",
          "text": [
            "[youtube] DHaxfzNT1KA: Downloading initial data API JSON\n",
            "[info] DHaxfzNT1KA: Downloading subtitles: en, en-US\n",
            "[info] DHaxfzNT1KA: Downloading 1 format(s): 616+251\n",
            "Deleting existing file Gravitational wave discovery leads to greater understanding of the fabric of our universe [DHaxfzNT1KA].en.vtt\n",
            "[info] Writing video subtitles to: Gravitational wave discovery leads to greater understanding of the fabric of our universe [DHaxfzNT1KA].en.vtt\n",
            "[hlsnative] Downloading m3u8 manifest\n",
            "[hlsnative] Total fragments: 1\n",
            "[download] Destination: Gravitational wave discovery leads to greater understanding of the fabric of our universe [DHaxfzNT1KA].en.vtt\n",
            "[download] 100% of    9.58KiB in 00:00:00 at 148.77KiB/s             \n",
            "Deleting existing file Gravitational wave discovery leads to greater understanding of the fabric of our universe [DHaxfzNT1KA].en-US.vtt\n",
            "[info] Writing video subtitles to: Gravitational wave discovery leads to greater understanding of the fabric of our universe [DHaxfzNT1KA].en-US.vtt\n",
            "[hlsnative] Downloading m3u8 manifest\n",
            "[hlsnative] Total fragments: 1\n",
            "[download] Destination: Gravitational wave discovery leads to greater understanding of the fabric of our universe [DHaxfzNT1KA].en-US.vtt\n",
            "[download] 100% of    8.40KiB in 00:00:00 at 119.81KiB/s             \n",
            "[youtube] Extracting URL: https://www.youtube.com/watch?v=DHaxfzNT1KA\n",
            "[youtube] DHaxfzNT1KA: Downloading webpage\n"
          ]
        },
        {
          "output_type": "stream",
          "name": "stderr",
          "text": [
            "WARNING: [youtube] unable to extract initial player response; please report this issue on  https://github.com/yt-dlp/yt-dlp/issues?q= , filling out the appropriate issue template. Confirm you are on the latest version using  yt-dlp -U\n"
          ]
        },
        {
          "output_type": "stream",
          "name": "stdout",
          "text": [
            "[youtube] DHaxfzNT1KA: Downloading ios player API JSON\n",
            "[youtube] DHaxfzNT1KA: Downloading android player API JSON\n",
            "[youtube] DHaxfzNT1KA: Downloading iframe API JS\n",
            "[youtube] DHaxfzNT1KA: Downloading web player API JSON\n",
            "[youtube] DHaxfzNT1KA: Downloading m3u8 information\n"
          ]
        },
        {
          "output_type": "stream",
          "name": "stderr",
          "text": [
            "WARNING: [youtube] unable to extract yt initial data; please report this issue on  https://github.com/yt-dlp/yt-dlp/issues?q= , filling out the appropriate issue template. Confirm you are on the latest version using  yt-dlp -U\n",
            "WARNING: [youtube] Incomplete data received in embedded initial data; re-fetching using API.\n"
          ]
        },
        {
          "output_type": "stream",
          "name": "stdout",
          "text": [
            "[youtube] DHaxfzNT1KA: Downloading initial data API JSON\n",
            "[info] DHaxfzNT1KA: Downloading subtitles: en, en-US\n",
            "[info] DHaxfzNT1KA: Downloading 1 format(s): 616+251\n",
            "Deleting existing file Gravitational wave discovery leads to greater understanding of the fabric of our universe [DHaxfzNT1KA].en.vtt\n",
            "[info] Writing video subtitles to: Gravitational wave discovery leads to greater understanding of the fabric of our universe [DHaxfzNT1KA].en.vtt\n",
            "[hlsnative] Downloading m3u8 manifest\n",
            "[hlsnative] Total fragments: 1\n",
            "[download] Destination: Gravitational wave discovery leads to greater understanding of the fabric of our universe [DHaxfzNT1KA].en.vtt\n",
            "[download] 100% of    9.58KiB in 00:00:00 at 181.90KiB/s             \n",
            "Deleting existing file Gravitational wave discovery leads to greater understanding of the fabric of our universe [DHaxfzNT1KA].en-US.vtt\n",
            "[info] Writing video subtitles to: Gravitational wave discovery leads to greater understanding of the fabric of our universe [DHaxfzNT1KA].en-US.vtt\n",
            "[hlsnative] Downloading m3u8 manifest\n",
            "[hlsnative] Total fragments: 1\n",
            "[download] Destination: Gravitational wave discovery leads to greater understanding of the fabric of our universe [DHaxfzNT1KA].en-US.vtt\n",
            "[download] 100% of    8.40KiB in 00:00:00 at 263.51KiB/s             \n",
            "[youtube] Extracting URL: https://www.youtube.com/watch?v=DHaxfzNT1KA\n",
            "[youtube] DHaxfzNT1KA: Downloading webpage\n"
          ]
        },
        {
          "output_type": "stream",
          "name": "stderr",
          "text": [
            "WARNING: [youtube] unable to extract initial player response; please report this issue on  https://github.com/yt-dlp/yt-dlp/issues?q= , filling out the appropriate issue template. Confirm you are on the latest version using  yt-dlp -U\n"
          ]
        },
        {
          "output_type": "stream",
          "name": "stdout",
          "text": [
            "[youtube] DHaxfzNT1KA: Downloading ios player API JSON\n",
            "[youtube] DHaxfzNT1KA: Downloading android player API JSON\n",
            "[youtube] DHaxfzNT1KA: Downloading iframe API JS\n",
            "[youtube] DHaxfzNT1KA: Downloading web player API JSON\n",
            "[youtube] DHaxfzNT1KA: Downloading m3u8 information\n"
          ]
        },
        {
          "output_type": "stream",
          "name": "stderr",
          "text": [
            "WARNING: [youtube] unable to extract yt initial data; please report this issue on  https://github.com/yt-dlp/yt-dlp/issues?q= , filling out the appropriate issue template. Confirm you are on the latest version using  yt-dlp -U\n",
            "WARNING: [youtube] Incomplete data received in embedded initial data; re-fetching using API.\n"
          ]
        },
        {
          "output_type": "stream",
          "name": "stdout",
          "text": [
            "[youtube] DHaxfzNT1KA: Downloading initial data API JSON\n",
            "[info] DHaxfzNT1KA: Downloading subtitles: en, en-US\n",
            "[info] DHaxfzNT1KA: Downloading 1 format(s): 616+251\n",
            "Deleting existing file Gravitational wave discovery leads to greater understanding of the fabric of our universe [DHaxfzNT1KA].en.vtt\n",
            "[info] Writing video subtitles to: Gravitational wave discovery leads to greater understanding of the fabric of our universe [DHaxfzNT1KA].en.vtt\n",
            "[hlsnative] Downloading m3u8 manifest\n",
            "[hlsnative] Total fragments: 1\n",
            "[download] Destination: Gravitational wave discovery leads to greater understanding of the fabric of our universe [DHaxfzNT1KA].en.vtt\n",
            "[download] 100% of    9.58KiB in 00:00:00 at 206.61KiB/s             \n",
            "Deleting existing file Gravitational wave discovery leads to greater understanding of the fabric of our universe [DHaxfzNT1KA].en-US.vtt\n",
            "[info] Writing video subtitles to: Gravitational wave discovery leads to greater understanding of the fabric of our universe [DHaxfzNT1KA].en-US.vtt\n",
            "[hlsnative] Downloading m3u8 manifest\n",
            "[hlsnative] Total fragments: 1\n",
            "[download] Destination: Gravitational wave discovery leads to greater understanding of the fabric of our universe [DHaxfzNT1KA].en-US.vtt\n",
            "[download] 100% of    8.40KiB in 00:00:00 at 214.24KiB/s             \n",
            "[youtube] Extracting URL: https://www.youtube.com/watch?v=DHaxfzNT1KA\n",
            "[youtube] DHaxfzNT1KA: Downloading webpage\n"
          ]
        },
        {
          "output_type": "stream",
          "name": "stderr",
          "text": [
            "WARNING: [youtube] unable to extract initial player response; please report this issue on  https://github.com/yt-dlp/yt-dlp/issues?q= , filling out the appropriate issue template. Confirm you are on the latest version using  yt-dlp -U\n"
          ]
        },
        {
          "output_type": "stream",
          "name": "stdout",
          "text": [
            "[youtube] DHaxfzNT1KA: Downloading ios player API JSON\n",
            "[youtube] DHaxfzNT1KA: Downloading android player API JSON\n",
            "[youtube] DHaxfzNT1KA: Downloading iframe API JS\n",
            "[youtube] DHaxfzNT1KA: Downloading web player API JSON\n",
            "[youtube] DHaxfzNT1KA: Downloading m3u8 information\n"
          ]
        },
        {
          "output_type": "stream",
          "name": "stderr",
          "text": [
            "WARNING: [youtube] unable to extract yt initial data; please report this issue on  https://github.com/yt-dlp/yt-dlp/issues?q= , filling out the appropriate issue template. Confirm you are on the latest version using  yt-dlp -U\n",
            "WARNING: [youtube] Incomplete data received in embedded initial data; re-fetching using API.\n"
          ]
        },
        {
          "output_type": "stream",
          "name": "stdout",
          "text": [
            "[youtube] DHaxfzNT1KA: Downloading initial data API JSON\n",
            "[info] DHaxfzNT1KA: Downloading subtitles: en, en-US\n",
            "[info] DHaxfzNT1KA: Downloading 1 format(s): 616+251\n",
            "Deleting existing file Gravitational wave discovery leads to greater understanding of the fabric of our universe [DHaxfzNT1KA].en.vtt\n",
            "[info] Writing video subtitles to: Gravitational wave discovery leads to greater understanding of the fabric of our universe [DHaxfzNT1KA].en.vtt\n",
            "[hlsnative] Downloading m3u8 manifest\n",
            "[hlsnative] Total fragments: 1\n",
            "[download] Destination: Gravitational wave discovery leads to greater understanding of the fabric of our universe [DHaxfzNT1KA].en.vtt\n",
            "[download] 100% of    9.58KiB in 00:00:00 at 159.53KiB/s             \n",
            "Deleting existing file Gravitational wave discovery leads to greater understanding of the fabric of our universe [DHaxfzNT1KA].en-US.vtt\n",
            "[info] Writing video subtitles to: Gravitational wave discovery leads to greater understanding of the fabric of our universe [DHaxfzNT1KA].en-US.vtt\n",
            "[hlsnative] Downloading m3u8 manifest\n",
            "[hlsnative] Total fragments: 1\n",
            "[download] Destination: Gravitational wave discovery leads to greater understanding of the fabric of our universe [DHaxfzNT1KA].en-US.vtt\n",
            "[download] 100% of    8.40KiB in 00:00:00 at 232.56KiB/s             \n",
            "[youtube] Extracting URL: https://www.youtube.com/watch?v=DHaxfzNT1KA\n",
            "[youtube] DHaxfzNT1KA: Downloading webpage\n"
          ]
        },
        {
          "output_type": "stream",
          "name": "stderr",
          "text": [
            "WARNING: [youtube] unable to extract initial player response; please report this issue on  https://github.com/yt-dlp/yt-dlp/issues?q= , filling out the appropriate issue template. Confirm you are on the latest version using  yt-dlp -U\n"
          ]
        },
        {
          "output_type": "stream",
          "name": "stdout",
          "text": [
            "[youtube] DHaxfzNT1KA: Downloading ios player API JSON\n",
            "[youtube] DHaxfzNT1KA: Downloading android player API JSON\n",
            "[youtube] DHaxfzNT1KA: Downloading iframe API JS\n",
            "[youtube] DHaxfzNT1KA: Downloading web player API JSON\n",
            "[youtube] DHaxfzNT1KA: Downloading m3u8 information\n"
          ]
        },
        {
          "output_type": "stream",
          "name": "stderr",
          "text": [
            "WARNING: [youtube] unable to extract yt initial data; please report this issue on  https://github.com/yt-dlp/yt-dlp/issues?q= , filling out the appropriate issue template. Confirm you are on the latest version using  yt-dlp -U\n",
            "WARNING: [youtube] Incomplete data received in embedded initial data; re-fetching using API.\n"
          ]
        },
        {
          "output_type": "stream",
          "name": "stdout",
          "text": [
            "[youtube] DHaxfzNT1KA: Downloading initial data API JSON\n",
            "[info] DHaxfzNT1KA: Downloading subtitles: en, en-US\n",
            "[info] DHaxfzNT1KA: Downloading 1 format(s): 616+251\n",
            "Deleting existing file Gravitational wave discovery leads to greater understanding of the fabric of our universe [DHaxfzNT1KA].en.vtt\n",
            "[info] Writing video subtitles to: Gravitational wave discovery leads to greater understanding of the fabric of our universe [DHaxfzNT1KA].en.vtt\n",
            "[hlsnative] Downloading m3u8 manifest\n",
            "[hlsnative] Total fragments: 1\n",
            "[download] Destination: Gravitational wave discovery leads to greater understanding of the fabric of our universe [DHaxfzNT1KA].en.vtt\n",
            "[download] 100% of    9.58KiB in 00:00:00 at 200.38KiB/s             \n",
            "Deleting existing file Gravitational wave discovery leads to greater understanding of the fabric of our universe [DHaxfzNT1KA].en-US.vtt\n",
            "[info] Writing video subtitles to: Gravitational wave discovery leads to greater understanding of the fabric of our universe [DHaxfzNT1KA].en-US.vtt\n",
            "[hlsnative] Downloading m3u8 manifest\n",
            "[hlsnative] Total fragments: 1\n",
            "[download] Destination: Gravitational wave discovery leads to greater understanding of the fabric of our universe [DHaxfzNT1KA].en-US.vtt\n",
            "[download] 100% of    8.40KiB in 00:00:00 at 122.58KiB/s             \n",
            "[youtube] Extracting URL: https://www.youtube.com/watch?v=DHaxfzNT1KA\n",
            "[youtube] DHaxfzNT1KA: Downloading webpage\n"
          ]
        },
        {
          "output_type": "stream",
          "name": "stderr",
          "text": [
            "WARNING: [youtube] unable to extract initial player response; please report this issue on  https://github.com/yt-dlp/yt-dlp/issues?q= , filling out the appropriate issue template. Confirm you are on the latest version using  yt-dlp -U\n"
          ]
        },
        {
          "output_type": "stream",
          "name": "stdout",
          "text": [
            "[youtube] DHaxfzNT1KA: Downloading ios player API JSON\n",
            "[youtube] DHaxfzNT1KA: Downloading android player API JSON\n",
            "[youtube] DHaxfzNT1KA: Downloading iframe API JS\n",
            "[youtube] DHaxfzNT1KA: Downloading web player API JSON\n",
            "[youtube] DHaxfzNT1KA: Downloading m3u8 information\n"
          ]
        },
        {
          "output_type": "stream",
          "name": "stderr",
          "text": [
            "WARNING: [youtube] unable to extract yt initial data; please report this issue on  https://github.com/yt-dlp/yt-dlp/issues?q= , filling out the appropriate issue template. Confirm you are on the latest version using  yt-dlp -U\n",
            "WARNING: [youtube] Incomplete data received in embedded initial data; re-fetching using API.\n"
          ]
        },
        {
          "output_type": "stream",
          "name": "stdout",
          "text": [
            "[youtube] DHaxfzNT1KA: Downloading initial data API JSON\n",
            "[info] DHaxfzNT1KA: Downloading subtitles: en, en-US\n",
            "[info] DHaxfzNT1KA: Downloading 1 format(s): 616+251\n",
            "Deleting existing file Gravitational wave discovery leads to greater understanding of the fabric of our universe [DHaxfzNT1KA].en.vtt\n",
            "[info] Writing video subtitles to: Gravitational wave discovery leads to greater understanding of the fabric of our universe [DHaxfzNT1KA].en.vtt\n",
            "[hlsnative] Downloading m3u8 manifest\n",
            "[hlsnative] Total fragments: 1\n",
            "[download] Destination: Gravitational wave discovery leads to greater understanding of the fabric of our universe [DHaxfzNT1KA].en.vtt\n",
            "[download] 100% of    9.58KiB in 00:00:00 at 89.52KiB/s              \n",
            "Deleting existing file Gravitational wave discovery leads to greater understanding of the fabric of our universe [DHaxfzNT1KA].en-US.vtt\n",
            "[info] Writing video subtitles to: Gravitational wave discovery leads to greater understanding of the fabric of our universe [DHaxfzNT1KA].en-US.vtt\n",
            "[hlsnative] Downloading m3u8 manifest\n",
            "[hlsnative] Total fragments: 1\n",
            "[download] Destination: Gravitational wave discovery leads to greater understanding of the fabric of our universe [DHaxfzNT1KA].en-US.vtt\n",
            "[download] 100% of    8.40KiB in 00:00:00 at 256.65KiB/s             \n",
            "[youtube] Extracting URL: https://www.youtube.com/watch?v=DHaxfzNT1KA\n",
            "[youtube] DHaxfzNT1KA: Downloading webpage\n"
          ]
        },
        {
          "output_type": "stream",
          "name": "stderr",
          "text": [
            "WARNING: [youtube] unable to extract initial player response; please report this issue on  https://github.com/yt-dlp/yt-dlp/issues?q= , filling out the appropriate issue template. Confirm you are on the latest version using  yt-dlp -U\n"
          ]
        },
        {
          "output_type": "stream",
          "name": "stdout",
          "text": [
            "[youtube] DHaxfzNT1KA: Downloading ios player API JSON\n",
            "[youtube] DHaxfzNT1KA: Downloading android player API JSON\n",
            "[youtube] DHaxfzNT1KA: Downloading iframe API JS\n",
            "[youtube] DHaxfzNT1KA: Downloading web player API JSON\n",
            "[youtube] DHaxfzNT1KA: Downloading m3u8 information\n"
          ]
        },
        {
          "output_type": "stream",
          "name": "stderr",
          "text": [
            "WARNING: [youtube] unable to extract yt initial data; please report this issue on  https://github.com/yt-dlp/yt-dlp/issues?q= , filling out the appropriate issue template. Confirm you are on the latest version using  yt-dlp -U\n",
            "WARNING: [youtube] Incomplete data received in embedded initial data; re-fetching using API.\n"
          ]
        },
        {
          "output_type": "stream",
          "name": "stdout",
          "text": [
            "[youtube] DHaxfzNT1KA: Downloading initial data API JSON\n",
            "[info] DHaxfzNT1KA: Downloading subtitles: en, en-US\n",
            "[info] DHaxfzNT1KA: Downloading 1 format(s): 616+251\n",
            "Deleting existing file Gravitational wave discovery leads to greater understanding of the fabric of our universe [DHaxfzNT1KA].en.vtt\n",
            "[info] Writing video subtitles to: Gravitational wave discovery leads to greater understanding of the fabric of our universe [DHaxfzNT1KA].en.vtt\n",
            "[hlsnative] Downloading m3u8 manifest\n",
            "[hlsnative] Total fragments: 1\n",
            "[download] Destination: Gravitational wave discovery leads to greater understanding of the fabric of our universe [DHaxfzNT1KA].en.vtt\n",
            "[download] 100% of    9.58KiB in 00:00:00 at 216.07KiB/s             \n",
            "Deleting existing file Gravitational wave discovery leads to greater understanding of the fabric of our universe [DHaxfzNT1KA].en-US.vtt\n",
            "[info] Writing video subtitles to: Gravitational wave discovery leads to greater understanding of the fabric of our universe [DHaxfzNT1KA].en-US.vtt\n",
            "[hlsnative] Downloading m3u8 manifest\n",
            "[hlsnative] Total fragments: 1\n",
            "[download] Destination: Gravitational wave discovery leads to greater understanding of the fabric of our universe [DHaxfzNT1KA].en-US.vtt\n",
            "[download] 100% of    8.40KiB in 00:00:00 at 103.23KiB/s             \n",
            "[youtube] Extracting URL: https://www.youtube.com/watch?v=DHaxfzNT1KA\n",
            "[youtube] DHaxfzNT1KA: Downloading webpage\n"
          ]
        },
        {
          "output_type": "stream",
          "name": "stderr",
          "text": [
            "WARNING: [youtube] unable to extract initial player response; please report this issue on  https://github.com/yt-dlp/yt-dlp/issues?q= , filling out the appropriate issue template. Confirm you are on the latest version using  yt-dlp -U\n"
          ]
        },
        {
          "output_type": "stream",
          "name": "stdout",
          "text": [
            "[youtube] DHaxfzNT1KA: Downloading ios player API JSON\n",
            "[youtube] DHaxfzNT1KA: Downloading android player API JSON\n",
            "[youtube] DHaxfzNT1KA: Downloading iframe API JS\n",
            "[youtube] DHaxfzNT1KA: Downloading web player API JSON\n",
            "[youtube] DHaxfzNT1KA: Downloading m3u8 information\n"
          ]
        },
        {
          "output_type": "stream",
          "name": "stderr",
          "text": [
            "WARNING: [youtube] unable to extract yt initial data; please report this issue on  https://github.com/yt-dlp/yt-dlp/issues?q= , filling out the appropriate issue template. Confirm you are on the latest version using  yt-dlp -U\n",
            "WARNING: [youtube] Incomplete data received in embedded initial data; re-fetching using API.\n"
          ]
        },
        {
          "output_type": "stream",
          "name": "stdout",
          "text": [
            "[youtube] DHaxfzNT1KA: Downloading initial data API JSON\n",
            "[info] DHaxfzNT1KA: Downloading subtitles: en, en-US\n",
            "[info] DHaxfzNT1KA: Downloading 1 format(s): 616+251\n",
            "Deleting existing file Gravitational wave discovery leads to greater understanding of the fabric of our universe [DHaxfzNT1KA].en.vtt\n",
            "[info] Writing video subtitles to: Gravitational wave discovery leads to greater understanding of the fabric of our universe [DHaxfzNT1KA].en.vtt\n",
            "[hlsnative] Downloading m3u8 manifest\n",
            "[hlsnative] Total fragments: 1\n",
            "[download] Destination: Gravitational wave discovery leads to greater understanding of the fabric of our universe [DHaxfzNT1KA].en.vtt\n",
            "[download] 100% of    9.58KiB in 00:00:00 at 201.48KiB/s             \n",
            "Deleting existing file Gravitational wave discovery leads to greater understanding of the fabric of our universe [DHaxfzNT1KA].en-US.vtt\n",
            "[info] Writing video subtitles to: Gravitational wave discovery leads to greater understanding of the fabric of our universe [DHaxfzNT1KA].en-US.vtt\n",
            "[hlsnative] Downloading m3u8 manifest\n",
            "[hlsnative] Total fragments: 1\n",
            "[download] Destination: Gravitational wave discovery leads to greater understanding of the fabric of our universe [DHaxfzNT1KA].en-US.vtt\n",
            "[download] 100% of    8.40KiB in 00:00:00 at 240.08KiB/s             \n",
            "[youtube] Extracting URL: https://www.youtube.com/watch?v=DHaxfzNT1KA\n",
            "[youtube] DHaxfzNT1KA: Downloading webpage\n"
          ]
        },
        {
          "output_type": "stream",
          "name": "stderr",
          "text": [
            "WARNING: [youtube] unable to extract initial player response; please report this issue on  https://github.com/yt-dlp/yt-dlp/issues?q= , filling out the appropriate issue template. Confirm you are on the latest version using  yt-dlp -U\n"
          ]
        },
        {
          "output_type": "stream",
          "name": "stdout",
          "text": [
            "[youtube] DHaxfzNT1KA: Downloading ios player API JSON\n",
            "[youtube] DHaxfzNT1KA: Downloading android player API JSON\n",
            "[youtube] DHaxfzNT1KA: Downloading iframe API JS\n",
            "[youtube] DHaxfzNT1KA: Downloading web player API JSON\n",
            "[youtube] DHaxfzNT1KA: Downloading m3u8 information\n"
          ]
        },
        {
          "output_type": "stream",
          "name": "stderr",
          "text": [
            "WARNING: [youtube] unable to extract yt initial data; please report this issue on  https://github.com/yt-dlp/yt-dlp/issues?q= , filling out the appropriate issue template. Confirm you are on the latest version using  yt-dlp -U\n",
            "WARNING: [youtube] Incomplete data received in embedded initial data; re-fetching using API.\n"
          ]
        },
        {
          "output_type": "stream",
          "name": "stdout",
          "text": [
            "[youtube] DHaxfzNT1KA: Downloading initial data API JSON\n",
            "[info] DHaxfzNT1KA: Downloading subtitles: en, en-US\n",
            "[info] DHaxfzNT1KA: Downloading 1 format(s): 616+251\n",
            "Deleting existing file Gravitational wave discovery leads to greater understanding of the fabric of our universe [DHaxfzNT1KA].en.vtt\n",
            "[info] Writing video subtitles to: Gravitational wave discovery leads to greater understanding of the fabric of our universe [DHaxfzNT1KA].en.vtt\n",
            "[hlsnative] Downloading m3u8 manifest\n",
            "[hlsnative] Total fragments: 1\n",
            "[download] Destination: Gravitational wave discovery leads to greater understanding of the fabric of our universe [DHaxfzNT1KA].en.vtt\n",
            "[download] 100% of    9.58KiB in 00:00:00 at 196.84KiB/s             \n",
            "Deleting existing file Gravitational wave discovery leads to greater understanding of the fabric of our universe [DHaxfzNT1KA].en-US.vtt\n",
            "[info] Writing video subtitles to: Gravitational wave discovery leads to greater understanding of the fabric of our universe [DHaxfzNT1KA].en-US.vtt\n",
            "[hlsnative] Downloading m3u8 manifest\n",
            "[hlsnative] Total fragments: 1\n",
            "[download] Destination: Gravitational wave discovery leads to greater understanding of the fabric of our universe [DHaxfzNT1KA].en-US.vtt\n",
            "[download] 100% of    8.40KiB in 00:00:00 at 253.97KiB/s             \n",
            "[youtube] Extracting URL: https://www.youtube.com/watch?v=DHaxfzNT1KA\n",
            "[youtube] DHaxfzNT1KA: Downloading webpage\n"
          ]
        },
        {
          "output_type": "stream",
          "name": "stderr",
          "text": [
            "WARNING: [youtube] unable to extract initial player response; please report this issue on  https://github.com/yt-dlp/yt-dlp/issues?q= , filling out the appropriate issue template. Confirm you are on the latest version using  yt-dlp -U\n"
          ]
        },
        {
          "output_type": "stream",
          "name": "stdout",
          "text": [
            "[youtube] DHaxfzNT1KA: Downloading ios player API JSON\n",
            "[youtube] DHaxfzNT1KA: Downloading android player API JSON\n",
            "[youtube] DHaxfzNT1KA: Downloading iframe API JS\n",
            "[youtube] DHaxfzNT1KA: Downloading web player API JSON\n",
            "[youtube] DHaxfzNT1KA: Downloading m3u8 information\n"
          ]
        },
        {
          "output_type": "stream",
          "name": "stderr",
          "text": [
            "WARNING: [youtube] unable to extract yt initial data; please report this issue on  https://github.com/yt-dlp/yt-dlp/issues?q= , filling out the appropriate issue template. Confirm you are on the latest version using  yt-dlp -U\n",
            "WARNING: [youtube] Incomplete data received in embedded initial data; re-fetching using API.\n"
          ]
        },
        {
          "output_type": "stream",
          "name": "stdout",
          "text": [
            "[youtube] DHaxfzNT1KA: Downloading initial data API JSON\n",
            "[info] DHaxfzNT1KA: Downloading subtitles: en, en-US\n",
            "[info] DHaxfzNT1KA: Downloading 1 format(s): 616+251\n",
            "Deleting existing file Gravitational wave discovery leads to greater understanding of the fabric of our universe [DHaxfzNT1KA].en.vtt\n",
            "[info] Writing video subtitles to: Gravitational wave discovery leads to greater understanding of the fabric of our universe [DHaxfzNT1KA].en.vtt\n",
            "[hlsnative] Downloading m3u8 manifest\n",
            "[hlsnative] Total fragments: 1\n",
            "[download] Destination: Gravitational wave discovery leads to greater understanding of the fabric of our universe [DHaxfzNT1KA].en.vtt\n",
            "[download] 100% of    9.58KiB in 00:00:00 at 203.19KiB/s             \n",
            "Deleting existing file Gravitational wave discovery leads to greater understanding of the fabric of our universe [DHaxfzNT1KA].en-US.vtt\n",
            "[info] Writing video subtitles to: Gravitational wave discovery leads to greater understanding of the fabric of our universe [DHaxfzNT1KA].en-US.vtt\n",
            "[hlsnative] Downloading m3u8 manifest\n",
            "[hlsnative] Total fragments: 1\n",
            "[download] Destination: Gravitational wave discovery leads to greater understanding of the fabric of our universe [DHaxfzNT1KA].en-US.vtt\n",
            "[download] 100% of    8.40KiB in 00:00:00 at 224.11KiB/s             \n",
            "[youtube] Extracting URL: https://www.youtube.com/watch?v=DHaxfzNT1KA\n",
            "[youtube] DHaxfzNT1KA: Downloading webpage\n"
          ]
        },
        {
          "output_type": "stream",
          "name": "stderr",
          "text": [
            "WARNING: [youtube] unable to extract initial player response; please report this issue on  https://github.com/yt-dlp/yt-dlp/issues?q= , filling out the appropriate issue template. Confirm you are on the latest version using  yt-dlp -U\n"
          ]
        },
        {
          "output_type": "stream",
          "name": "stdout",
          "text": [
            "[youtube] DHaxfzNT1KA: Downloading ios player API JSON\n",
            "[youtube] DHaxfzNT1KA: Downloading android player API JSON\n",
            "[youtube] DHaxfzNT1KA: Downloading iframe API JS\n",
            "[youtube] DHaxfzNT1KA: Downloading web player API JSON\n",
            "[youtube] DHaxfzNT1KA: Downloading m3u8 information\n"
          ]
        },
        {
          "output_type": "stream",
          "name": "stderr",
          "text": [
            "WARNING: [youtube] unable to extract yt initial data; please report this issue on  https://github.com/yt-dlp/yt-dlp/issues?q= , filling out the appropriate issue template. Confirm you are on the latest version using  yt-dlp -U\n",
            "WARNING: [youtube] Incomplete data received in embedded initial data; re-fetching using API.\n"
          ]
        },
        {
          "output_type": "stream",
          "name": "stdout",
          "text": [
            "[youtube] DHaxfzNT1KA: Downloading initial data API JSON\n",
            "[info] DHaxfzNT1KA: Downloading subtitles: en, en-US\n",
            "[info] DHaxfzNT1KA: Downloading 1 format(s): 616+251\n",
            "Deleting existing file Gravitational wave discovery leads to greater understanding of the fabric of our universe [DHaxfzNT1KA].en.vtt\n",
            "[info] Writing video subtitles to: Gravitational wave discovery leads to greater understanding of the fabric of our universe [DHaxfzNT1KA].en.vtt\n",
            "[hlsnative] Downloading m3u8 manifest\n",
            "[hlsnative] Total fragments: 1\n",
            "[download] Destination: Gravitational wave discovery leads to greater understanding of the fabric of our universe [DHaxfzNT1KA].en.vtt\n",
            "[download] 100% of    9.58KiB in 00:00:00 at 175.34KiB/s             \n",
            "Deleting existing file Gravitational wave discovery leads to greater understanding of the fabric of our universe [DHaxfzNT1KA].en-US.vtt\n",
            "[info] Writing video subtitles to: Gravitational wave discovery leads to greater understanding of the fabric of our universe [DHaxfzNT1KA].en-US.vtt\n",
            "[hlsnative] Downloading m3u8 manifest\n",
            "[hlsnative] Total fragments: 1\n",
            "[download] Destination: Gravitational wave discovery leads to greater understanding of the fabric of our universe [DHaxfzNT1KA].en-US.vtt\n",
            "[download] 100% of    8.40KiB in 00:00:00 at 256.85KiB/s             \n",
            "[youtube] Extracting URL: https://www.youtube.com/watch?v=DHaxfzNT1KA\n",
            "[youtube] DHaxfzNT1KA: Downloading webpage\n"
          ]
        },
        {
          "output_type": "stream",
          "name": "stderr",
          "text": [
            "WARNING: [youtube] unable to extract initial player response; please report this issue on  https://github.com/yt-dlp/yt-dlp/issues?q= , filling out the appropriate issue template. Confirm you are on the latest version using  yt-dlp -U\n"
          ]
        },
        {
          "output_type": "stream",
          "name": "stdout",
          "text": [
            "[youtube] DHaxfzNT1KA: Downloading ios player API JSON\n",
            "[youtube] DHaxfzNT1KA: Downloading android player API JSON\n",
            "[youtube] DHaxfzNT1KA: Downloading iframe API JS\n",
            "[youtube] DHaxfzNT1KA: Downloading web player API JSON\n",
            "[youtube] DHaxfzNT1KA: Downloading m3u8 information\n"
          ]
        },
        {
          "output_type": "stream",
          "name": "stderr",
          "text": [
            "WARNING: [youtube] unable to extract yt initial data; please report this issue on  https://github.com/yt-dlp/yt-dlp/issues?q= , filling out the appropriate issue template. Confirm you are on the latest version using  yt-dlp -U\n",
            "WARNING: [youtube] Incomplete data received in embedded initial data; re-fetching using API.\n"
          ]
        },
        {
          "output_type": "stream",
          "name": "stdout",
          "text": [
            "[youtube] DHaxfzNT1KA: Downloading initial data API JSON\n",
            "[info] DHaxfzNT1KA: Downloading subtitles: en, en-US\n",
            "[info] DHaxfzNT1KA: Downloading 1 format(s): 616+251\n",
            "Deleting existing file Gravitational wave discovery leads to greater understanding of the fabric of our universe [DHaxfzNT1KA].en.vtt\n",
            "[info] Writing video subtitles to: Gravitational wave discovery leads to greater understanding of the fabric of our universe [DHaxfzNT1KA].en.vtt\n",
            "[hlsnative] Downloading m3u8 manifest\n",
            "[hlsnative] Total fragments: 1\n",
            "[download] Destination: Gravitational wave discovery leads to greater understanding of the fabric of our universe [DHaxfzNT1KA].en.vtt\n",
            "[download] 100% of    9.58KiB in 00:00:00 at 203.06KiB/s             \n",
            "Deleting existing file Gravitational wave discovery leads to greater understanding of the fabric of our universe [DHaxfzNT1KA].en-US.vtt\n",
            "[info] Writing video subtitles to: Gravitational wave discovery leads to greater understanding of the fabric of our universe [DHaxfzNT1KA].en-US.vtt\n",
            "[hlsnative] Downloading m3u8 manifest\n",
            "[hlsnative] Total fragments: 1\n",
            "[download] Destination: Gravitational wave discovery leads to greater understanding of the fabric of our universe [DHaxfzNT1KA].en-US.vtt\n",
            "[download] 100% of    8.40KiB in 00:00:00 at 227.80KiB/s             \n",
            "text file expected Gravitational wave discovery leads to greater understanding of the fabric of our universe [DHaxfzNT1KA].en.vtt.txt\n",
            "Intermediate Summaries ->>>>>>>>>>>>>>>>>>>>>>>>>\n",
            " ['An international team of scientists has discovered new signs of GRAVITATIONAL WAVES. The waves are RIPPLES in the FABRIC of our universe, the COSMOS as we know it. The scientists have been working on this project for 15 years.', \"The researchers are trying to understand how the universe formed. They think it might be made up of millions of super-MASSIVE BLACK HOLES. They're also looking for GRAVITATIONAL WAVES. The scientists hope to connect the dots between these two phenomena.\"]\n",
            "Summary is ->>>>>>>>>>>>>>>>>>>>>>>>>\n",
            "An international team of scientists has discovered new signs of GRAVITATIONAL WAVES. The waves are RIPPLES in the FABRIC of our universe, the COSMOS as we know it. The scientists have been working on this project for 15 years. The researchers are trying to understand how the universe formed. They think it might be made up of millions of super-MASSIVE BLACK HOLES. They're also looking for GRAVITATIONAL WAVES. The scientists hope to connect the dots between these two phenomena.\n",
            "[youtube] Extracting URL: https://www.youtube.com/watch?v=FfgT6zx4k3Q\n",
            "[youtube] FfgT6zx4k3Q: Downloading webpage\n",
            "[youtube] FfgT6zx4k3Q: Downloading ios player API JSON\n",
            "[youtube] FfgT6zx4k3Q: Downloading android player API JSON\n",
            "[youtube] FfgT6zx4k3Q: Downloading m3u8 information\n",
            "[info] FfgT6zx4k3Q: Downloading subtitles: en, en-es, en-fr\n",
            "[info] FfgT6zx4k3Q: Downloading 1 format(s): 303+251\n",
            "[info] Writing video subtitles to: Could Your Phone Hurt You？ Electromagnetic Pollution [FfgT6zx4k3Q].en.vtt\n",
            "[hlsnative] Downloading m3u8 manifest\n",
            "[hlsnative] Total fragments: 1\n",
            "[download] Destination: Could Your Phone Hurt You？ Electromagnetic Pollution [FfgT6zx4k3Q].en.vtt\n",
            "[download] 100% of   11.57KiB in 00:00:00 at 286.29KiB/s             \n",
            "[info] Writing video subtitles to: Could Your Phone Hurt You？ Electromagnetic Pollution [FfgT6zx4k3Q].en-es.vtt\n",
            "[download] Destination: Could Your Phone Hurt You？ Electromagnetic Pollution [FfgT6zx4k3Q].en-es.vtt\n",
            "[download] 100% of   11.20KiB in 00:00:00 at 50.76KiB/s\n",
            "[info] Writing video subtitles to: Could Your Phone Hurt You？ Electromagnetic Pollution [FfgT6zx4k3Q].en-fr.vtt\n",
            "[download] Destination: Could Your Phone Hurt You？ Electromagnetic Pollution [FfgT6zx4k3Q].en-fr.vtt\n",
            "[download] 100% of   10.91KiB in 00:00:00 at 45.91KiB/s\n",
            "[youtube] Extracting URL: https://www.youtube.com/watch?v=FfgT6zx4k3Q\n",
            "[youtube] FfgT6zx4k3Q: Downloading webpage\n",
            "[youtube] FfgT6zx4k3Q: Downloading ios player API JSON\n",
            "[youtube] FfgT6zx4k3Q: Downloading android player API JSON\n",
            "[youtube] FfgT6zx4k3Q: Downloading m3u8 information\n",
            "[info] FfgT6zx4k3Q: Downloading subtitles: en, en-es, en-fr\n",
            "[info] FfgT6zx4k3Q: Downloading 1 format(s): 303+251\n",
            "Deleting existing file Could Your Phone Hurt You？ Electromagnetic Pollution [FfgT6zx4k3Q].en.vtt\n",
            "[info] Writing video subtitles to: Could Your Phone Hurt You？ Electromagnetic Pollution [FfgT6zx4k3Q].en.vtt\n",
            "[hlsnative] Downloading m3u8 manifest\n",
            "[hlsnative] Total fragments: 1\n",
            "[download] Destination: Could Your Phone Hurt You？ Electromagnetic Pollution [FfgT6zx4k3Q].en.vtt\n",
            "[download] 100% of   11.57KiB in 00:00:00 at 280.49KiB/s             \n",
            "Deleting existing file Could Your Phone Hurt You？ Electromagnetic Pollution [FfgT6zx4k3Q].en-es.vtt\n",
            "[info] Writing video subtitles to: Could Your Phone Hurt You？ Electromagnetic Pollution [FfgT6zx4k3Q].en-es.vtt\n",
            "[download] Destination: Could Your Phone Hurt You？ Electromagnetic Pollution [FfgT6zx4k3Q].en-es.vtt\n",
            "[download] 100% of   11.20KiB in 00:00:00 at 218.66KiB/s\n",
            "Deleting existing file Could Your Phone Hurt You？ Electromagnetic Pollution [FfgT6zx4k3Q].en-fr.vtt\n",
            "[info] Writing video subtitles to: Could Your Phone Hurt You？ Electromagnetic Pollution [FfgT6zx4k3Q].en-fr.vtt\n",
            "[download] Destination: Could Your Phone Hurt You？ Electromagnetic Pollution [FfgT6zx4k3Q].en-fr.vtt\n",
            "[download] 100% of   10.91KiB in 00:00:00 at 247.49KiB/s\n",
            "[youtube] Extracting URL: https://www.youtube.com/watch?v=FfgT6zx4k3Q\n",
            "[youtube] FfgT6zx4k3Q: Downloading webpage\n",
            "[youtube] FfgT6zx4k3Q: Downloading ios player API JSON\n",
            "[youtube] FfgT6zx4k3Q: Downloading android player API JSON\n",
            "[youtube] FfgT6zx4k3Q: Downloading m3u8 information\n",
            "[info] FfgT6zx4k3Q: Downloading subtitles: en, en-es, en-fr\n",
            "[info] FfgT6zx4k3Q: Downloading 1 format(s): 303+251\n",
            "Deleting existing file Could Your Phone Hurt You？ Electromagnetic Pollution [FfgT6zx4k3Q].en.vtt\n",
            "[info] Writing video subtitles to: Could Your Phone Hurt You？ Electromagnetic Pollution [FfgT6zx4k3Q].en.vtt\n",
            "[hlsnative] Downloading m3u8 manifest\n",
            "[hlsnative] Total fragments: 1\n",
            "[download] Destination: Could Your Phone Hurt You？ Electromagnetic Pollution [FfgT6zx4k3Q].en.vtt\n",
            "[download] 100% of   11.57KiB in 00:00:00 at 261.17KiB/s             \n",
            "Deleting existing file Could Your Phone Hurt You？ Electromagnetic Pollution [FfgT6zx4k3Q].en-es.vtt\n",
            "[info] Writing video subtitles to: Could Your Phone Hurt You？ Electromagnetic Pollution [FfgT6zx4k3Q].en-es.vtt\n",
            "[download] Destination: Could Your Phone Hurt You？ Electromagnetic Pollution [FfgT6zx4k3Q].en-es.vtt\n",
            "[download] 100% of   11.20KiB in 00:00:00 at 216.30KiB/s\n",
            "Deleting existing file Could Your Phone Hurt You？ Electromagnetic Pollution [FfgT6zx4k3Q].en-fr.vtt\n",
            "[info] Writing video subtitles to: Could Your Phone Hurt You？ Electromagnetic Pollution [FfgT6zx4k3Q].en-fr.vtt\n",
            "[download] Destination: Could Your Phone Hurt You？ Electromagnetic Pollution [FfgT6zx4k3Q].en-fr.vtt\n",
            "[download] 100% of   10.91KiB in 00:00:00 at 146.55KiB/s\n",
            "[youtube] Extracting URL: https://www.youtube.com/watch?v=FfgT6zx4k3Q\n",
            "[youtube] FfgT6zx4k3Q: Downloading webpage\n",
            "[youtube] FfgT6zx4k3Q: Downloading ios player API JSON\n",
            "[youtube] FfgT6zx4k3Q: Downloading android player API JSON\n",
            "[youtube] FfgT6zx4k3Q: Downloading m3u8 information\n",
            "[info] FfgT6zx4k3Q: Downloading subtitles: en, en-es, en-fr\n",
            "[info] FfgT6zx4k3Q: Downloading 1 format(s): 303+251\n",
            "Deleting existing file Could Your Phone Hurt You？ Electromagnetic Pollution [FfgT6zx4k3Q].en.vtt\n",
            "[info] Writing video subtitles to: Could Your Phone Hurt You？ Electromagnetic Pollution [FfgT6zx4k3Q].en.vtt\n",
            "[hlsnative] Downloading m3u8 manifest\n",
            "[hlsnative] Total fragments: 1\n",
            "[download] Destination: Could Your Phone Hurt You？ Electromagnetic Pollution [FfgT6zx4k3Q].en.vtt\n",
            "[download] 100% of   11.57KiB in 00:00:00 at 134.54KiB/s             \n",
            "Deleting existing file Could Your Phone Hurt You？ Electromagnetic Pollution [FfgT6zx4k3Q].en-es.vtt\n",
            "[info] Writing video subtitles to: Could Your Phone Hurt You？ Electromagnetic Pollution [FfgT6zx4k3Q].en-es.vtt\n",
            "[download] Destination: Could Your Phone Hurt You？ Electromagnetic Pollution [FfgT6zx4k3Q].en-es.vtt\n",
            "[download] 100% of   11.20KiB in 00:00:00 at 217.56KiB/s\n",
            "Deleting existing file Could Your Phone Hurt You？ Electromagnetic Pollution [FfgT6zx4k3Q].en-fr.vtt\n",
            "[info] Writing video subtitles to: Could Your Phone Hurt You？ Electromagnetic Pollution [FfgT6zx4k3Q].en-fr.vtt\n",
            "[download] Destination: Could Your Phone Hurt You？ Electromagnetic Pollution [FfgT6zx4k3Q].en-fr.vtt\n",
            "[download] 100% of   10.91KiB in 00:00:00 at 261.10KiB/s\n",
            "[youtube] Extracting URL: https://www.youtube.com/watch?v=FfgT6zx4k3Q\n",
            "[youtube] FfgT6zx4k3Q: Downloading webpage\n",
            "[youtube] FfgT6zx4k3Q: Downloading ios player API JSON\n",
            "[youtube] FfgT6zx4k3Q: Downloading android player API JSON\n",
            "[youtube] FfgT6zx4k3Q: Downloading m3u8 information\n",
            "[info] FfgT6zx4k3Q: Downloading subtitles: en, en-es, en-fr\n",
            "[info] FfgT6zx4k3Q: Downloading 1 format(s): 303+251\n",
            "Deleting existing file Could Your Phone Hurt You？ Electromagnetic Pollution [FfgT6zx4k3Q].en.vtt\n",
            "[info] Writing video subtitles to: Could Your Phone Hurt You？ Electromagnetic Pollution [FfgT6zx4k3Q].en.vtt\n",
            "[hlsnative] Downloading m3u8 manifest\n",
            "[hlsnative] Total fragments: 1\n",
            "[download] Destination: Could Your Phone Hurt You？ Electromagnetic Pollution [FfgT6zx4k3Q].en.vtt\n",
            "[download] 100% of   11.57KiB in 00:00:00 at 312.64KiB/s             \n",
            "Deleting existing file Could Your Phone Hurt You？ Electromagnetic Pollution [FfgT6zx4k3Q].en-es.vtt\n",
            "[info] Writing video subtitles to: Could Your Phone Hurt You？ Electromagnetic Pollution [FfgT6zx4k3Q].en-es.vtt\n",
            "[download] Destination: Could Your Phone Hurt You？ Electromagnetic Pollution [FfgT6zx4k3Q].en-es.vtt\n",
            "[download] 100% of   11.20KiB in 00:00:00 at 248.51KiB/s\n",
            "Deleting existing file Could Your Phone Hurt You？ Electromagnetic Pollution [FfgT6zx4k3Q].en-fr.vtt\n",
            "[info] Writing video subtitles to: Could Your Phone Hurt You？ Electromagnetic Pollution [FfgT6zx4k3Q].en-fr.vtt\n",
            "[download] Destination: Could Your Phone Hurt You？ Electromagnetic Pollution [FfgT6zx4k3Q].en-fr.vtt\n",
            "[download] 100% of   10.91KiB in 00:00:00 at 239.49KiB/s\n",
            "[youtube] Extracting URL: https://www.youtube.com/watch?v=FfgT6zx4k3Q\n",
            "[youtube] FfgT6zx4k3Q: Downloading webpage\n",
            "[youtube] FfgT6zx4k3Q: Downloading ios player API JSON\n",
            "[youtube] FfgT6zx4k3Q: Downloading android player API JSON\n",
            "[youtube] FfgT6zx4k3Q: Downloading m3u8 information\n",
            "[info] FfgT6zx4k3Q: Downloading subtitles: en, en-es, en-fr\n",
            "[info] FfgT6zx4k3Q: Downloading 1 format(s): 303+251\n",
            "Deleting existing file Could Your Phone Hurt You？ Electromagnetic Pollution [FfgT6zx4k3Q].en.vtt\n",
            "[info] Writing video subtitles to: Could Your Phone Hurt You？ Electromagnetic Pollution [FfgT6zx4k3Q].en.vtt\n",
            "[hlsnative] Downloading m3u8 manifest\n",
            "[hlsnative] Total fragments: 1\n",
            "[download] Destination: Could Your Phone Hurt You？ Electromagnetic Pollution [FfgT6zx4k3Q].en.vtt\n",
            "[download] 100% of   11.57KiB in 00:00:00 at 268.00KiB/s             \n",
            "Deleting existing file Could Your Phone Hurt You？ Electromagnetic Pollution [FfgT6zx4k3Q].en-es.vtt\n",
            "[info] Writing video subtitles to: Could Your Phone Hurt You？ Electromagnetic Pollution [FfgT6zx4k3Q].en-es.vtt\n",
            "[download] Destination: Could Your Phone Hurt You？ Electromagnetic Pollution [FfgT6zx4k3Q].en-es.vtt\n",
            "[download] 100% of   11.20KiB in 00:00:00 at 263.66KiB/s\n",
            "Deleting existing file Could Your Phone Hurt You？ Electromagnetic Pollution [FfgT6zx4k3Q].en-fr.vtt\n",
            "[info] Writing video subtitles to: Could Your Phone Hurt You？ Electromagnetic Pollution [FfgT6zx4k3Q].en-fr.vtt\n",
            "[download] Destination: Could Your Phone Hurt You？ Electromagnetic Pollution [FfgT6zx4k3Q].en-fr.vtt\n",
            "[download] 100% of   10.91KiB in 00:00:00 at 216.68KiB/s\n",
            "[youtube] Extracting URL: https://www.youtube.com/watch?v=FfgT6zx4k3Q\n",
            "[youtube] FfgT6zx4k3Q: Downloading webpage\n",
            "[youtube] FfgT6zx4k3Q: Downloading ios player API JSON\n",
            "[youtube] FfgT6zx4k3Q: Downloading android player API JSON\n",
            "[youtube] FfgT6zx4k3Q: Downloading m3u8 information\n",
            "[info] FfgT6zx4k3Q: Downloading subtitles: en, en-es, en-fr\n",
            "[info] FfgT6zx4k3Q: Downloading 1 format(s): 303+251\n",
            "Deleting existing file Could Your Phone Hurt You？ Electromagnetic Pollution [FfgT6zx4k3Q].en.vtt\n",
            "[info] Writing video subtitles to: Could Your Phone Hurt You？ Electromagnetic Pollution [FfgT6zx4k3Q].en.vtt\n",
            "[hlsnative] Downloading m3u8 manifest\n",
            "[hlsnative] Total fragments: 1\n",
            "[download] Destination: Could Your Phone Hurt You？ Electromagnetic Pollution [FfgT6zx4k3Q].en.vtt\n",
            "[download] 100% of   11.57KiB in 00:00:00 at 299.75KiB/s             \n",
            "Deleting existing file Could Your Phone Hurt You？ Electromagnetic Pollution [FfgT6zx4k3Q].en-es.vtt\n",
            "[info] Writing video subtitles to: Could Your Phone Hurt You？ Electromagnetic Pollution [FfgT6zx4k3Q].en-es.vtt\n",
            "[download] Destination: Could Your Phone Hurt You？ Electromagnetic Pollution [FfgT6zx4k3Q].en-es.vtt\n",
            "[download] 100% of   11.20KiB in 00:00:00 at 248.39KiB/s\n",
            "Deleting existing file Could Your Phone Hurt You？ Electromagnetic Pollution [FfgT6zx4k3Q].en-fr.vtt\n",
            "[info] Writing video subtitles to: Could Your Phone Hurt You？ Electromagnetic Pollution [FfgT6zx4k3Q].en-fr.vtt\n",
            "[download] Destination: Could Your Phone Hurt You？ Electromagnetic Pollution [FfgT6zx4k3Q].en-fr.vtt\n",
            "[download] 100% of   10.91KiB in 00:00:00 at 252.55KiB/s\n",
            "[youtube] Extracting URL: https://www.youtube.com/watch?v=FfgT6zx4k3Q\n",
            "[youtube] FfgT6zx4k3Q: Downloading webpage\n",
            "[youtube] FfgT6zx4k3Q: Downloading ios player API JSON\n",
            "[youtube] FfgT6zx4k3Q: Downloading android player API JSON\n",
            "[youtube] FfgT6zx4k3Q: Downloading m3u8 information\n",
            "[info] FfgT6zx4k3Q: Downloading subtitles: en, en-es, en-fr\n",
            "[info] FfgT6zx4k3Q: Downloading 1 format(s): 303+251\n",
            "Deleting existing file Could Your Phone Hurt You？ Electromagnetic Pollution [FfgT6zx4k3Q].en.vtt\n",
            "[info] Writing video subtitles to: Could Your Phone Hurt You？ Electromagnetic Pollution [FfgT6zx4k3Q].en.vtt\n",
            "[hlsnative] Downloading m3u8 manifest\n",
            "[hlsnative] Total fragments: 1\n",
            "[download] Destination: Could Your Phone Hurt You？ Electromagnetic Pollution [FfgT6zx4k3Q].en.vtt\n",
            "[download] 100% of   11.57KiB in 00:00:00 at 300.90KiB/s             \n",
            "Deleting existing file Could Your Phone Hurt You？ Electromagnetic Pollution [FfgT6zx4k3Q].en-es.vtt\n",
            "[info] Writing video subtitles to: Could Your Phone Hurt You？ Electromagnetic Pollution [FfgT6zx4k3Q].en-es.vtt\n",
            "[download] Destination: Could Your Phone Hurt You？ Electromagnetic Pollution [FfgT6zx4k3Q].en-es.vtt\n",
            "[download] 100% of   11.20KiB in 00:00:00 at 241.43KiB/s\n",
            "Deleting existing file Could Your Phone Hurt You？ Electromagnetic Pollution [FfgT6zx4k3Q].en-fr.vtt\n",
            "[info] Writing video subtitles to: Could Your Phone Hurt You？ Electromagnetic Pollution [FfgT6zx4k3Q].en-fr.vtt\n",
            "[download] Destination: Could Your Phone Hurt You？ Electromagnetic Pollution [FfgT6zx4k3Q].en-fr.vtt\n",
            "[download] 100% of   10.91KiB in 00:00:00 at 265.36KiB/s\n",
            "[youtube] Extracting URL: https://www.youtube.com/watch?v=FfgT6zx4k3Q\n",
            "[youtube] FfgT6zx4k3Q: Downloading webpage\n",
            "[youtube] FfgT6zx4k3Q: Downloading ios player API JSON\n",
            "[youtube] FfgT6zx4k3Q: Downloading android player API JSON\n",
            "[youtube] FfgT6zx4k3Q: Downloading m3u8 information\n",
            "[info] FfgT6zx4k3Q: Downloading subtitles: en, en-es, en-fr\n",
            "[info] FfgT6zx4k3Q: Downloading 1 format(s): 303+251\n",
            "Deleting existing file Could Your Phone Hurt You？ Electromagnetic Pollution [FfgT6zx4k3Q].en.vtt\n",
            "[info] Writing video subtitles to: Could Your Phone Hurt You？ Electromagnetic Pollution [FfgT6zx4k3Q].en.vtt\n",
            "[hlsnative] Downloading m3u8 manifest\n",
            "[hlsnative] Total fragments: 1\n",
            "[download] Destination: Could Your Phone Hurt You？ Electromagnetic Pollution [FfgT6zx4k3Q].en.vtt\n",
            "[download] 100% of   11.57KiB in 00:00:00 at 299.58KiB/s             \n",
            "Deleting existing file Could Your Phone Hurt You？ Electromagnetic Pollution [FfgT6zx4k3Q].en-es.vtt\n",
            "[info] Writing video subtitles to: Could Your Phone Hurt You？ Electromagnetic Pollution [FfgT6zx4k3Q].en-es.vtt\n",
            "[download] Destination: Could Your Phone Hurt You？ Electromagnetic Pollution [FfgT6zx4k3Q].en-es.vtt\n",
            "[download] 100% of   11.20KiB in 00:00:00 at 237.25KiB/s\n",
            "Deleting existing file Could Your Phone Hurt You？ Electromagnetic Pollution [FfgT6zx4k3Q].en-fr.vtt\n",
            "[info] Writing video subtitles to: Could Your Phone Hurt You？ Electromagnetic Pollution [FfgT6zx4k3Q].en-fr.vtt\n",
            "[download] Destination: Could Your Phone Hurt You？ Electromagnetic Pollution [FfgT6zx4k3Q].en-fr.vtt\n",
            "[download] 100% of   10.91KiB in 00:00:00 at 245.72KiB/s\n",
            "[youtube] Extracting URL: https://www.youtube.com/watch?v=FfgT6zx4k3Q\n",
            "[youtube] FfgT6zx4k3Q: Downloading webpage\n",
            "[youtube] FfgT6zx4k3Q: Downloading ios player API JSON\n",
            "[youtube] FfgT6zx4k3Q: Downloading android player API JSON\n",
            "[youtube] FfgT6zx4k3Q: Downloading m3u8 information\n",
            "[info] FfgT6zx4k3Q: Downloading subtitles: en, en-es, en-fr\n",
            "[info] FfgT6zx4k3Q: Downloading 1 format(s): 303+251\n",
            "Deleting existing file Could Your Phone Hurt You？ Electromagnetic Pollution [FfgT6zx4k3Q].en.vtt\n",
            "[info] Writing video subtitles to: Could Your Phone Hurt You？ Electromagnetic Pollution [FfgT6zx4k3Q].en.vtt\n",
            "[hlsnative] Downloading m3u8 manifest\n",
            "[hlsnative] Total fragments: 1\n",
            "[download] Destination: Could Your Phone Hurt You？ Electromagnetic Pollution [FfgT6zx4k3Q].en.vtt\n",
            "[download] 100% of   11.57KiB in 00:00:00 at 292.82KiB/s             \n",
            "Deleting existing file Could Your Phone Hurt You？ Electromagnetic Pollution [FfgT6zx4k3Q].en-es.vtt\n",
            "[info] Writing video subtitles to: Could Your Phone Hurt You？ Electromagnetic Pollution [FfgT6zx4k3Q].en-es.vtt\n",
            "[download] Destination: Could Your Phone Hurt You？ Electromagnetic Pollution [FfgT6zx4k3Q].en-es.vtt\n",
            "[download] 100% of   11.20KiB in 00:00:00 at 147.09KiB/s\n",
            "Deleting existing file Could Your Phone Hurt You？ Electromagnetic Pollution [FfgT6zx4k3Q].en-fr.vtt\n",
            "[info] Writing video subtitles to: Could Your Phone Hurt You？ Electromagnetic Pollution [FfgT6zx4k3Q].en-fr.vtt\n",
            "[download] Destination: Could Your Phone Hurt You？ Electromagnetic Pollution [FfgT6zx4k3Q].en-fr.vtt\n",
            "[download] 100% of   10.91KiB in 00:00:00 at 263.94KiB/s\n",
            "[youtube] Extracting URL: https://www.youtube.com/watch?v=FfgT6zx4k3Q\n",
            "[youtube] FfgT6zx4k3Q: Downloading webpage\n",
            "[youtube] FfgT6zx4k3Q: Downloading ios player API JSON\n",
            "[youtube] FfgT6zx4k3Q: Downloading android player API JSON\n",
            "[youtube] FfgT6zx4k3Q: Downloading m3u8 information\n",
            "[info] FfgT6zx4k3Q: Downloading subtitles: en, en-es, en-fr\n",
            "[info] FfgT6zx4k3Q: Downloading 1 format(s): 303+251\n",
            "Deleting existing file Could Your Phone Hurt You？ Electromagnetic Pollution [FfgT6zx4k3Q].en.vtt\n",
            "[info] Writing video subtitles to: Could Your Phone Hurt You？ Electromagnetic Pollution [FfgT6zx4k3Q].en.vtt\n",
            "[hlsnative] Downloading m3u8 manifest\n",
            "[hlsnative] Total fragments: 1\n",
            "[download] Destination: Could Your Phone Hurt You？ Electromagnetic Pollution [FfgT6zx4k3Q].en.vtt\n",
            "[download] 100% of   11.57KiB in 00:00:00 at 262.16KiB/s             \n",
            "Deleting existing file Could Your Phone Hurt You？ Electromagnetic Pollution [FfgT6zx4k3Q].en-es.vtt\n",
            "[info] Writing video subtitles to: Could Your Phone Hurt You？ Electromagnetic Pollution [FfgT6zx4k3Q].en-es.vtt\n",
            "[download] Destination: Could Your Phone Hurt You？ Electromagnetic Pollution [FfgT6zx4k3Q].en-es.vtt\n",
            "[download] 100% of   11.20KiB in 00:00:00 at 238.11KiB/s\n",
            "Deleting existing file Could Your Phone Hurt You？ Electromagnetic Pollution [FfgT6zx4k3Q].en-fr.vtt\n",
            "[info] Writing video subtitles to: Could Your Phone Hurt You？ Electromagnetic Pollution [FfgT6zx4k3Q].en-fr.vtt\n"
          ]
        },
        {
          "output_type": "stream",
          "name": "stderr",
          "text": [
            "ERROR: Unable to download video subtitles for 'en-fr': HTTP Error 429: Too Many Requests\n",
            "Traceback (most recent call last):\n",
            "  File \"/usr/local/lib/python3.10/dist-packages/yt_dlp/YoutubeDL.py\", line 4147, in _write_subtitles\n",
            "    self.dl(sub_filename, sub_copy, subtitle=True)\n",
            "  File \"/usr/local/lib/python3.10/dist-packages/yt_dlp/YoutubeDL.py\", line 3084, in dl\n",
            "    return fd.download(name, new_info, subtitle)\n",
            "  File \"/usr/local/lib/python3.10/dist-packages/yt_dlp/downloader/common.py\", line 461, in download\n",
            "    ret = self.real_download(filename, info_dict)\n",
            "  File \"/usr/local/lib/python3.10/dist-packages/yt_dlp/downloader/http.py\", line 377, in real_download\n",
            "    establish_connection()\n",
            "  File \"/usr/local/lib/python3.10/dist-packages/yt_dlp/downloader/http.py\", line 129, in establish_connection\n",
            "    ctx.data = self.ydl.urlopen(request)\n",
            "  File \"/usr/local/lib/python3.10/dist-packages/yt_dlp/YoutubeDL.py\", line 3863, in urlopen\n",
            "    return self._opener.open(req, timeout=self._socket_timeout)\n",
            "  File \"/usr/lib/python3.10/urllib/request.py\", line 525, in open\n",
            "    response = meth(req, response)\n",
            "  File \"/usr/lib/python3.10/urllib/request.py\", line 634, in http_response\n",
            "    response = self.parent.error(\n",
            "  File \"/usr/lib/python3.10/urllib/request.py\", line 563, in error\n",
            "    return self._call_chain(*args)\n",
            "  File \"/usr/lib/python3.10/urllib/request.py\", line 496, in _call_chain\n",
            "    result = func(*args)\n",
            "  File \"/usr/lib/python3.10/urllib/request.py\", line 643, in http_error_default\n",
            "    raise HTTPError(req.full_url, code, msg, hdrs, fp)\n",
            "urllib.error.HTTPError: HTTP Error 429: Too Many Requests\n",
            "\n",
            "During handling of the above exception, another exception occurred:\n",
            "\n",
            "Traceback (most recent call last):\n",
            "  File \"/usr/local/lib/python3.10/dist-packages/gradio/routes.py\", line 488, in run_predict\n",
            "    output = await app.get_blocks().process_api(\n",
            "  File \"/usr/local/lib/python3.10/dist-packages/gradio/blocks.py\", line 1431, in process_api\n",
            "    result = await self.call_function(\n",
            "  File \"/usr/local/lib/python3.10/dist-packages/gradio/blocks.py\", line 1109, in call_function\n",
            "    prediction = await anyio.to_thread.run_sync(\n",
            "  File \"/usr/local/lib/python3.10/dist-packages/anyio/to_thread.py\", line 33, in run_sync\n",
            "    return await get_asynclib().run_sync_in_worker_thread(\n",
            "  File \"/usr/local/lib/python3.10/dist-packages/anyio/_backends/_asyncio.py\", line 877, in run_sync_in_worker_thread\n",
            "    return await future\n",
            "  File \"/usr/local/lib/python3.10/dist-packages/anyio/_backends/_asyncio.py\", line 807, in run\n",
            "    result = context.run(func, *args)\n",
            "  File \"/usr/local/lib/python3.10/dist-packages/gradio/utils.py\", line 706, in wrapper\n",
            "    response = f(*args, **kwargs)\n",
            "  File \"<ipython-input-132-c55d1f287a1e>\", line 17, in respond\n",
            "    title, summary = video_summarize(link.strip())\n",
            "  File \"<ipython-input-126-40cea4c6a40b>\", line 2, in video_summarize\n",
            "    title, vttfile=get_transcript(url)\n",
            "  File \"<ipython-input-124-ad5d56708ffd>\", line 11, in get_transcript\n",
            "    op = [f for f in os.listdir() if f.startswith(os.path.splitext(ydl.prepare_filename(ydl.extract_info(url)))[0]) and f.endswith('.vtt')]\n",
            "  File \"<ipython-input-124-ad5d56708ffd>\", line 11, in <listcomp>\n",
            "    op = [f for f in os.listdir() if f.startswith(os.path.splitext(ydl.prepare_filename(ydl.extract_info(url)))[0]) and f.endswith('.vtt')]\n",
            "  File \"/usr/local/lib/python3.10/dist-packages/yt_dlp/YoutubeDL.py\", line 1549, in extract_info\n",
            "    return self.__extract_info(url, self.get_info_extractor(key), download, extra_info, process)\n",
            "  File \"/usr/local/lib/python3.10/dist-packages/yt_dlp/YoutubeDL.py\", line 1560, in wrapper\n",
            "    return func(self, *args, **kwargs)\n",
            "  File \"/usr/local/lib/python3.10/dist-packages/yt_dlp/YoutubeDL.py\", line 1709, in __extract_info\n",
            "    return self.process_ie_result(ie_result, download, extra_info)\n",
            "  File \"/usr/local/lib/python3.10/dist-packages/yt_dlp/YoutubeDL.py\", line 1768, in process_ie_result\n",
            "    ie_result = self.process_video_result(ie_result, download=download)\n",
            "  File \"/usr/local/lib/python3.10/dist-packages/yt_dlp/YoutubeDL.py\", line 2897, in process_video_result\n",
            "    self.process_info(new_info)\n",
            "  File \"/usr/local/lib/python3.10/dist-packages/yt_dlp/YoutubeDL.py\", line 3151, in process_info\n",
            "    sub_files = self._write_subtitles(info_dict, temp_filename)\n",
            "  File \"/usr/local/lib/python3.10/dist-packages/yt_dlp/YoutubeDL.py\", line 4154, in _write_subtitles\n",
            "    self.report_error(msg)\n",
            "  File \"/usr/local/lib/python3.10/dist-packages/yt_dlp/YoutubeDL.py\", line 1042, in report_error\n",
            "    self.trouble(f'{self._format_err(\"ERROR:\", self.Styles.ERROR)} {message}', *args, **kwargs)\n",
            "  File \"/usr/local/lib/python3.10/dist-packages/yt_dlp/YoutubeDL.py\", line 981, in trouble\n",
            "    raise DownloadError(message, exc_info)\n",
            "yt_dlp.utils.DownloadError: ERROR: Unable to download video subtitles for 'en-fr': HTTP Error 429: Too Many Requests\n"
          ]
        },
        {
          "output_type": "stream",
          "name": "stdout",
          "text": [
            "[youtube] Extracting URL: https://www.youtube.com/watch?v=DHaxfzNT1KA\n",
            "[youtube] DHaxfzNT1KA: Downloading webpage\n"
          ]
        },
        {
          "output_type": "stream",
          "name": "stderr",
          "text": [
            "WARNING: [youtube] unable to extract initial player response; please report this issue on  https://github.com/yt-dlp/yt-dlp/issues?q= , filling out the appropriate issue template. Confirm you are on the latest version using  yt-dlp -U\n"
          ]
        },
        {
          "output_type": "stream",
          "name": "stdout",
          "text": [
            "[youtube] DHaxfzNT1KA: Downloading ios player API JSON\n",
            "[youtube] DHaxfzNT1KA: Downloading android player API JSON\n",
            "[youtube] DHaxfzNT1KA: Downloading iframe API JS\n",
            "[youtube] DHaxfzNT1KA: Downloading player da7c2a60\n",
            "[youtube] DHaxfzNT1KA: Downloading web player API JSON\n",
            "[youtube] DHaxfzNT1KA: Downloading m3u8 information\n"
          ]
        },
        {
          "output_type": "stream",
          "name": "stderr",
          "text": [
            "WARNING: [youtube] unable to extract yt initial data; please report this issue on  https://github.com/yt-dlp/yt-dlp/issues?q= , filling out the appropriate issue template. Confirm you are on the latest version using  yt-dlp -U\n",
            "WARNING: [youtube] Incomplete data received in embedded initial data; re-fetching using API.\n"
          ]
        },
        {
          "output_type": "stream",
          "name": "stdout",
          "text": [
            "[youtube] DHaxfzNT1KA: Downloading initial data API JSON\n",
            "[info] DHaxfzNT1KA: Downloading subtitles: en, en-US\n",
            "[info] DHaxfzNT1KA: Downloading 1 format(s): 616+251\n",
            "Deleting existing file Gravitational wave discovery leads to greater understanding of the fabric of our universe [DHaxfzNT1KA].en.vtt\n",
            "[info] Writing video subtitles to: Gravitational wave discovery leads to greater understanding of the fabric of our universe [DHaxfzNT1KA].en.vtt\n",
            "[hlsnative] Downloading m3u8 manifest\n",
            "[hlsnative] Total fragments: 1\n",
            "[download] Destination: Gravitational wave discovery leads to greater understanding of the fabric of our universe [DHaxfzNT1KA].en.vtt\n",
            "[download] 100% of    9.58KiB in 00:00:00 at 216.52KiB/s             \n",
            "Deleting existing file Gravitational wave discovery leads to greater understanding of the fabric of our universe [DHaxfzNT1KA].en-US.vtt\n",
            "[info] Writing video subtitles to: Gravitational wave discovery leads to greater understanding of the fabric of our universe [DHaxfzNT1KA].en-US.vtt\n",
            "[hlsnative] Downloading m3u8 manifest\n",
            "[hlsnative] Total fragments: 1\n",
            "[download] Destination: Gravitational wave discovery leads to greater understanding of the fabric of our universe [DHaxfzNT1KA].en-US.vtt\n",
            "[download] 100% of    8.40KiB in 00:00:00 at 247.54KiB/s             \n",
            "[youtube] Extracting URL: https://www.youtube.com/watch?v=DHaxfzNT1KA\n",
            "[youtube] DHaxfzNT1KA: Downloading webpage\n"
          ]
        },
        {
          "output_type": "stream",
          "name": "stderr",
          "text": [
            "WARNING: [youtube] unable to extract initial player response; please report this issue on  https://github.com/yt-dlp/yt-dlp/issues?q= , filling out the appropriate issue template. Confirm you are on the latest version using  yt-dlp -U\n"
          ]
        },
        {
          "output_type": "stream",
          "name": "stdout",
          "text": [
            "[youtube] DHaxfzNT1KA: Downloading ios player API JSON\n",
            "[youtube] DHaxfzNT1KA: Downloading android player API JSON\n",
            "[youtube] DHaxfzNT1KA: Downloading iframe API JS\n",
            "[youtube] DHaxfzNT1KA: Downloading web player API JSON\n",
            "[youtube] DHaxfzNT1KA: Downloading m3u8 information\n"
          ]
        },
        {
          "output_type": "stream",
          "name": "stderr",
          "text": [
            "WARNING: [youtube] unable to extract yt initial data; please report this issue on  https://github.com/yt-dlp/yt-dlp/issues?q= , filling out the appropriate issue template. Confirm you are on the latest version using  yt-dlp -U\n",
            "WARNING: [youtube] Incomplete data received in embedded initial data; re-fetching using API.\n"
          ]
        },
        {
          "output_type": "stream",
          "name": "stdout",
          "text": [
            "[youtube] DHaxfzNT1KA: Downloading initial data API JSON\n",
            "[info] DHaxfzNT1KA: Downloading subtitles: en, en-US\n",
            "[info] DHaxfzNT1KA: Downloading 1 format(s): 616+251\n",
            "Deleting existing file Gravitational wave discovery leads to greater understanding of the fabric of our universe [DHaxfzNT1KA].en.vtt\n",
            "[info] Writing video subtitles to: Gravitational wave discovery leads to greater understanding of the fabric of our universe [DHaxfzNT1KA].en.vtt\n",
            "[hlsnative] Downloading m3u8 manifest\n",
            "[hlsnative] Total fragments: 1\n",
            "[download] Destination: Gravitational wave discovery leads to greater understanding of the fabric of our universe [DHaxfzNT1KA].en.vtt\n",
            "[download] 100% of    9.58KiB in 00:00:00 at 193.40KiB/s             \n",
            "Deleting existing file Gravitational wave discovery leads to greater understanding of the fabric of our universe [DHaxfzNT1KA].en-US.vtt\n",
            "[info] Writing video subtitles to: Gravitational wave discovery leads to greater understanding of the fabric of our universe [DHaxfzNT1KA].en-US.vtt\n",
            "[hlsnative] Downloading m3u8 manifest\n",
            "[hlsnative] Total fragments: 1\n",
            "[download] Destination: Gravitational wave discovery leads to greater understanding of the fabric of our universe [DHaxfzNT1KA].en-US.vtt\n",
            "[download] 100% of    8.40KiB in 00:00:00 at 229.84KiB/s             \n",
            "[youtube] Extracting URL: https://www.youtube.com/watch?v=DHaxfzNT1KA\n",
            "[youtube] DHaxfzNT1KA: Downloading webpage\n"
          ]
        },
        {
          "output_type": "stream",
          "name": "stderr",
          "text": [
            "WARNING: [youtube] unable to extract initial player response; please report this issue on  https://github.com/yt-dlp/yt-dlp/issues?q= , filling out the appropriate issue template. Confirm you are on the latest version using  yt-dlp -U\n"
          ]
        },
        {
          "output_type": "stream",
          "name": "stdout",
          "text": [
            "[youtube] DHaxfzNT1KA: Downloading ios player API JSON\n",
            "[youtube] DHaxfzNT1KA: Downloading android player API JSON\n",
            "[youtube] DHaxfzNT1KA: Downloading iframe API JS\n",
            "[youtube] DHaxfzNT1KA: Downloading web player API JSON\n",
            "[youtube] DHaxfzNT1KA: Downloading m3u8 information\n"
          ]
        },
        {
          "output_type": "stream",
          "name": "stderr",
          "text": [
            "WARNING: [youtube] unable to extract yt initial data; please report this issue on  https://github.com/yt-dlp/yt-dlp/issues?q= , filling out the appropriate issue template. Confirm you are on the latest version using  yt-dlp -U\n",
            "WARNING: [youtube] Incomplete data received in embedded initial data; re-fetching using API.\n"
          ]
        },
        {
          "output_type": "stream",
          "name": "stdout",
          "text": [
            "[youtube] DHaxfzNT1KA: Downloading initial data API JSON\n",
            "[info] DHaxfzNT1KA: Downloading subtitles: en, en-US\n",
            "[info] DHaxfzNT1KA: Downloading 1 format(s): 616+251\n",
            "Deleting existing file Gravitational wave discovery leads to greater understanding of the fabric of our universe [DHaxfzNT1KA].en.vtt\n",
            "[info] Writing video subtitles to: Gravitational wave discovery leads to greater understanding of the fabric of our universe [DHaxfzNT1KA].en.vtt\n",
            "[hlsnative] Downloading m3u8 manifest\n",
            "[hlsnative] Total fragments: 1\n",
            "[download] Destination: Gravitational wave discovery leads to greater understanding of the fabric of our universe [DHaxfzNT1KA].en.vtt\n",
            "[download] 100% of    9.58KiB in 00:00:00 at 199.13KiB/s             \n",
            "Deleting existing file Gravitational wave discovery leads to greater understanding of the fabric of our universe [DHaxfzNT1KA].en-US.vtt\n",
            "[info] Writing video subtitles to: Gravitational wave discovery leads to greater understanding of the fabric of our universe [DHaxfzNT1KA].en-US.vtt\n",
            "[hlsnative] Downloading m3u8 manifest\n",
            "[hlsnative] Total fragments: 1\n",
            "[download] Destination: Gravitational wave discovery leads to greater understanding of the fabric of our universe [DHaxfzNT1KA].en-US.vtt\n",
            "[download] 100% of    8.40KiB in 00:00:00 at 254.62KiB/s             \n",
            "[youtube] Extracting URL: https://www.youtube.com/watch?v=DHaxfzNT1KA\n",
            "[youtube] DHaxfzNT1KA: Downloading webpage\n"
          ]
        },
        {
          "output_type": "stream",
          "name": "stderr",
          "text": [
            "WARNING: [youtube] unable to extract initial player response; please report this issue on  https://github.com/yt-dlp/yt-dlp/issues?q= , filling out the appropriate issue template. Confirm you are on the latest version using  yt-dlp -U\n"
          ]
        },
        {
          "output_type": "stream",
          "name": "stdout",
          "text": [
            "[youtube] DHaxfzNT1KA: Downloading ios player API JSON\n",
            "[youtube] DHaxfzNT1KA: Downloading android player API JSON\n",
            "[youtube] DHaxfzNT1KA: Downloading iframe API JS\n",
            "[youtube] DHaxfzNT1KA: Downloading web player API JSON\n",
            "[youtube] DHaxfzNT1KA: Downloading m3u8 information\n"
          ]
        },
        {
          "output_type": "stream",
          "name": "stderr",
          "text": [
            "WARNING: [youtube] unable to extract yt initial data; please report this issue on  https://github.com/yt-dlp/yt-dlp/issues?q= , filling out the appropriate issue template. Confirm you are on the latest version using  yt-dlp -U\n",
            "WARNING: [youtube] Incomplete data received in embedded initial data; re-fetching using API.\n"
          ]
        },
        {
          "output_type": "stream",
          "name": "stdout",
          "text": [
            "[youtube] DHaxfzNT1KA: Downloading initial data API JSON\n",
            "[info] DHaxfzNT1KA: Downloading subtitles: en, en-US\n",
            "[info] DHaxfzNT1KA: Downloading 1 format(s): 616+251\n",
            "Deleting existing file Gravitational wave discovery leads to greater understanding of the fabric of our universe [DHaxfzNT1KA].en.vtt\n",
            "[info] Writing video subtitles to: Gravitational wave discovery leads to greater understanding of the fabric of our universe [DHaxfzNT1KA].en.vtt\n",
            "[hlsnative] Downloading m3u8 manifest\n",
            "[hlsnative] Total fragments: 1\n",
            "[download] Destination: Gravitational wave discovery leads to greater understanding of the fabric of our universe [DHaxfzNT1KA].en.vtt\n",
            "[download] 100% of    9.58KiB in 00:00:00 at 197.00KiB/s             \n",
            "Deleting existing file Gravitational wave discovery leads to greater understanding of the fabric of our universe [DHaxfzNT1KA].en-US.vtt\n",
            "[info] Writing video subtitles to: Gravitational wave discovery leads to greater understanding of the fabric of our universe [DHaxfzNT1KA].en-US.vtt\n",
            "[hlsnative] Downloading m3u8 manifest\n",
            "[hlsnative] Total fragments: 1\n",
            "[download] Destination: Gravitational wave discovery leads to greater understanding of the fabric of our universe [DHaxfzNT1KA].en-US.vtt\n",
            "[download] 100% of    8.40KiB in 00:00:00 at 210.01KiB/s             \n",
            "[youtube] Extracting URL: https://www.youtube.com/watch?v=DHaxfzNT1KA\n",
            "[youtube] DHaxfzNT1KA: Downloading webpage\n"
          ]
        },
        {
          "output_type": "stream",
          "name": "stderr",
          "text": [
            "WARNING: [youtube] unable to extract initial player response; please report this issue on  https://github.com/yt-dlp/yt-dlp/issues?q= , filling out the appropriate issue template. Confirm you are on the latest version using  yt-dlp -U\n"
          ]
        },
        {
          "output_type": "stream",
          "name": "stdout",
          "text": [
            "[youtube] DHaxfzNT1KA: Downloading ios player API JSON\n",
            "[youtube] DHaxfzNT1KA: Downloading android player API JSON\n",
            "[youtube] DHaxfzNT1KA: Downloading iframe API JS\n",
            "[youtube] DHaxfzNT1KA: Downloading web player API JSON\n",
            "[youtube] DHaxfzNT1KA: Downloading m3u8 information\n"
          ]
        },
        {
          "output_type": "stream",
          "name": "stderr",
          "text": [
            "WARNING: [youtube] unable to extract yt initial data; please report this issue on  https://github.com/yt-dlp/yt-dlp/issues?q= , filling out the appropriate issue template. Confirm you are on the latest version using  yt-dlp -U\n",
            "WARNING: [youtube] Incomplete data received in embedded initial data; re-fetching using API.\n"
          ]
        },
        {
          "output_type": "stream",
          "name": "stdout",
          "text": [
            "[youtube] DHaxfzNT1KA: Downloading initial data API JSON\n",
            "[info] DHaxfzNT1KA: Downloading subtitles: en, en-US\n",
            "[info] DHaxfzNT1KA: Downloading 1 format(s): 616+251\n",
            "Deleting existing file Gravitational wave discovery leads to greater understanding of the fabric of our universe [DHaxfzNT1KA].en.vtt\n",
            "[info] Writing video subtitles to: Gravitational wave discovery leads to greater understanding of the fabric of our universe [DHaxfzNT1KA].en.vtt\n",
            "[hlsnative] Downloading m3u8 manifest\n",
            "[hlsnative] Total fragments: 1\n",
            "[download] Destination: Gravitational wave discovery leads to greater understanding of the fabric of our universe [DHaxfzNT1KA].en.vtt\n",
            "[download] 100% of    9.58KiB in 00:00:00 at 251.71KiB/s             \n",
            "Deleting existing file Gravitational wave discovery leads to greater understanding of the fabric of our universe [DHaxfzNT1KA].en-US.vtt\n",
            "[info] Writing video subtitles to: Gravitational wave discovery leads to greater understanding of the fabric of our universe [DHaxfzNT1KA].en-US.vtt\n",
            "[hlsnative] Downloading m3u8 manifest\n",
            "[hlsnative] Total fragments: 1\n",
            "[download] Destination: Gravitational wave discovery leads to greater understanding of the fabric of our universe [DHaxfzNT1KA].en-US.vtt\n",
            "[download] 100% of    8.40KiB in 00:00:00 at 237.96KiB/s             \n",
            "[youtube] Extracting URL: https://www.youtube.com/watch?v=DHaxfzNT1KA\n",
            "[youtube] DHaxfzNT1KA: Downloading webpage\n"
          ]
        },
        {
          "output_type": "stream",
          "name": "stderr",
          "text": [
            "WARNING: [youtube] unable to extract initial player response; please report this issue on  https://github.com/yt-dlp/yt-dlp/issues?q= , filling out the appropriate issue template. Confirm you are on the latest version using  yt-dlp -U\n"
          ]
        },
        {
          "output_type": "stream",
          "name": "stdout",
          "text": [
            "[youtube] DHaxfzNT1KA: Downloading ios player API JSON\n",
            "[youtube] DHaxfzNT1KA: Downloading android player API JSON\n",
            "[youtube] DHaxfzNT1KA: Downloading iframe API JS\n",
            "[youtube] DHaxfzNT1KA: Downloading web player API JSON\n",
            "[youtube] DHaxfzNT1KA: Downloading m3u8 information\n"
          ]
        },
        {
          "output_type": "stream",
          "name": "stderr",
          "text": [
            "WARNING: [youtube] unable to extract yt initial data; please report this issue on  https://github.com/yt-dlp/yt-dlp/issues?q= , filling out the appropriate issue template. Confirm you are on the latest version using  yt-dlp -U\n",
            "WARNING: [youtube] Incomplete data received in embedded initial data; re-fetching using API.\n"
          ]
        },
        {
          "output_type": "stream",
          "name": "stdout",
          "text": [
            "[youtube] DHaxfzNT1KA: Downloading initial data API JSON\n",
            "[info] DHaxfzNT1KA: Downloading subtitles: en, en-US\n",
            "[info] DHaxfzNT1KA: Downloading 1 format(s): 616+251\n",
            "Deleting existing file Gravitational wave discovery leads to greater understanding of the fabric of our universe [DHaxfzNT1KA].en.vtt\n",
            "[info] Writing video subtitles to: Gravitational wave discovery leads to greater understanding of the fabric of our universe [DHaxfzNT1KA].en.vtt\n",
            "[hlsnative] Downloading m3u8 manifest\n",
            "[hlsnative] Total fragments: 1\n",
            "[download] Destination: Gravitational wave discovery leads to greater understanding of the fabric of our universe [DHaxfzNT1KA].en.vtt\n",
            "[download] 100% of    9.58KiB in 00:00:00 at 191.94KiB/s             \n",
            "Deleting existing file Gravitational wave discovery leads to greater understanding of the fabric of our universe [DHaxfzNT1KA].en-US.vtt\n",
            "[info] Writing video subtitles to: Gravitational wave discovery leads to greater understanding of the fabric of our universe [DHaxfzNT1KA].en-US.vtt\n",
            "[hlsnative] Downloading m3u8 manifest\n",
            "[hlsnative] Total fragments: 1\n",
            "[download] Destination: Gravitational wave discovery leads to greater understanding of the fabric of our universe [DHaxfzNT1KA].en-US.vtt\n",
            "[download] 100% of    8.40KiB in 00:00:00 at 268.58KiB/s             \n",
            "[youtube] Extracting URL: https://www.youtube.com/watch?v=DHaxfzNT1KA\n",
            "[youtube] DHaxfzNT1KA: Downloading webpage\n"
          ]
        },
        {
          "output_type": "stream",
          "name": "stderr",
          "text": [
            "WARNING: [youtube] unable to extract initial player response; please report this issue on  https://github.com/yt-dlp/yt-dlp/issues?q= , filling out the appropriate issue template. Confirm you are on the latest version using  yt-dlp -U\n"
          ]
        },
        {
          "output_type": "stream",
          "name": "stdout",
          "text": [
            "[youtube] DHaxfzNT1KA: Downloading ios player API JSON\n",
            "[youtube] DHaxfzNT1KA: Downloading android player API JSON\n",
            "[youtube] DHaxfzNT1KA: Downloading iframe API JS\n",
            "[youtube] DHaxfzNT1KA: Downloading web player API JSON\n",
            "[youtube] DHaxfzNT1KA: Downloading m3u8 information\n"
          ]
        },
        {
          "output_type": "stream",
          "name": "stderr",
          "text": [
            "WARNING: [youtube] unable to extract yt initial data; please report this issue on  https://github.com/yt-dlp/yt-dlp/issues?q= , filling out the appropriate issue template. Confirm you are on the latest version using  yt-dlp -U\n",
            "WARNING: [youtube] Incomplete data received in embedded initial data; re-fetching using API.\n"
          ]
        },
        {
          "output_type": "stream",
          "name": "stdout",
          "text": [
            "[youtube] DHaxfzNT1KA: Downloading initial data API JSON\n",
            "[info] DHaxfzNT1KA: Downloading subtitles: en, en-US\n",
            "[info] DHaxfzNT1KA: Downloading 1 format(s): 616+251\n",
            "Deleting existing file Gravitational wave discovery leads to greater understanding of the fabric of our universe [DHaxfzNT1KA].en.vtt\n",
            "[info] Writing video subtitles to: Gravitational wave discovery leads to greater understanding of the fabric of our universe [DHaxfzNT1KA].en.vtt\n",
            "[hlsnative] Downloading m3u8 manifest\n",
            "[hlsnative] Total fragments: 1\n",
            "[download] Destination: Gravitational wave discovery leads to greater understanding of the fabric of our universe [DHaxfzNT1KA].en.vtt\n",
            "[download] 100% of    9.58KiB in 00:00:00 at 210.68KiB/s             \n",
            "Deleting existing file Gravitational wave discovery leads to greater understanding of the fabric of our universe [DHaxfzNT1KA].en-US.vtt\n",
            "[info] Writing video subtitles to: Gravitational wave discovery leads to greater understanding of the fabric of our universe [DHaxfzNT1KA].en-US.vtt\n",
            "[hlsnative] Downloading m3u8 manifest\n",
            "[hlsnative] Total fragments: 1\n",
            "[download] Destination: Gravitational wave discovery leads to greater understanding of the fabric of our universe [DHaxfzNT1KA].en-US.vtt\n",
            "[download] 100% of    8.40KiB in 00:00:00 at 227.19KiB/s             \n",
            "[youtube] Extracting URL: https://www.youtube.com/watch?v=DHaxfzNT1KA\n",
            "[youtube] DHaxfzNT1KA: Downloading webpage\n"
          ]
        },
        {
          "output_type": "stream",
          "name": "stderr",
          "text": [
            "WARNING: [youtube] unable to extract initial player response; please report this issue on  https://github.com/yt-dlp/yt-dlp/issues?q= , filling out the appropriate issue template. Confirm you are on the latest version using  yt-dlp -U\n"
          ]
        },
        {
          "output_type": "stream",
          "name": "stdout",
          "text": [
            "[youtube] DHaxfzNT1KA: Downloading ios player API JSON\n",
            "[youtube] DHaxfzNT1KA: Downloading android player API JSON\n",
            "[youtube] DHaxfzNT1KA: Downloading iframe API JS\n",
            "[youtube] DHaxfzNT1KA: Downloading web player API JSON\n",
            "[youtube] DHaxfzNT1KA: Downloading m3u8 information\n"
          ]
        },
        {
          "output_type": "stream",
          "name": "stderr",
          "text": [
            "WARNING: [youtube] unable to extract yt initial data; please report this issue on  https://github.com/yt-dlp/yt-dlp/issues?q= , filling out the appropriate issue template. Confirm you are on the latest version using  yt-dlp -U\n",
            "WARNING: [youtube] Incomplete data received in embedded initial data; re-fetching using API.\n"
          ]
        },
        {
          "output_type": "stream",
          "name": "stdout",
          "text": [
            "[youtube] DHaxfzNT1KA: Downloading initial data API JSON\n",
            "[info] DHaxfzNT1KA: Downloading subtitles: en, en-US\n",
            "[info] DHaxfzNT1KA: Downloading 1 format(s): 616+251\n",
            "Deleting existing file Gravitational wave discovery leads to greater understanding of the fabric of our universe [DHaxfzNT1KA].en.vtt\n",
            "[info] Writing video subtitles to: Gravitational wave discovery leads to greater understanding of the fabric of our universe [DHaxfzNT1KA].en.vtt\n",
            "[hlsnative] Downloading m3u8 manifest\n",
            "[hlsnative] Total fragments: 1\n",
            "[download] Destination: Gravitational wave discovery leads to greater understanding of the fabric of our universe [DHaxfzNT1KA].en.vtt\n",
            "[download] 100% of    9.58KiB in 00:00:00 at 171.26KiB/s             \n",
            "Deleting existing file Gravitational wave discovery leads to greater understanding of the fabric of our universe [DHaxfzNT1KA].en-US.vtt\n",
            "[info] Writing video subtitles to: Gravitational wave discovery leads to greater understanding of the fabric of our universe [DHaxfzNT1KA].en-US.vtt\n",
            "[hlsnative] Downloading m3u8 manifest\n",
            "[hlsnative] Total fragments: 1\n",
            "[download] Destination: Gravitational wave discovery leads to greater understanding of the fabric of our universe [DHaxfzNT1KA].en-US.vtt\n",
            "[download] 100% of    8.40KiB in 00:00:00 at 205.98KiB/s             \n",
            "[youtube] Extracting URL: https://www.youtube.com/watch?v=DHaxfzNT1KA\n",
            "[youtube] DHaxfzNT1KA: Downloading webpage\n"
          ]
        },
        {
          "output_type": "stream",
          "name": "stderr",
          "text": [
            "WARNING: [youtube] unable to extract initial player response; please report this issue on  https://github.com/yt-dlp/yt-dlp/issues?q= , filling out the appropriate issue template. Confirm you are on the latest version using  yt-dlp -U\n"
          ]
        },
        {
          "output_type": "stream",
          "name": "stdout",
          "text": [
            "[youtube] DHaxfzNT1KA: Downloading ios player API JSON\n",
            "[youtube] DHaxfzNT1KA: Downloading android player API JSON\n",
            "[youtube] DHaxfzNT1KA: Downloading iframe API JS\n",
            "[youtube] DHaxfzNT1KA: Downloading web player API JSON\n",
            "[youtube] DHaxfzNT1KA: Downloading m3u8 information\n"
          ]
        },
        {
          "output_type": "stream",
          "name": "stderr",
          "text": [
            "WARNING: [youtube] unable to extract yt initial data; please report this issue on  https://github.com/yt-dlp/yt-dlp/issues?q= , filling out the appropriate issue template. Confirm you are on the latest version using  yt-dlp -U\n",
            "WARNING: [youtube] Incomplete data received in embedded initial data; re-fetching using API.\n"
          ]
        },
        {
          "output_type": "stream",
          "name": "stdout",
          "text": [
            "[youtube] DHaxfzNT1KA: Downloading initial data API JSON\n",
            "[info] DHaxfzNT1KA: Downloading subtitles: en, en-US\n",
            "[info] DHaxfzNT1KA: Downloading 1 format(s): 616+251\n",
            "Deleting existing file Gravitational wave discovery leads to greater understanding of the fabric of our universe [DHaxfzNT1KA].en.vtt\n",
            "[info] Writing video subtitles to: Gravitational wave discovery leads to greater understanding of the fabric of our universe [DHaxfzNT1KA].en.vtt\n",
            "[hlsnative] Downloading m3u8 manifest\n",
            "[hlsnative] Total fragments: 1\n",
            "[download] Destination: Gravitational wave discovery leads to greater understanding of the fabric of our universe [DHaxfzNT1KA].en.vtt\n",
            "[download] 100% of    9.58KiB in 00:00:00 at 208.82KiB/s             \n",
            "Deleting existing file Gravitational wave discovery leads to greater understanding of the fabric of our universe [DHaxfzNT1KA].en-US.vtt\n",
            "[info] Writing video subtitles to: Gravitational wave discovery leads to greater understanding of the fabric of our universe [DHaxfzNT1KA].en-US.vtt\n",
            "[hlsnative] Downloading m3u8 manifest\n",
            "[hlsnative] Total fragments: 1\n",
            "[download] Destination: Gravitational wave discovery leads to greater understanding of the fabric of our universe [DHaxfzNT1KA].en-US.vtt\n",
            "[download] 100% of    8.40KiB in 00:00:00 at 186.61KiB/s             \n",
            "[youtube] Extracting URL: https://www.youtube.com/watch?v=DHaxfzNT1KA\n",
            "[youtube] DHaxfzNT1KA: Downloading webpage\n"
          ]
        },
        {
          "output_type": "stream",
          "name": "stderr",
          "text": [
            "WARNING: [youtube] unable to extract initial player response; please report this issue on  https://github.com/yt-dlp/yt-dlp/issues?q= , filling out the appropriate issue template. Confirm you are on the latest version using  yt-dlp -U\n"
          ]
        },
        {
          "output_type": "stream",
          "name": "stdout",
          "text": [
            "[youtube] DHaxfzNT1KA: Downloading ios player API JSON\n",
            "[youtube] DHaxfzNT1KA: Downloading android player API JSON\n",
            "[youtube] DHaxfzNT1KA: Downloading iframe API JS\n",
            "[youtube] DHaxfzNT1KA: Downloading web player API JSON\n",
            "[youtube] DHaxfzNT1KA: Downloading m3u8 information\n"
          ]
        },
        {
          "output_type": "stream",
          "name": "stderr",
          "text": [
            "WARNING: [youtube] unable to extract yt initial data; please report this issue on  https://github.com/yt-dlp/yt-dlp/issues?q= , filling out the appropriate issue template. Confirm you are on the latest version using  yt-dlp -U\n",
            "WARNING: [youtube] Incomplete data received in embedded initial data; re-fetching using API.\n"
          ]
        },
        {
          "output_type": "stream",
          "name": "stdout",
          "text": [
            "[youtube] DHaxfzNT1KA: Downloading initial data API JSON\n",
            "[info] DHaxfzNT1KA: Downloading subtitles: en, en-US\n",
            "[info] DHaxfzNT1KA: Downloading 1 format(s): 616+251\n",
            "Deleting existing file Gravitational wave discovery leads to greater understanding of the fabric of our universe [DHaxfzNT1KA].en.vtt\n",
            "[info] Writing video subtitles to: Gravitational wave discovery leads to greater understanding of the fabric of our universe [DHaxfzNT1KA].en.vtt\n",
            "[hlsnative] Downloading m3u8 manifest\n",
            "[hlsnative] Total fragments: 1\n",
            "[download] Destination: Gravitational wave discovery leads to greater understanding of the fabric of our universe [DHaxfzNT1KA].en.vtt\n",
            "[download] 100% of    9.58KiB in 00:00:00 at 165.29KiB/s             \n",
            "Deleting existing file Gravitational wave discovery leads to greater understanding of the fabric of our universe [DHaxfzNT1KA].en-US.vtt\n",
            "[info] Writing video subtitles to: Gravitational wave discovery leads to greater understanding of the fabric of our universe [DHaxfzNT1KA].en-US.vtt\n",
            "[hlsnative] Downloading m3u8 manifest\n",
            "[hlsnative] Total fragments: 1\n",
            "[download] Destination: Gravitational wave discovery leads to greater understanding of the fabric of our universe [DHaxfzNT1KA].en-US.vtt\n",
            "[download] 100% of    8.40KiB in 00:00:00 at 252.92KiB/s             \n",
            "[youtube] Extracting URL: https://www.youtube.com/watch?v=DHaxfzNT1KA\n",
            "[youtube] DHaxfzNT1KA: Downloading webpage\n"
          ]
        },
        {
          "output_type": "stream",
          "name": "stderr",
          "text": [
            "WARNING: [youtube] unable to extract initial player response; please report this issue on  https://github.com/yt-dlp/yt-dlp/issues?q= , filling out the appropriate issue template. Confirm you are on the latest version using  yt-dlp -U\n"
          ]
        },
        {
          "output_type": "stream",
          "name": "stdout",
          "text": [
            "[youtube] DHaxfzNT1KA: Downloading ios player API JSON\n",
            "[youtube] DHaxfzNT1KA: Downloading android player API JSON\n",
            "[youtube] DHaxfzNT1KA: Downloading iframe API JS\n",
            "[youtube] DHaxfzNT1KA: Downloading web player API JSON\n",
            "[youtube] DHaxfzNT1KA: Downloading m3u8 information\n"
          ]
        },
        {
          "output_type": "stream",
          "name": "stderr",
          "text": [
            "WARNING: [youtube] unable to extract yt initial data; please report this issue on  https://github.com/yt-dlp/yt-dlp/issues?q= , filling out the appropriate issue template. Confirm you are on the latest version using  yt-dlp -U\n",
            "WARNING: [youtube] Incomplete data received in embedded initial data; re-fetching using API.\n"
          ]
        },
        {
          "output_type": "stream",
          "name": "stdout",
          "text": [
            "[youtube] DHaxfzNT1KA: Downloading initial data API JSON\n",
            "[info] DHaxfzNT1KA: Downloading subtitles: en, en-US\n",
            "[info] DHaxfzNT1KA: Downloading 1 format(s): 616+251\n",
            "Deleting existing file Gravitational wave discovery leads to greater understanding of the fabric of our universe [DHaxfzNT1KA].en.vtt\n",
            "[info] Writing video subtitles to: Gravitational wave discovery leads to greater understanding of the fabric of our universe [DHaxfzNT1KA].en.vtt\n",
            "[hlsnative] Downloading m3u8 manifest\n",
            "[hlsnative] Total fragments: 1\n",
            "[download] Destination: Gravitational wave discovery leads to greater understanding of the fabric of our universe [DHaxfzNT1KA].en.vtt\n",
            "[download] 100% of    9.58KiB in 00:00:00 at 218.53KiB/s             \n",
            "Deleting existing file Gravitational wave discovery leads to greater understanding of the fabric of our universe [DHaxfzNT1KA].en-US.vtt\n",
            "[info] Writing video subtitles to: Gravitational wave discovery leads to greater understanding of the fabric of our universe [DHaxfzNT1KA].en-US.vtt\n",
            "[hlsnative] Downloading m3u8 manifest\n",
            "[hlsnative] Total fragments: 1\n",
            "[download] Destination: Gravitational wave discovery leads to greater understanding of the fabric of our universe [DHaxfzNT1KA].en-US.vtt\n",
            "[download] 100% of    8.40KiB in 00:00:00 at 213.33KiB/s             \n",
            "[youtube] Extracting URL: https://www.youtube.com/watch?v=DHaxfzNT1KA\n",
            "[youtube] DHaxfzNT1KA: Downloading webpage\n"
          ]
        },
        {
          "output_type": "stream",
          "name": "stderr",
          "text": [
            "WARNING: [youtube] unable to extract initial player response; please report this issue on  https://github.com/yt-dlp/yt-dlp/issues?q= , filling out the appropriate issue template. Confirm you are on the latest version using  yt-dlp -U\n"
          ]
        },
        {
          "output_type": "stream",
          "name": "stdout",
          "text": [
            "[youtube] DHaxfzNT1KA: Downloading ios player API JSON\n",
            "[youtube] DHaxfzNT1KA: Downloading android player API JSON\n",
            "[youtube] DHaxfzNT1KA: Downloading iframe API JS\n",
            "[youtube] DHaxfzNT1KA: Downloading web player API JSON\n",
            "[youtube] DHaxfzNT1KA: Downloading m3u8 information\n"
          ]
        },
        {
          "output_type": "stream",
          "name": "stderr",
          "text": [
            "WARNING: [youtube] unable to extract yt initial data; please report this issue on  https://github.com/yt-dlp/yt-dlp/issues?q= , filling out the appropriate issue template. Confirm you are on the latest version using  yt-dlp -U\n",
            "WARNING: [youtube] Incomplete data received in embedded initial data; re-fetching using API.\n"
          ]
        },
        {
          "output_type": "stream",
          "name": "stdout",
          "text": [
            "[youtube] DHaxfzNT1KA: Downloading initial data API JSON\n",
            "[info] DHaxfzNT1KA: Downloading subtitles: en, en-US\n",
            "[info] DHaxfzNT1KA: Downloading 1 format(s): 616+251\n",
            "Deleting existing file Gravitational wave discovery leads to greater understanding of the fabric of our universe [DHaxfzNT1KA].en.vtt\n",
            "[info] Writing video subtitles to: Gravitational wave discovery leads to greater understanding of the fabric of our universe [DHaxfzNT1KA].en.vtt\n",
            "[hlsnative] Downloading m3u8 manifest\n",
            "[hlsnative] Total fragments: 1\n",
            "[download] Destination: Gravitational wave discovery leads to greater understanding of the fabric of our universe [DHaxfzNT1KA].en.vtt\n",
            "[download] 100% of    9.58KiB in 00:00:00 at 208.58KiB/s             \n",
            "Deleting existing file Gravitational wave discovery leads to greater understanding of the fabric of our universe [DHaxfzNT1KA].en-US.vtt\n",
            "[info] Writing video subtitles to: Gravitational wave discovery leads to greater understanding of the fabric of our universe [DHaxfzNT1KA].en-US.vtt\n",
            "[hlsnative] Downloading m3u8 manifest\n",
            "[hlsnative] Total fragments: 1\n",
            "[download] Destination: Gravitational wave discovery leads to greater understanding of the fabric of our universe [DHaxfzNT1KA].en-US.vtt\n",
            "[download] 100% of    8.40KiB in 00:00:00 at 240.53KiB/s             \n",
            "[youtube] Extracting URL: https://www.youtube.com/watch?v=DHaxfzNT1KA\n",
            "[youtube] DHaxfzNT1KA: Downloading webpage\n"
          ]
        },
        {
          "output_type": "stream",
          "name": "stderr",
          "text": [
            "WARNING: [youtube] unable to extract initial player response; please report this issue on  https://github.com/yt-dlp/yt-dlp/issues?q= , filling out the appropriate issue template. Confirm you are on the latest version using  yt-dlp -U\n"
          ]
        },
        {
          "output_type": "stream",
          "name": "stdout",
          "text": [
            "[youtube] DHaxfzNT1KA: Downloading ios player API JSON\n",
            "[youtube] DHaxfzNT1KA: Downloading android player API JSON\n",
            "[youtube] DHaxfzNT1KA: Downloading iframe API JS\n",
            "[youtube] DHaxfzNT1KA: Downloading web player API JSON\n",
            "[youtube] DHaxfzNT1KA: Downloading m3u8 information\n"
          ]
        },
        {
          "output_type": "stream",
          "name": "stderr",
          "text": [
            "WARNING: [youtube] unable to extract yt initial data; please report this issue on  https://github.com/yt-dlp/yt-dlp/issues?q= , filling out the appropriate issue template. Confirm you are on the latest version using  yt-dlp -U\n",
            "WARNING: [youtube] Incomplete data received in embedded initial data; re-fetching using API.\n"
          ]
        },
        {
          "output_type": "stream",
          "name": "stdout",
          "text": [
            "[youtube] DHaxfzNT1KA: Downloading initial data API JSON\n",
            "[info] DHaxfzNT1KA: Downloading subtitles: en, en-US\n",
            "[info] DHaxfzNT1KA: Downloading 1 format(s): 616+251\n",
            "Deleting existing file Gravitational wave discovery leads to greater understanding of the fabric of our universe [DHaxfzNT1KA].en.vtt\n",
            "[info] Writing video subtitles to: Gravitational wave discovery leads to greater understanding of the fabric of our universe [DHaxfzNT1KA].en.vtt\n",
            "[hlsnative] Downloading m3u8 manifest\n",
            "[hlsnative] Total fragments: 1\n",
            "[download] Destination: Gravitational wave discovery leads to greater understanding of the fabric of our universe [DHaxfzNT1KA].en.vtt\n",
            "[download] 100% of    9.58KiB in 00:00:00 at 228.41KiB/s             \n",
            "Deleting existing file Gravitational wave discovery leads to greater understanding of the fabric of our universe [DHaxfzNT1KA].en-US.vtt\n",
            "[info] Writing video subtitles to: Gravitational wave discovery leads to greater understanding of the fabric of our universe [DHaxfzNT1KA].en-US.vtt\n",
            "[hlsnative] Downloading m3u8 manifest\n",
            "[hlsnative] Total fragments: 1\n",
            "[download] Destination: Gravitational wave discovery leads to greater understanding of the fabric of our universe [DHaxfzNT1KA].en-US.vtt\n",
            "[download] 100% of    8.40KiB in 00:00:00 at 232.01KiB/s             \n",
            "[youtube] Extracting URL: https://www.youtube.com/watch?v=DHaxfzNT1KA\n",
            "[youtube] DHaxfzNT1KA: Downloading webpage\n"
          ]
        },
        {
          "output_type": "stream",
          "name": "stderr",
          "text": [
            "WARNING: [youtube] unable to extract initial player response; please report this issue on  https://github.com/yt-dlp/yt-dlp/issues?q= , filling out the appropriate issue template. Confirm you are on the latest version using  yt-dlp -U\n"
          ]
        },
        {
          "output_type": "stream",
          "name": "stdout",
          "text": [
            "[youtube] DHaxfzNT1KA: Downloading ios player API JSON\n",
            "[youtube] DHaxfzNT1KA: Downloading android player API JSON\n",
            "[youtube] DHaxfzNT1KA: Downloading iframe API JS\n",
            "[youtube] DHaxfzNT1KA: Downloading web player API JSON\n",
            "[youtube] DHaxfzNT1KA: Downloading m3u8 information\n"
          ]
        },
        {
          "output_type": "stream",
          "name": "stderr",
          "text": [
            "WARNING: [youtube] unable to extract yt initial data; please report this issue on  https://github.com/yt-dlp/yt-dlp/issues?q= , filling out the appropriate issue template. Confirm you are on the latest version using  yt-dlp -U\n",
            "WARNING: [youtube] Incomplete data received in embedded initial data; re-fetching using API.\n"
          ]
        },
        {
          "output_type": "stream",
          "name": "stdout",
          "text": [
            "[youtube] DHaxfzNT1KA: Downloading initial data API JSON\n",
            "[info] DHaxfzNT1KA: Downloading subtitles: en, en-US\n",
            "[info] DHaxfzNT1KA: Downloading 1 format(s): 616+251\n",
            "Deleting existing file Gravitational wave discovery leads to greater understanding of the fabric of our universe [DHaxfzNT1KA].en.vtt\n",
            "[info] Writing video subtitles to: Gravitational wave discovery leads to greater understanding of the fabric of our universe [DHaxfzNT1KA].en.vtt\n",
            "[hlsnative] Downloading m3u8 manifest\n",
            "[hlsnative] Total fragments: 1\n",
            "[download] Destination: Gravitational wave discovery leads to greater understanding of the fabric of our universe [DHaxfzNT1KA].en.vtt\n",
            "[download] 100% of    9.58KiB in 00:00:00 at 194.89KiB/s             \n",
            "Deleting existing file Gravitational wave discovery leads to greater understanding of the fabric of our universe [DHaxfzNT1KA].en-US.vtt\n",
            "[info] Writing video subtitles to: Gravitational wave discovery leads to greater understanding of the fabric of our universe [DHaxfzNT1KA].en-US.vtt\n",
            "[hlsnative] Downloading m3u8 manifest\n",
            "[hlsnative] Total fragments: 1\n",
            "[download] Destination: Gravitational wave discovery leads to greater understanding of the fabric of our universe [DHaxfzNT1KA].en-US.vtt\n",
            "[download] 100% of    8.40KiB in 00:00:00 at 216.27KiB/s             \n",
            "[youtube] Extracting URL: https://www.youtube.com/watch?v=DHaxfzNT1KA\n",
            "[youtube] DHaxfzNT1KA: Downloading webpage\n"
          ]
        },
        {
          "output_type": "stream",
          "name": "stderr",
          "text": [
            "WARNING: [youtube] unable to extract initial player response; please report this issue on  https://github.com/yt-dlp/yt-dlp/issues?q= , filling out the appropriate issue template. Confirm you are on the latest version using  yt-dlp -U\n"
          ]
        },
        {
          "output_type": "stream",
          "name": "stdout",
          "text": [
            "[youtube] DHaxfzNT1KA: Downloading ios player API JSON\n",
            "[youtube] DHaxfzNT1KA: Downloading android player API JSON\n",
            "[youtube] DHaxfzNT1KA: Downloading iframe API JS\n",
            "[youtube] DHaxfzNT1KA: Downloading web player API JSON\n",
            "[youtube] DHaxfzNT1KA: Downloading m3u8 information\n"
          ]
        },
        {
          "output_type": "stream",
          "name": "stderr",
          "text": [
            "WARNING: [youtube] unable to extract yt initial data; please report this issue on  https://github.com/yt-dlp/yt-dlp/issues?q= , filling out the appropriate issue template. Confirm you are on the latest version using  yt-dlp -U\n",
            "WARNING: [youtube] Incomplete data received in embedded initial data; re-fetching using API.\n"
          ]
        },
        {
          "output_type": "stream",
          "name": "stdout",
          "text": [
            "[youtube] DHaxfzNT1KA: Downloading initial data API JSON\n",
            "[info] DHaxfzNT1KA: Downloading subtitles: en, en-US\n",
            "[info] DHaxfzNT1KA: Downloading 1 format(s): 616+251\n",
            "Deleting existing file Gravitational wave discovery leads to greater understanding of the fabric of our universe [DHaxfzNT1KA].en.vtt\n",
            "[info] Writing video subtitles to: Gravitational wave discovery leads to greater understanding of the fabric of our universe [DHaxfzNT1KA].en.vtt\n",
            "[hlsnative] Downloading m3u8 manifest\n",
            "[hlsnative] Total fragments: 1\n",
            "[download] Destination: Gravitational wave discovery leads to greater understanding of the fabric of our universe [DHaxfzNT1KA].en.vtt\n",
            "[download] 100% of    9.58KiB in 00:00:00 at 181.47KiB/s             \n",
            "Deleting existing file Gravitational wave discovery leads to greater understanding of the fabric of our universe [DHaxfzNT1KA].en-US.vtt\n",
            "[info] Writing video subtitles to: Gravitational wave discovery leads to greater understanding of the fabric of our universe [DHaxfzNT1KA].en-US.vtt\n",
            "[hlsnative] Downloading m3u8 manifest\n",
            "[hlsnative] Total fragments: 1\n",
            "[download] Destination: Gravitational wave discovery leads to greater understanding of the fabric of our universe [DHaxfzNT1KA].en-US.vtt\n",
            "[download] 100% of    8.40KiB in 00:00:00 at 253.43KiB/s             \n",
            "[youtube] Extracting URL: https://www.youtube.com/watch?v=DHaxfzNT1KA\n",
            "[youtube] DHaxfzNT1KA: Downloading webpage\n"
          ]
        },
        {
          "output_type": "stream",
          "name": "stderr",
          "text": [
            "WARNING: [youtube] unable to extract initial player response; please report this issue on  https://github.com/yt-dlp/yt-dlp/issues?q= , filling out the appropriate issue template. Confirm you are on the latest version using  yt-dlp -U\n"
          ]
        },
        {
          "output_type": "stream",
          "name": "stdout",
          "text": [
            "[youtube] DHaxfzNT1KA: Downloading ios player API JSON\n",
            "[youtube] DHaxfzNT1KA: Downloading android player API JSON\n",
            "[youtube] DHaxfzNT1KA: Downloading iframe API JS\n",
            "[youtube] DHaxfzNT1KA: Downloading web player API JSON\n",
            "[youtube] DHaxfzNT1KA: Downloading m3u8 information\n"
          ]
        },
        {
          "output_type": "stream",
          "name": "stderr",
          "text": [
            "WARNING: [youtube] unable to extract yt initial data; please report this issue on  https://github.com/yt-dlp/yt-dlp/issues?q= , filling out the appropriate issue template. Confirm you are on the latest version using  yt-dlp -U\n",
            "WARNING: [youtube] Incomplete data received in embedded initial data; re-fetching using API.\n"
          ]
        },
        {
          "output_type": "stream",
          "name": "stdout",
          "text": [
            "[youtube] DHaxfzNT1KA: Downloading initial data API JSON\n",
            "[info] DHaxfzNT1KA: Downloading subtitles: en, en-US\n",
            "[info] DHaxfzNT1KA: Downloading 1 format(s): 616+251\n",
            "Deleting existing file Gravitational wave discovery leads to greater understanding of the fabric of our universe [DHaxfzNT1KA].en.vtt\n",
            "[info] Writing video subtitles to: Gravitational wave discovery leads to greater understanding of the fabric of our universe [DHaxfzNT1KA].en.vtt\n",
            "[hlsnative] Downloading m3u8 manifest\n",
            "[hlsnative] Total fragments: 1\n",
            "[download] Destination: Gravitational wave discovery leads to greater understanding of the fabric of our universe [DHaxfzNT1KA].en.vtt\n",
            "[download] 100% of    9.58KiB in 00:00:00 at 186.19KiB/s             \n",
            "Deleting existing file Gravitational wave discovery leads to greater understanding of the fabric of our universe [DHaxfzNT1KA].en-US.vtt\n",
            "[info] Writing video subtitles to: Gravitational wave discovery leads to greater understanding of the fabric of our universe [DHaxfzNT1KA].en-US.vtt\n",
            "[hlsnative] Downloading m3u8 manifest\n",
            "[hlsnative] Total fragments: 1\n",
            "[download] Destination: Gravitational wave discovery leads to greater understanding of the fabric of our universe [DHaxfzNT1KA].en-US.vtt\n",
            "[download] 100% of    8.40KiB in 00:00:00 at 232.98KiB/s             \n",
            "[youtube] Extracting URL: https://www.youtube.com/watch?v=DHaxfzNT1KA\n",
            "[youtube] DHaxfzNT1KA: Downloading webpage\n"
          ]
        },
        {
          "output_type": "stream",
          "name": "stderr",
          "text": [
            "WARNING: [youtube] unable to extract initial player response; please report this issue on  https://github.com/yt-dlp/yt-dlp/issues?q= , filling out the appropriate issue template. Confirm you are on the latest version using  yt-dlp -U\n"
          ]
        },
        {
          "output_type": "stream",
          "name": "stdout",
          "text": [
            "[youtube] DHaxfzNT1KA: Downloading ios player API JSON\n",
            "[youtube] DHaxfzNT1KA: Downloading android player API JSON\n",
            "[youtube] DHaxfzNT1KA: Downloading iframe API JS\n",
            "[youtube] DHaxfzNT1KA: Downloading web player API JSON\n",
            "[youtube] DHaxfzNT1KA: Downloading m3u8 information\n"
          ]
        },
        {
          "output_type": "stream",
          "name": "stderr",
          "text": [
            "WARNING: [youtube] unable to extract yt initial data; please report this issue on  https://github.com/yt-dlp/yt-dlp/issues?q= , filling out the appropriate issue template. Confirm you are on the latest version using  yt-dlp -U\n",
            "WARNING: [youtube] Incomplete data received in embedded initial data; re-fetching using API.\n"
          ]
        },
        {
          "output_type": "stream",
          "name": "stdout",
          "text": [
            "[youtube] DHaxfzNT1KA: Downloading initial data API JSON\n",
            "[info] DHaxfzNT1KA: Downloading subtitles: en, en-US\n",
            "[info] DHaxfzNT1KA: Downloading 1 format(s): 616+251\n",
            "Deleting existing file Gravitational wave discovery leads to greater understanding of the fabric of our universe [DHaxfzNT1KA].en.vtt\n",
            "[info] Writing video subtitles to: Gravitational wave discovery leads to greater understanding of the fabric of our universe [DHaxfzNT1KA].en.vtt\n",
            "[hlsnative] Downloading m3u8 manifest\n",
            "[hlsnative] Total fragments: 1\n",
            "[download] Destination: Gravitational wave discovery leads to greater understanding of the fabric of our universe [DHaxfzNT1KA].en.vtt\n",
            "[download] 100% of    9.58KiB in 00:00:00 at 192.99KiB/s             \n",
            "Deleting existing file Gravitational wave discovery leads to greater understanding of the fabric of our universe [DHaxfzNT1KA].en-US.vtt\n",
            "[info] Writing video subtitles to: Gravitational wave discovery leads to greater understanding of the fabric of our universe [DHaxfzNT1KA].en-US.vtt\n",
            "[hlsnative] Downloading m3u8 manifest\n",
            "[hlsnative] Total fragments: 1\n",
            "[download] Destination: Gravitational wave discovery leads to greater understanding of the fabric of our universe [DHaxfzNT1KA].en-US.vtt\n",
            "[download] 100% of    8.40KiB in 00:00:00 at 211.83KiB/s             \n",
            "[youtube] Extracting URL: https://www.youtube.com/watch?v=DHaxfzNT1KA\n",
            "[youtube] DHaxfzNT1KA: Downloading webpage\n"
          ]
        },
        {
          "output_type": "stream",
          "name": "stderr",
          "text": [
            "WARNING: [youtube] unable to extract initial player response; please report this issue on  https://github.com/yt-dlp/yt-dlp/issues?q= , filling out the appropriate issue template. Confirm you are on the latest version using  yt-dlp -U\n"
          ]
        },
        {
          "output_type": "stream",
          "name": "stdout",
          "text": [
            "[youtube] DHaxfzNT1KA: Downloading ios player API JSON\n",
            "[youtube] DHaxfzNT1KA: Downloading android player API JSON\n",
            "[youtube] DHaxfzNT1KA: Downloading iframe API JS\n",
            "[youtube] DHaxfzNT1KA: Downloading web player API JSON\n",
            "[youtube] DHaxfzNT1KA: Downloading m3u8 information\n"
          ]
        },
        {
          "output_type": "stream",
          "name": "stderr",
          "text": [
            "WARNING: [youtube] unable to extract yt initial data; please report this issue on  https://github.com/yt-dlp/yt-dlp/issues?q= , filling out the appropriate issue template. Confirm you are on the latest version using  yt-dlp -U\n",
            "WARNING: [youtube] Incomplete data received in embedded initial data; re-fetching using API.\n"
          ]
        },
        {
          "output_type": "stream",
          "name": "stdout",
          "text": [
            "[youtube] DHaxfzNT1KA: Downloading initial data API JSON\n",
            "[info] DHaxfzNT1KA: Downloading subtitles: en, en-US\n",
            "[info] DHaxfzNT1KA: Downloading 1 format(s): 616+251\n",
            "Deleting existing file Gravitational wave discovery leads to greater understanding of the fabric of our universe [DHaxfzNT1KA].en.vtt\n",
            "[info] Writing video subtitles to: Gravitational wave discovery leads to greater understanding of the fabric of our universe [DHaxfzNT1KA].en.vtt\n",
            "[hlsnative] Downloading m3u8 manifest\n",
            "[hlsnative] Total fragments: 1\n",
            "[download] Destination: Gravitational wave discovery leads to greater understanding of the fabric of our universe [DHaxfzNT1KA].en.vtt\n",
            "[download] 100% of    9.58KiB in 00:00:00 at 190.16KiB/s             \n",
            "Deleting existing file Gravitational wave discovery leads to greater understanding of the fabric of our universe [DHaxfzNT1KA].en-US.vtt\n",
            "[info] Writing video subtitles to: Gravitational wave discovery leads to greater understanding of the fabric of our universe [DHaxfzNT1KA].en-US.vtt\n",
            "[hlsnative] Downloading m3u8 manifest\n",
            "[hlsnative] Total fragments: 1\n",
            "[download] Destination: Gravitational wave discovery leads to greater understanding of the fabric of our universe [DHaxfzNT1KA].en-US.vtt\n",
            "[download] 100% of    8.40KiB in 00:00:00 at 250.15KiB/s             \n",
            "[youtube] Extracting URL: https://www.youtube.com/watch?v=DHaxfzNT1KA\n",
            "[youtube] DHaxfzNT1KA: Downloading webpage\n"
          ]
        },
        {
          "output_type": "stream",
          "name": "stderr",
          "text": [
            "WARNING: [youtube] unable to extract initial player response; please report this issue on  https://github.com/yt-dlp/yt-dlp/issues?q= , filling out the appropriate issue template. Confirm you are on the latest version using  yt-dlp -U\n"
          ]
        },
        {
          "output_type": "stream",
          "name": "stdout",
          "text": [
            "[youtube] DHaxfzNT1KA: Downloading ios player API JSON\n",
            "[youtube] DHaxfzNT1KA: Downloading android player API JSON\n",
            "[youtube] DHaxfzNT1KA: Downloading iframe API JS\n",
            "[youtube] DHaxfzNT1KA: Downloading web player API JSON\n",
            "[youtube] DHaxfzNT1KA: Downloading m3u8 information\n"
          ]
        },
        {
          "output_type": "stream",
          "name": "stderr",
          "text": [
            "WARNING: [youtube] unable to extract yt initial data; please report this issue on  https://github.com/yt-dlp/yt-dlp/issues?q= , filling out the appropriate issue template. Confirm you are on the latest version using  yt-dlp -U\n",
            "WARNING: [youtube] Incomplete data received in embedded initial data; re-fetching using API.\n"
          ]
        },
        {
          "output_type": "stream",
          "name": "stdout",
          "text": [
            "[youtube] DHaxfzNT1KA: Downloading initial data API JSON\n",
            "[info] DHaxfzNT1KA: Downloading subtitles: en, en-US\n",
            "[info] DHaxfzNT1KA: Downloading 1 format(s): 616+251\n",
            "Deleting existing file Gravitational wave discovery leads to greater understanding of the fabric of our universe [DHaxfzNT1KA].en.vtt\n",
            "[info] Writing video subtitles to: Gravitational wave discovery leads to greater understanding of the fabric of our universe [DHaxfzNT1KA].en.vtt\n",
            "[hlsnative] Downloading m3u8 manifest\n",
            "[hlsnative] Total fragments: 1\n",
            "[download] Destination: Gravitational wave discovery leads to greater understanding of the fabric of our universe [DHaxfzNT1KA].en.vtt\n",
            "[download] 100% of    9.58KiB in 00:00:00 at 139.31KiB/s             \n",
            "Deleting existing file Gravitational wave discovery leads to greater understanding of the fabric of our universe [DHaxfzNT1KA].en-US.vtt\n",
            "[info] Writing video subtitles to: Gravitational wave discovery leads to greater understanding of the fabric of our universe [DHaxfzNT1KA].en-US.vtt\n",
            "[hlsnative] Downloading m3u8 manifest\n",
            "[hlsnative] Total fragments: 1\n",
            "[download] Destination: Gravitational wave discovery leads to greater understanding of the fabric of our universe [DHaxfzNT1KA].en-US.vtt\n",
            "[download] 100% of    8.40KiB in 00:00:00 at 184.46KiB/s             \n",
            "text file expected Gravitational wave discovery leads to greater understanding of the fabric of our universe [DHaxfzNT1KA].en.vtt.txt\n",
            "Intermediate Summaries ->>>>>>>>>>>>>>>>>>>>>>>>>\n",
            " ['An international team of scientists has discovered new signs of GRAVITATIONAL WAVES. The waves are RIPPLES in the FABRIC of our universe, the COSMOS as we know it. The scientists have been working on this project for 15 years.', \"The researchers are trying to understand how the universe formed. They think it might be made up of millions of super-MASSIVE BLACK HOLES. They're also looking for GRAVITATIONAL WAVES. The scientists hope to connect the dots between these two phenomena.\"]\n",
            "Summary is ->>>>>>>>>>>>>>>>>>>>>>>>>\n",
            "An international team of scientists has discovered new signs of GRAVITATIONAL WAVES. The waves are RIPPLES in the FABRIC of our universe, the COSMOS as we know it. The scientists have been working on this project for 15 years. The researchers are trying to understand how the universe formed. They think it might be made up of millions of super-MASSIVE BLACK HOLES. They're also looking for GRAVITATIONAL WAVES. The scientists hope to connect the dots between these two phenomena.\n",
            "[youtube] Extracting URL: https://www.youtube.com/watch?v=wmx_35rQIRg\n",
            "[youtube] wmx_35rQIRg: Downloading webpage\n"
          ]
        },
        {
          "output_type": "stream",
          "name": "stderr",
          "text": [
            "WARNING: [youtube] unable to extract initial player response; please report this issue on  https://github.com/yt-dlp/yt-dlp/issues?q= , filling out the appropriate issue template. Confirm you are on the latest version using  yt-dlp -U\n"
          ]
        },
        {
          "output_type": "stream",
          "name": "stdout",
          "text": [
            "[youtube] wmx_35rQIRg: Downloading ios player API JSON\n",
            "[youtube] wmx_35rQIRg: Downloading android player API JSON\n",
            "[youtube] wmx_35rQIRg: Downloading iframe API JS\n",
            "[youtube] wmx_35rQIRg: Downloading player f980f2a9\n",
            "[youtube] wmx_35rQIRg: Downloading web player API JSON\n",
            "[youtube] wmx_35rQIRg: Downloading m3u8 information\n"
          ]
        },
        {
          "output_type": "stream",
          "name": "stderr",
          "text": [
            "WARNING: [youtube] unable to extract yt initial data; please report this issue on  https://github.com/yt-dlp/yt-dlp/issues?q= , filling out the appropriate issue template. Confirm you are on the latest version using  yt-dlp -U\n",
            "WARNING: [youtube] Incomplete data received in embedded initial data; re-fetching using API.\n"
          ]
        },
        {
          "output_type": "stream",
          "name": "stdout",
          "text": [
            "[youtube] wmx_35rQIRg: Downloading initial data API JSON\n",
            "[info] wmx_35rQIRg: Downloading subtitles: en\n",
            "[info] wmx_35rQIRg: Downloading 1 format(s): 616+251\n",
            "[info] Writing video subtitles to: How To Reprogram Your Mind (for Positive Thinking) [wmx_35rQIRg].en.vtt\n",
            "[download] Destination: How To Reprogram Your Mind (for Positive Thinking) [wmx_35rQIRg].en.vtt\n",
            "[download] 100% of  143.48KiB in 00:00:00 at 2.90MiB/s\n",
            "[youtube] Extracting URL: https://www.youtube.com/watch?v=wmx_35rQIRg\n",
            "[youtube] wmx_35rQIRg: Downloading webpage\n"
          ]
        },
        {
          "output_type": "stream",
          "name": "stderr",
          "text": [
            "WARNING: [youtube] unable to extract initial player response; please report this issue on  https://github.com/yt-dlp/yt-dlp/issues?q= , filling out the appropriate issue template. Confirm you are on the latest version using  yt-dlp -U\n"
          ]
        },
        {
          "output_type": "stream",
          "name": "stdout",
          "text": [
            "[youtube] wmx_35rQIRg: Downloading ios player API JSON\n",
            "[youtube] wmx_35rQIRg: Downloading android player API JSON\n",
            "[youtube] wmx_35rQIRg: Downloading iframe API JS\n",
            "[youtube] wmx_35rQIRg: Downloading web player API JSON\n",
            "[youtube] wmx_35rQIRg: Downloading m3u8 information\n"
          ]
        },
        {
          "output_type": "stream",
          "name": "stderr",
          "text": [
            "WARNING: [youtube] unable to extract yt initial data; please report this issue on  https://github.com/yt-dlp/yt-dlp/issues?q= , filling out the appropriate issue template. Confirm you are on the latest version using  yt-dlp -U\n",
            "WARNING: [youtube] Incomplete data received in embedded initial data; re-fetching using API.\n"
          ]
        },
        {
          "output_type": "stream",
          "name": "stdout",
          "text": [
            "[youtube] wmx_35rQIRg: Downloading initial data API JSON\n",
            "[info] wmx_35rQIRg: Downloading subtitles: en\n",
            "[info] wmx_35rQIRg: Downloading 1 format(s): 616+251\n",
            "Deleting existing file How To Reprogram Your Mind (for Positive Thinking) [wmx_35rQIRg].en.vtt\n",
            "[info] Writing video subtitles to: How To Reprogram Your Mind (for Positive Thinking) [wmx_35rQIRg].en.vtt\n",
            "[download] Destination: How To Reprogram Your Mind (for Positive Thinking) [wmx_35rQIRg].en.vtt\n",
            "[download] 100% of  143.48KiB in 00:00:00 at 2.07MiB/s\n",
            "[youtube] Extracting URL: https://www.youtube.com/watch?v=wmx_35rQIRg\n",
            "[youtube] wmx_35rQIRg: Downloading webpage\n"
          ]
        },
        {
          "output_type": "stream",
          "name": "stderr",
          "text": [
            "WARNING: [youtube] unable to extract initial player response; please report this issue on  https://github.com/yt-dlp/yt-dlp/issues?q= , filling out the appropriate issue template. Confirm you are on the latest version using  yt-dlp -U\n"
          ]
        },
        {
          "output_type": "stream",
          "name": "stdout",
          "text": [
            "[youtube] wmx_35rQIRg: Downloading ios player API JSON\n",
            "[youtube] wmx_35rQIRg: Downloading android player API JSON\n",
            "[youtube] wmx_35rQIRg: Downloading iframe API JS\n",
            "[youtube] wmx_35rQIRg: Downloading web player API JSON\n",
            "[youtube] wmx_35rQIRg: Downloading m3u8 information\n"
          ]
        },
        {
          "output_type": "stream",
          "name": "stderr",
          "text": [
            "WARNING: [youtube] unable to extract yt initial data; please report this issue on  https://github.com/yt-dlp/yt-dlp/issues?q= , filling out the appropriate issue template. Confirm you are on the latest version using  yt-dlp -U\n",
            "WARNING: [youtube] Incomplete data received in embedded initial data; re-fetching using API.\n"
          ]
        },
        {
          "output_type": "stream",
          "name": "stdout",
          "text": [
            "[youtube] wmx_35rQIRg: Downloading initial data API JSON\n",
            "[info] wmx_35rQIRg: Downloading subtitles: en\n",
            "[info] wmx_35rQIRg: Downloading 1 format(s): 616+251\n",
            "Deleting existing file How To Reprogram Your Mind (for Positive Thinking) [wmx_35rQIRg].en.vtt\n",
            "[info] Writing video subtitles to: How To Reprogram Your Mind (for Positive Thinking) [wmx_35rQIRg].en.vtt\n",
            "[download] Destination: How To Reprogram Your Mind (for Positive Thinking) [wmx_35rQIRg].en.vtt\n",
            "[download] 100% of  143.48KiB in 00:00:00 at 2.45MiB/s\n",
            "[youtube] Extracting URL: https://www.youtube.com/watch?v=wmx_35rQIRg\n",
            "[youtube] wmx_35rQIRg: Downloading webpage\n"
          ]
        },
        {
          "output_type": "stream",
          "name": "stderr",
          "text": [
            "WARNING: [youtube] unable to extract initial player response; please report this issue on  https://github.com/yt-dlp/yt-dlp/issues?q= , filling out the appropriate issue template. Confirm you are on the latest version using  yt-dlp -U\n"
          ]
        },
        {
          "output_type": "stream",
          "name": "stdout",
          "text": [
            "[youtube] wmx_35rQIRg: Downloading ios player API JSON\n",
            "[youtube] wmx_35rQIRg: Downloading android player API JSON\n",
            "[youtube] wmx_35rQIRg: Downloading iframe API JS\n",
            "[youtube] wmx_35rQIRg: Downloading web player API JSON\n",
            "[youtube] wmx_35rQIRg: Downloading m3u8 information\n"
          ]
        },
        {
          "output_type": "stream",
          "name": "stderr",
          "text": [
            "WARNING: [youtube] unable to extract yt initial data; please report this issue on  https://github.com/yt-dlp/yt-dlp/issues?q= , filling out the appropriate issue template. Confirm you are on the latest version using  yt-dlp -U\n",
            "WARNING: [youtube] Incomplete data received in embedded initial data; re-fetching using API.\n"
          ]
        },
        {
          "output_type": "stream",
          "name": "stdout",
          "text": [
            "[youtube] wmx_35rQIRg: Downloading initial data API JSON\n",
            "[info] wmx_35rQIRg: Downloading subtitles: en\n",
            "[info] wmx_35rQIRg: Downloading 1 format(s): 616+251\n",
            "Deleting existing file How To Reprogram Your Mind (for Positive Thinking) [wmx_35rQIRg].en.vtt\n",
            "[info] Writing video subtitles to: How To Reprogram Your Mind (for Positive Thinking) [wmx_35rQIRg].en.vtt\n",
            "[download] Destination: How To Reprogram Your Mind (for Positive Thinking) [wmx_35rQIRg].en.vtt\n",
            "[download] 100% of  143.48KiB in 00:00:00 at 2.23MiB/s\n",
            "[youtube] Extracting URL: https://www.youtube.com/watch?v=wmx_35rQIRg\n",
            "[youtube] wmx_35rQIRg: Downloading webpage\n"
          ]
        },
        {
          "output_type": "stream",
          "name": "stderr",
          "text": [
            "WARNING: [youtube] unable to extract initial player response; please report this issue on  https://github.com/yt-dlp/yt-dlp/issues?q= , filling out the appropriate issue template. Confirm you are on the latest version using  yt-dlp -U\n"
          ]
        },
        {
          "output_type": "stream",
          "name": "stdout",
          "text": [
            "[youtube] wmx_35rQIRg: Downloading ios player API JSON\n",
            "[youtube] wmx_35rQIRg: Downloading android player API JSON\n",
            "[youtube] wmx_35rQIRg: Downloading iframe API JS\n",
            "[youtube] wmx_35rQIRg: Downloading web player API JSON\n",
            "[youtube] wmx_35rQIRg: Downloading m3u8 information\n"
          ]
        },
        {
          "output_type": "stream",
          "name": "stderr",
          "text": [
            "WARNING: [youtube] unable to extract yt initial data; please report this issue on  https://github.com/yt-dlp/yt-dlp/issues?q= , filling out the appropriate issue template. Confirm you are on the latest version using  yt-dlp -U\n",
            "WARNING: [youtube] Incomplete data received in embedded initial data; re-fetching using API.\n"
          ]
        },
        {
          "output_type": "stream",
          "name": "stdout",
          "text": [
            "[youtube] wmx_35rQIRg: Downloading initial data API JSON\n",
            "[info] wmx_35rQIRg: Downloading subtitles: en\n",
            "[info] wmx_35rQIRg: Downloading 1 format(s): 616+251\n",
            "Deleting existing file How To Reprogram Your Mind (for Positive Thinking) [wmx_35rQIRg].en.vtt\n",
            "[info] Writing video subtitles to: How To Reprogram Your Mind (for Positive Thinking) [wmx_35rQIRg].en.vtt\n",
            "[download] Destination: How To Reprogram Your Mind (for Positive Thinking) [wmx_35rQIRg].en.vtt\n",
            "[download] 100% of  143.48KiB in 00:00:00 at 2.41MiB/s\n",
            "[youtube] Extracting URL: https://www.youtube.com/watch?v=wmx_35rQIRg\n",
            "[youtube] wmx_35rQIRg: Downloading webpage\n"
          ]
        },
        {
          "output_type": "stream",
          "name": "stderr",
          "text": [
            "WARNING: [youtube] unable to extract initial player response; please report this issue on  https://github.com/yt-dlp/yt-dlp/issues?q= , filling out the appropriate issue template. Confirm you are on the latest version using  yt-dlp -U\n"
          ]
        },
        {
          "output_type": "stream",
          "name": "stdout",
          "text": [
            "[youtube] wmx_35rQIRg: Downloading ios player API JSON\n",
            "[youtube] wmx_35rQIRg: Downloading android player API JSON\n",
            "[youtube] wmx_35rQIRg: Downloading iframe API JS\n",
            "[youtube] wmx_35rQIRg: Downloading web player API JSON\n",
            "[youtube] wmx_35rQIRg: Downloading m3u8 information\n"
          ]
        },
        {
          "output_type": "stream",
          "name": "stderr",
          "text": [
            "WARNING: [youtube] unable to extract yt initial data; please report this issue on  https://github.com/yt-dlp/yt-dlp/issues?q= , filling out the appropriate issue template. Confirm you are on the latest version using  yt-dlp -U\n",
            "WARNING: [youtube] Incomplete data received in embedded initial data; re-fetching using API.\n"
          ]
        },
        {
          "output_type": "stream",
          "name": "stdout",
          "text": [
            "[youtube] wmx_35rQIRg: Downloading initial data API JSON\n",
            "[info] wmx_35rQIRg: Downloading subtitles: en\n",
            "[info] wmx_35rQIRg: Downloading 1 format(s): 616+251\n",
            "Deleting existing file How To Reprogram Your Mind (for Positive Thinking) [wmx_35rQIRg].en.vtt\n",
            "[info] Writing video subtitles to: How To Reprogram Your Mind (for Positive Thinking) [wmx_35rQIRg].en.vtt\n",
            "[download] Destination: How To Reprogram Your Mind (for Positive Thinking) [wmx_35rQIRg].en.vtt\n",
            "[download] 100% of  143.48KiB in 00:00:00 at 2.78MiB/s\n",
            "[youtube] Extracting URL: https://www.youtube.com/watch?v=wmx_35rQIRg\n",
            "[youtube] wmx_35rQIRg: Downloading webpage\n"
          ]
        },
        {
          "output_type": "stream",
          "name": "stderr",
          "text": [
            "WARNING: [youtube] unable to extract initial player response; please report this issue on  https://github.com/yt-dlp/yt-dlp/issues?q= , filling out the appropriate issue template. Confirm you are on the latest version using  yt-dlp -U\n"
          ]
        },
        {
          "output_type": "stream",
          "name": "stdout",
          "text": [
            "[youtube] wmx_35rQIRg: Downloading ios player API JSON\n",
            "[youtube] wmx_35rQIRg: Downloading android player API JSON\n",
            "[youtube] wmx_35rQIRg: Downloading iframe API JS\n",
            "[youtube] wmx_35rQIRg: Downloading web player API JSON\n",
            "[youtube] wmx_35rQIRg: Downloading m3u8 information\n"
          ]
        },
        {
          "output_type": "stream",
          "name": "stderr",
          "text": [
            "WARNING: [youtube] unable to extract yt initial data; please report this issue on  https://github.com/yt-dlp/yt-dlp/issues?q= , filling out the appropriate issue template. Confirm you are on the latest version using  yt-dlp -U\n",
            "WARNING: [youtube] Incomplete data received in embedded initial data; re-fetching using API.\n"
          ]
        },
        {
          "output_type": "stream",
          "name": "stdout",
          "text": [
            "[youtube] wmx_35rQIRg: Downloading initial data API JSON\n",
            "[info] wmx_35rQIRg: Downloading subtitles: en\n",
            "[info] wmx_35rQIRg: Downloading 1 format(s): 616+251\n",
            "Deleting existing file How To Reprogram Your Mind (for Positive Thinking) [wmx_35rQIRg].en.vtt\n",
            "[info] Writing video subtitles to: How To Reprogram Your Mind (for Positive Thinking) [wmx_35rQIRg].en.vtt\n",
            "[download] Destination: How To Reprogram Your Mind (for Positive Thinking) [wmx_35rQIRg].en.vtt\n",
            "[download] 100% of  143.48KiB in 00:00:00 at 2.50MiB/s\n",
            "[youtube] Extracting URL: https://www.youtube.com/watch?v=wmx_35rQIRg\n",
            "[youtube] wmx_35rQIRg: Downloading webpage\n"
          ]
        },
        {
          "output_type": "stream",
          "name": "stderr",
          "text": [
            "WARNING: [youtube] unable to extract initial player response; please report this issue on  https://github.com/yt-dlp/yt-dlp/issues?q= , filling out the appropriate issue template. Confirm you are on the latest version using  yt-dlp -U\n"
          ]
        },
        {
          "output_type": "stream",
          "name": "stdout",
          "text": [
            "[youtube] wmx_35rQIRg: Downloading ios player API JSON\n",
            "[youtube] wmx_35rQIRg: Downloading android player API JSON\n",
            "[youtube] wmx_35rQIRg: Downloading iframe API JS\n",
            "[youtube] wmx_35rQIRg: Downloading web player API JSON\n",
            "[youtube] wmx_35rQIRg: Downloading m3u8 information\n"
          ]
        },
        {
          "output_type": "stream",
          "name": "stderr",
          "text": [
            "WARNING: [youtube] unable to extract yt initial data; please report this issue on  https://github.com/yt-dlp/yt-dlp/issues?q= , filling out the appropriate issue template. Confirm you are on the latest version using  yt-dlp -U\n",
            "WARNING: [youtube] Incomplete data received in embedded initial data; re-fetching using API.\n"
          ]
        },
        {
          "output_type": "stream",
          "name": "stdout",
          "text": [
            "[youtube] wmx_35rQIRg: Downloading initial data API JSON\n",
            "[info] wmx_35rQIRg: Downloading subtitles: en\n",
            "[info] wmx_35rQIRg: Downloading 1 format(s): 616+251\n",
            "Deleting existing file How To Reprogram Your Mind (for Positive Thinking) [wmx_35rQIRg].en.vtt\n",
            "[info] Writing video subtitles to: How To Reprogram Your Mind (for Positive Thinking) [wmx_35rQIRg].en.vtt\n",
            "[download] Destination: How To Reprogram Your Mind (for Positive Thinking) [wmx_35rQIRg].en.vtt\n",
            "[download] 100% of  143.48KiB in 00:00:00 at 2.42MiB/s\n",
            "[youtube] Extracting URL: https://www.youtube.com/watch?v=wmx_35rQIRg\n",
            "[youtube] wmx_35rQIRg: Downloading webpage\n"
          ]
        },
        {
          "output_type": "stream",
          "name": "stderr",
          "text": [
            "WARNING: [youtube] unable to extract initial player response; please report this issue on  https://github.com/yt-dlp/yt-dlp/issues?q= , filling out the appropriate issue template. Confirm you are on the latest version using  yt-dlp -U\n"
          ]
        },
        {
          "output_type": "stream",
          "name": "stdout",
          "text": [
            "[youtube] wmx_35rQIRg: Downloading ios player API JSON\n",
            "[youtube] wmx_35rQIRg: Downloading android player API JSON\n",
            "[youtube] wmx_35rQIRg: Downloading iframe API JS\n",
            "[youtube] wmx_35rQIRg: Downloading web player API JSON\n",
            "[youtube] wmx_35rQIRg: Downloading m3u8 information\n"
          ]
        },
        {
          "output_type": "stream",
          "name": "stderr",
          "text": [
            "WARNING: [youtube] unable to extract yt initial data; please report this issue on  https://github.com/yt-dlp/yt-dlp/issues?q= , filling out the appropriate issue template. Confirm you are on the latest version using  yt-dlp -U\n",
            "WARNING: [youtube] Incomplete data received in embedded initial data; re-fetching using API.\n"
          ]
        },
        {
          "output_type": "stream",
          "name": "stdout",
          "text": [
            "[youtube] wmx_35rQIRg: Downloading initial data API JSON\n",
            "[info] wmx_35rQIRg: Downloading subtitles: en\n",
            "[info] wmx_35rQIRg: Downloading 1 format(s): 616+251\n",
            "Deleting existing file How To Reprogram Your Mind (for Positive Thinking) [wmx_35rQIRg].en.vtt\n",
            "[info] Writing video subtitles to: How To Reprogram Your Mind (for Positive Thinking) [wmx_35rQIRg].en.vtt\n",
            "[download] Destination: How To Reprogram Your Mind (for Positive Thinking) [wmx_35rQIRg].en.vtt\n",
            "[download] 100% of  143.48KiB in 00:00:00 at 2.87MiB/s\n",
            "[youtube] Extracting URL: https://www.youtube.com/watch?v=wmx_35rQIRg\n",
            "[youtube] wmx_35rQIRg: Downloading webpage\n"
          ]
        },
        {
          "output_type": "stream",
          "name": "stderr",
          "text": [
            "WARNING: [youtube] unable to extract initial player response; please report this issue on  https://github.com/yt-dlp/yt-dlp/issues?q= , filling out the appropriate issue template. Confirm you are on the latest version using  yt-dlp -U\n"
          ]
        },
        {
          "output_type": "stream",
          "name": "stdout",
          "text": [
            "[youtube] wmx_35rQIRg: Downloading ios player API JSON\n",
            "[youtube] wmx_35rQIRg: Downloading android player API JSON\n",
            "[youtube] wmx_35rQIRg: Downloading iframe API JS\n",
            "[youtube] wmx_35rQIRg: Downloading web player API JSON\n",
            "[youtube] wmx_35rQIRg: Downloading m3u8 information\n"
          ]
        },
        {
          "output_type": "stream",
          "name": "stderr",
          "text": [
            "WARNING: [youtube] unable to extract yt initial data; please report this issue on  https://github.com/yt-dlp/yt-dlp/issues?q= , filling out the appropriate issue template. Confirm you are on the latest version using  yt-dlp -U\n",
            "WARNING: [youtube] Incomplete data received in embedded initial data; re-fetching using API.\n"
          ]
        },
        {
          "output_type": "stream",
          "name": "stdout",
          "text": [
            "[youtube] wmx_35rQIRg: Downloading initial data API JSON\n",
            "[info] wmx_35rQIRg: Downloading subtitles: en\n",
            "[info] wmx_35rQIRg: Downloading 1 format(s): 616+251\n",
            "Deleting existing file How To Reprogram Your Mind (for Positive Thinking) [wmx_35rQIRg].en.vtt\n",
            "[info] Writing video subtitles to: How To Reprogram Your Mind (for Positive Thinking) [wmx_35rQIRg].en.vtt\n",
            "[download] Destination: How To Reprogram Your Mind (for Positive Thinking) [wmx_35rQIRg].en.vtt\n",
            "[download] 100% of  143.48KiB in 00:00:00 at 2.94MiB/s\n",
            "[youtube] Extracting URL: https://www.youtube.com/watch?v=wmx_35rQIRg\n",
            "[youtube] wmx_35rQIRg: Downloading webpage\n"
          ]
        },
        {
          "output_type": "stream",
          "name": "stderr",
          "text": [
            "WARNING: [youtube] unable to extract initial player response; please report this issue on  https://github.com/yt-dlp/yt-dlp/issues?q= , filling out the appropriate issue template. Confirm you are on the latest version using  yt-dlp -U\n"
          ]
        },
        {
          "output_type": "stream",
          "name": "stdout",
          "text": [
            "[youtube] wmx_35rQIRg: Downloading ios player API JSON\n",
            "[youtube] wmx_35rQIRg: Downloading android player API JSON\n",
            "[youtube] wmx_35rQIRg: Downloading iframe API JS\n",
            "[youtube] wmx_35rQIRg: Downloading web player API JSON\n",
            "[youtube] wmx_35rQIRg: Downloading m3u8 information\n"
          ]
        },
        {
          "output_type": "stream",
          "name": "stderr",
          "text": [
            "WARNING: [youtube] unable to extract yt initial data; please report this issue on  https://github.com/yt-dlp/yt-dlp/issues?q= , filling out the appropriate issue template. Confirm you are on the latest version using  yt-dlp -U\n",
            "WARNING: [youtube] Incomplete data received in embedded initial data; re-fetching using API.\n"
          ]
        },
        {
          "output_type": "stream",
          "name": "stdout",
          "text": [
            "[youtube] wmx_35rQIRg: Downloading initial data API JSON\n",
            "[info] wmx_35rQIRg: Downloading subtitles: en\n",
            "[info] wmx_35rQIRg: Downloading 1 format(s): 616+251\n",
            "Deleting existing file How To Reprogram Your Mind (for Positive Thinking) [wmx_35rQIRg].en.vtt\n",
            "[info] Writing video subtitles to: How To Reprogram Your Mind (for Positive Thinking) [wmx_35rQIRg].en.vtt\n",
            "[download] Destination: How To Reprogram Your Mind (for Positive Thinking) [wmx_35rQIRg].en.vtt\n",
            "[download] 100% of  143.48KiB in 00:00:00 at 2.52MiB/s\n",
            "[youtube] Extracting URL: https://www.youtube.com/watch?v=wmx_35rQIRg\n",
            "[youtube] wmx_35rQIRg: Downloading webpage\n"
          ]
        },
        {
          "output_type": "stream",
          "name": "stderr",
          "text": [
            "WARNING: [youtube] unable to extract initial player response; please report this issue on  https://github.com/yt-dlp/yt-dlp/issues?q= , filling out the appropriate issue template. Confirm you are on the latest version using  yt-dlp -U\n"
          ]
        },
        {
          "output_type": "stream",
          "name": "stdout",
          "text": [
            "[youtube] wmx_35rQIRg: Downloading ios player API JSON\n",
            "[youtube] wmx_35rQIRg: Downloading android player API JSON\n",
            "[youtube] wmx_35rQIRg: Downloading iframe API JS\n",
            "[youtube] wmx_35rQIRg: Downloading web player API JSON\n",
            "[youtube] wmx_35rQIRg: Downloading m3u8 information\n"
          ]
        },
        {
          "output_type": "stream",
          "name": "stderr",
          "text": [
            "WARNING: [youtube] unable to extract yt initial data; please report this issue on  https://github.com/yt-dlp/yt-dlp/issues?q= , filling out the appropriate issue template. Confirm you are on the latest version using  yt-dlp -U\n",
            "WARNING: [youtube] Incomplete data received in embedded initial data; re-fetching using API.\n"
          ]
        },
        {
          "output_type": "stream",
          "name": "stdout",
          "text": [
            "[youtube] wmx_35rQIRg: Downloading initial data API JSON\n",
            "[info] wmx_35rQIRg: Downloading subtitles: en\n",
            "[info] wmx_35rQIRg: Downloading 1 format(s): 616+251\n",
            "Deleting existing file How To Reprogram Your Mind (for Positive Thinking) [wmx_35rQIRg].en.vtt\n",
            "[info] Writing video subtitles to: How To Reprogram Your Mind (for Positive Thinking) [wmx_35rQIRg].en.vtt\n",
            "[download] Destination: How To Reprogram Your Mind (for Positive Thinking) [wmx_35rQIRg].en.vtt\n",
            "[download] 100% of  143.48KiB in 00:00:00 at 2.36MiB/s\n",
            "[youtube] Extracting URL: https://www.youtube.com/watch?v=wmx_35rQIRg\n",
            "[youtube] wmx_35rQIRg: Downloading webpage\n"
          ]
        },
        {
          "output_type": "stream",
          "name": "stderr",
          "text": [
            "WARNING: [youtube] unable to extract initial player response; please report this issue on  https://github.com/yt-dlp/yt-dlp/issues?q= , filling out the appropriate issue template. Confirm you are on the latest version using  yt-dlp -U\n"
          ]
        },
        {
          "output_type": "stream",
          "name": "stdout",
          "text": [
            "[youtube] wmx_35rQIRg: Downloading ios player API JSON\n",
            "[youtube] wmx_35rQIRg: Downloading android player API JSON\n",
            "[youtube] wmx_35rQIRg: Downloading iframe API JS\n",
            "[youtube] wmx_35rQIRg: Downloading web player API JSON\n",
            "[youtube] wmx_35rQIRg: Downloading m3u8 information\n"
          ]
        },
        {
          "output_type": "stream",
          "name": "stderr",
          "text": [
            "WARNING: [youtube] unable to extract yt initial data; please report this issue on  https://github.com/yt-dlp/yt-dlp/issues?q= , filling out the appropriate issue template. Confirm you are on the latest version using  yt-dlp -U\n",
            "WARNING: [youtube] Incomplete data received in embedded initial data; re-fetching using API.\n"
          ]
        },
        {
          "output_type": "stream",
          "name": "stdout",
          "text": [
            "[youtube] wmx_35rQIRg: Downloading initial data API JSON\n",
            "[info] wmx_35rQIRg: Downloading subtitles: en\n",
            "[info] wmx_35rQIRg: Downloading 1 format(s): 616+251\n",
            "Deleting existing file How To Reprogram Your Mind (for Positive Thinking) [wmx_35rQIRg].en.vtt\n",
            "[info] Writing video subtitles to: How To Reprogram Your Mind (for Positive Thinking) [wmx_35rQIRg].en.vtt\n",
            "[download] Destination: How To Reprogram Your Mind (for Positive Thinking) [wmx_35rQIRg].en.vtt\n",
            "[download] 100% of  143.48KiB in 00:00:00 at 2.25MiB/s\n",
            "[youtube] Extracting URL: https://www.youtube.com/watch?v=wmx_35rQIRg\n",
            "[youtube] wmx_35rQIRg: Downloading webpage\n"
          ]
        },
        {
          "output_type": "stream",
          "name": "stderr",
          "text": [
            "WARNING: [youtube] unable to extract initial player response; please report this issue on  https://github.com/yt-dlp/yt-dlp/issues?q= , filling out the appropriate issue template. Confirm you are on the latest version using  yt-dlp -U\n"
          ]
        },
        {
          "output_type": "stream",
          "name": "stdout",
          "text": [
            "[youtube] wmx_35rQIRg: Downloading ios player API JSON\n",
            "[youtube] wmx_35rQIRg: Downloading android player API JSON\n",
            "[youtube] wmx_35rQIRg: Downloading iframe API JS\n",
            "[youtube] wmx_35rQIRg: Downloading web player API JSON\n",
            "[youtube] wmx_35rQIRg: Downloading m3u8 information\n"
          ]
        },
        {
          "output_type": "stream",
          "name": "stderr",
          "text": [
            "WARNING: [youtube] unable to extract yt initial data; please report this issue on  https://github.com/yt-dlp/yt-dlp/issues?q= , filling out the appropriate issue template. Confirm you are on the latest version using  yt-dlp -U\n",
            "WARNING: [youtube] Incomplete data received in embedded initial data; re-fetching using API.\n"
          ]
        },
        {
          "output_type": "stream",
          "name": "stdout",
          "text": [
            "[youtube] wmx_35rQIRg: Downloading initial data API JSON\n",
            "[info] wmx_35rQIRg: Downloading subtitles: en\n",
            "[info] wmx_35rQIRg: Downloading 1 format(s): 616+251\n",
            "Deleting existing file How To Reprogram Your Mind (for Positive Thinking) [wmx_35rQIRg].en.vtt\n",
            "[info] Writing video subtitles to: How To Reprogram Your Mind (for Positive Thinking) [wmx_35rQIRg].en.vtt\n",
            "[download] Destination: How To Reprogram Your Mind (for Positive Thinking) [wmx_35rQIRg].en.vtt\n",
            "[download] 100% of  143.48KiB in 00:00:00 at 2.39MiB/s\n",
            "[youtube] Extracting URL: https://www.youtube.com/watch?v=wmx_35rQIRg\n",
            "[youtube] wmx_35rQIRg: Downloading webpage\n"
          ]
        },
        {
          "output_type": "stream",
          "name": "stderr",
          "text": [
            "WARNING: [youtube] unable to extract initial player response; please report this issue on  https://github.com/yt-dlp/yt-dlp/issues?q= , filling out the appropriate issue template. Confirm you are on the latest version using  yt-dlp -U\n"
          ]
        },
        {
          "output_type": "stream",
          "name": "stdout",
          "text": [
            "[youtube] wmx_35rQIRg: Downloading ios player API JSON\n",
            "[youtube] wmx_35rQIRg: Downloading android player API JSON\n",
            "[youtube] wmx_35rQIRg: Downloading iframe API JS\n",
            "[youtube] wmx_35rQIRg: Downloading web player API JSON\n",
            "[youtube] wmx_35rQIRg: Downloading m3u8 information\n"
          ]
        },
        {
          "output_type": "stream",
          "name": "stderr",
          "text": [
            "WARNING: [youtube] unable to extract yt initial data; please report this issue on  https://github.com/yt-dlp/yt-dlp/issues?q= , filling out the appropriate issue template. Confirm you are on the latest version using  yt-dlp -U\n",
            "WARNING: [youtube] Incomplete data received in embedded initial data; re-fetching using API.\n"
          ]
        },
        {
          "output_type": "stream",
          "name": "stdout",
          "text": [
            "[youtube] wmx_35rQIRg: Downloading initial data API JSON\n",
            "[info] wmx_35rQIRg: Downloading subtitles: en\n",
            "[info] wmx_35rQIRg: Downloading 1 format(s): 616+251\n",
            "Deleting existing file How To Reprogram Your Mind (for Positive Thinking) [wmx_35rQIRg].en.vtt\n",
            "[info] Writing video subtitles to: How To Reprogram Your Mind (for Positive Thinking) [wmx_35rQIRg].en.vtt\n",
            "[download] Destination: How To Reprogram Your Mind (for Positive Thinking) [wmx_35rQIRg].en.vtt\n",
            "[download] 100% of  143.48KiB in 00:00:00 at 2.80MiB/s\n",
            "[youtube] Extracting URL: https://www.youtube.com/watch?v=wmx_35rQIRg\n",
            "[youtube] wmx_35rQIRg: Downloading webpage\n"
          ]
        },
        {
          "output_type": "stream",
          "name": "stderr",
          "text": [
            "WARNING: [youtube] unable to extract initial player response; please report this issue on  https://github.com/yt-dlp/yt-dlp/issues?q= , filling out the appropriate issue template. Confirm you are on the latest version using  yt-dlp -U\n"
          ]
        },
        {
          "output_type": "stream",
          "name": "stdout",
          "text": [
            "[youtube] wmx_35rQIRg: Downloading ios player API JSON\n",
            "[youtube] wmx_35rQIRg: Downloading android player API JSON\n",
            "[youtube] wmx_35rQIRg: Downloading iframe API JS\n",
            "[youtube] wmx_35rQIRg: Downloading web player API JSON\n",
            "[youtube] wmx_35rQIRg: Downloading m3u8 information\n"
          ]
        },
        {
          "output_type": "stream",
          "name": "stderr",
          "text": [
            "WARNING: [youtube] unable to extract yt initial data; please report this issue on  https://github.com/yt-dlp/yt-dlp/issues?q= , filling out the appropriate issue template. Confirm you are on the latest version using  yt-dlp -U\n",
            "WARNING: [youtube] Incomplete data received in embedded initial data; re-fetching using API.\n"
          ]
        },
        {
          "output_type": "stream",
          "name": "stdout",
          "text": [
            "[youtube] wmx_35rQIRg: Downloading initial data API JSON\n",
            "[info] wmx_35rQIRg: Downloading subtitles: en\n",
            "[info] wmx_35rQIRg: Downloading 1 format(s): 616+251\n",
            "Deleting existing file How To Reprogram Your Mind (for Positive Thinking) [wmx_35rQIRg].en.vtt\n",
            "[info] Writing video subtitles to: How To Reprogram Your Mind (for Positive Thinking) [wmx_35rQIRg].en.vtt\n",
            "[download] Destination: How To Reprogram Your Mind (for Positive Thinking) [wmx_35rQIRg].en.vtt\n",
            "[download] 100% of  143.48KiB in 00:00:00 at 2.01MiB/s\n",
            "[youtube] Extracting URL: https://www.youtube.com/watch?v=wmx_35rQIRg\n",
            "[youtube] wmx_35rQIRg: Downloading webpage\n"
          ]
        },
        {
          "output_type": "stream",
          "name": "stderr",
          "text": [
            "WARNING: [youtube] unable to extract initial player response; please report this issue on  https://github.com/yt-dlp/yt-dlp/issues?q= , filling out the appropriate issue template. Confirm you are on the latest version using  yt-dlp -U\n"
          ]
        },
        {
          "output_type": "stream",
          "name": "stdout",
          "text": [
            "[youtube] wmx_35rQIRg: Downloading ios player API JSON\n",
            "[youtube] wmx_35rQIRg: Downloading android player API JSON\n",
            "[youtube] wmx_35rQIRg: Downloading iframe API JS\n",
            "[youtube] wmx_35rQIRg: Downloading web player API JSON\n",
            "[youtube] wmx_35rQIRg: Downloading m3u8 information\n"
          ]
        },
        {
          "output_type": "stream",
          "name": "stderr",
          "text": [
            "WARNING: [youtube] unable to extract yt initial data; please report this issue on  https://github.com/yt-dlp/yt-dlp/issues?q= , filling out the appropriate issue template. Confirm you are on the latest version using  yt-dlp -U\n",
            "WARNING: [youtube] Incomplete data received in embedded initial data; re-fetching using API.\n"
          ]
        },
        {
          "output_type": "stream",
          "name": "stdout",
          "text": [
            "[youtube] wmx_35rQIRg: Downloading initial data API JSON\n",
            "[info] wmx_35rQIRg: Downloading subtitles: en\n",
            "[info] wmx_35rQIRg: Downloading 1 format(s): 616+251\n",
            "Deleting existing file How To Reprogram Your Mind (for Positive Thinking) [wmx_35rQIRg].en.vtt\n",
            "[info] Writing video subtitles to: How To Reprogram Your Mind (for Positive Thinking) [wmx_35rQIRg].en.vtt\n",
            "[download] Destination: How To Reprogram Your Mind (for Positive Thinking) [wmx_35rQIRg].en.vtt\n",
            "[download] 100% of  143.48KiB in 00:00:00 at 2.33MiB/s\n",
            "[youtube] Extracting URL: https://www.youtube.com/watch?v=wmx_35rQIRg\n",
            "[youtube] wmx_35rQIRg: Downloading webpage\n"
          ]
        },
        {
          "output_type": "stream",
          "name": "stderr",
          "text": [
            "WARNING: [youtube] unable to extract initial player response; please report this issue on  https://github.com/yt-dlp/yt-dlp/issues?q= , filling out the appropriate issue template. Confirm you are on the latest version using  yt-dlp -U\n"
          ]
        },
        {
          "output_type": "stream",
          "name": "stdout",
          "text": [
            "[youtube] wmx_35rQIRg: Downloading ios player API JSON\n",
            "[youtube] wmx_35rQIRg: Downloading android player API JSON\n",
            "[youtube] wmx_35rQIRg: Downloading iframe API JS\n",
            "[youtube] wmx_35rQIRg: Downloading web player API JSON\n",
            "[youtube] wmx_35rQIRg: Downloading m3u8 information\n"
          ]
        },
        {
          "output_type": "stream",
          "name": "stderr",
          "text": [
            "WARNING: [youtube] unable to extract yt initial data; please report this issue on  https://github.com/yt-dlp/yt-dlp/issues?q= , filling out the appropriate issue template. Confirm you are on the latest version using  yt-dlp -U\n",
            "WARNING: [youtube] Incomplete data received in embedded initial data; re-fetching using API.\n"
          ]
        },
        {
          "output_type": "stream",
          "name": "stdout",
          "text": [
            "[youtube] wmx_35rQIRg: Downloading initial data API JSON\n",
            "[info] wmx_35rQIRg: Downloading subtitles: en\n",
            "[info] wmx_35rQIRg: Downloading 1 format(s): 616+251\n",
            "Deleting existing file How To Reprogram Your Mind (for Positive Thinking) [wmx_35rQIRg].en.vtt\n",
            "[info] Writing video subtitles to: How To Reprogram Your Mind (for Positive Thinking) [wmx_35rQIRg].en.vtt\n",
            "[download] Destination: How To Reprogram Your Mind (for Positive Thinking) [wmx_35rQIRg].en.vtt\n",
            "[download] 100% of  143.48KiB in 00:00:00 at 2.63MiB/s\n",
            "[youtube] Extracting URL: https://www.youtube.com/watch?v=wmx_35rQIRg\n",
            "[youtube] wmx_35rQIRg: Downloading webpage\n"
          ]
        },
        {
          "output_type": "stream",
          "name": "stderr",
          "text": [
            "WARNING: [youtube] unable to extract initial player response; please report this issue on  https://github.com/yt-dlp/yt-dlp/issues?q= , filling out the appropriate issue template. Confirm you are on the latest version using  yt-dlp -U\n"
          ]
        },
        {
          "output_type": "stream",
          "name": "stdout",
          "text": [
            "[youtube] wmx_35rQIRg: Downloading ios player API JSON\n",
            "[youtube] wmx_35rQIRg: Downloading android player API JSON\n",
            "[youtube] wmx_35rQIRg: Downloading iframe API JS\n",
            "[youtube] wmx_35rQIRg: Downloading web player API JSON\n",
            "[youtube] wmx_35rQIRg: Downloading m3u8 information\n"
          ]
        },
        {
          "output_type": "stream",
          "name": "stderr",
          "text": [
            "WARNING: [youtube] unable to extract yt initial data; please report this issue on  https://github.com/yt-dlp/yt-dlp/issues?q= , filling out the appropriate issue template. Confirm you are on the latest version using  yt-dlp -U\n",
            "WARNING: [youtube] Incomplete data received in embedded initial data; re-fetching using API.\n"
          ]
        },
        {
          "output_type": "stream",
          "name": "stdout",
          "text": [
            "[youtube] wmx_35rQIRg: Downloading initial data API JSON\n",
            "[info] wmx_35rQIRg: Downloading subtitles: en\n",
            "[info] wmx_35rQIRg: Downloading 1 format(s): 616+251\n",
            "Deleting existing file How To Reprogram Your Mind (for Positive Thinking) [wmx_35rQIRg].en.vtt\n",
            "[info] Writing video subtitles to: How To Reprogram Your Mind (for Positive Thinking) [wmx_35rQIRg].en.vtt\n",
            "[download] Destination: How To Reprogram Your Mind (for Positive Thinking) [wmx_35rQIRg].en.vtt\n",
            "[download] 100% of  143.48KiB in 00:00:00 at 2.04MiB/s\n",
            "[youtube] Extracting URL: https://www.youtube.com/watch?v=wmx_35rQIRg\n",
            "[youtube] wmx_35rQIRg: Downloading webpage\n"
          ]
        },
        {
          "output_type": "stream",
          "name": "stderr",
          "text": [
            "WARNING: [youtube] unable to extract initial player response; please report this issue on  https://github.com/yt-dlp/yt-dlp/issues?q= , filling out the appropriate issue template. Confirm you are on the latest version using  yt-dlp -U\n"
          ]
        },
        {
          "output_type": "stream",
          "name": "stdout",
          "text": [
            "[youtube] wmx_35rQIRg: Downloading ios player API JSON\n",
            "[youtube] wmx_35rQIRg: Downloading android player API JSON\n",
            "[youtube] wmx_35rQIRg: Downloading iframe API JS\n",
            "[youtube] wmx_35rQIRg: Downloading web player API JSON\n",
            "[youtube] wmx_35rQIRg: Downloading m3u8 information\n"
          ]
        },
        {
          "output_type": "stream",
          "name": "stderr",
          "text": [
            "WARNING: [youtube] unable to extract yt initial data; please report this issue on  https://github.com/yt-dlp/yt-dlp/issues?q= , filling out the appropriate issue template. Confirm you are on the latest version using  yt-dlp -U\n",
            "WARNING: [youtube] Incomplete data received in embedded initial data; re-fetching using API.\n"
          ]
        },
        {
          "output_type": "stream",
          "name": "stdout",
          "text": [
            "[youtube] wmx_35rQIRg: Downloading initial data API JSON\n",
            "[info] wmx_35rQIRg: Downloading subtitles: en\n",
            "[info] wmx_35rQIRg: Downloading 1 format(s): 616+251\n",
            "Deleting existing file How To Reprogram Your Mind (for Positive Thinking) [wmx_35rQIRg].en.vtt\n",
            "[info] Writing video subtitles to: How To Reprogram Your Mind (for Positive Thinking) [wmx_35rQIRg].en.vtt\n",
            "[download] Destination: How To Reprogram Your Mind (for Positive Thinking) [wmx_35rQIRg].en.vtt\n",
            "[download] 100% of  143.48KiB in 00:00:00 at 2.56MiB/s\n",
            "text file expected How To Reprogram Your Mind (for Positive Thinking) [wmx_35rQIRg].en.vtt.txt\n",
            "Intermediate Summaries ->>>>>>>>>>>>>>>>>>>>>>>>>\n",
            " [\"Brendan O'Brien is the author of the book The Charge. He talks about how to master your mind in a more sort of capable way. He explains how to understand how to develop strong and strong thoughts into strong and automatic thoughts in our lives. He also gives tips and tools the strategy you can immediately input into your life to better manage your mind.\", \"We can use that skillset and that same rule to apply positive thoughts into our own life. We can give positive thinking questions positive approaches to life a lot of importance in our life. Take total control of your attention and notice where are your thoughts right now. The more we notice what we've been thinking about the more we can interrupt what we're thinking about.\", \"Every single person all have unconsciousthoughts every single person out of us all have a mental disorder and we have to work with them by reconditioning our mind. Here's a very simple thing you can do to program your mind create a sheet of 2 simple things very simple things I want you to write 5 questions down that you're going to ask yourself three or four times a day 5 questions for yourself to do every day for 30 days. I'm not into easy right now I'm intoconditioning my mind focus focus focus.\", \"Our mind is incredibly programmed not just by thought but by action. If you take action on a consistent basis it teaches your mind to do that so do things that are positive for yourself take bold or actions cheat yourself. I'm just gonna be confident you're just for no other reason watch my video on being confident here on YouTube.\"]\n",
            "Summary is ->>>>>>>>>>>>>>>>>>>>>>>>>\n",
            "Brendan O'Brien is the author of the book The Charge. He talks about how to master your mind in a more sort of capable way. He explains how to understand how to develop strong and strong thoughts into strong and automatic thoughts in our lives. He also gives tips and tools the strategy you can immediately input into your life to better manage your mind. We can use that skillset and that same rule to apply positive thoughts into our own life. We can give positive thinking questions positive approaches to life a lot of importance in our life. Take total control of your attention and notice where are your thoughts right now. The more we notice what we've been thinking about the more we can interrupt what we're thinking about. Every single person all have unconsciousthoughts every single person out of us all have a mental disorder and we have to work with them by reconditioning our mind. Here's a very simple thing you can do to program your mind create a sheet of 2 simple things very simple things I want you to write 5 questions down that you're going to ask yourself three or four times a day 5 questions for yourself to do every day for 30 days. I'm not into easy right now I'm intoconditioning my mind focus focus focus. Our mind is incredibly programmed not just by thought but by action. If you take action on a consistent basis it teaches your mind to do that so do things that are positive for yourself take bold or actions cheat yourself. I'm just gonna be confident you're just for no other reason watch my video on being confident here on YouTube.\n",
            "[youtube] Extracting URL: https://www.youtube.com/watch?v=FfgT6zx4k3Q\n",
            "[youtube] FfgT6zx4k3Q: Downloading webpage\n"
          ]
        },
        {
          "output_type": "stream",
          "name": "stderr",
          "text": [
            "WARNING: [youtube] unable to extract initial player response; please report this issue on  https://github.com/yt-dlp/yt-dlp/issues?q= , filling out the appropriate issue template. Confirm you are on the latest version using  yt-dlp -U\n"
          ]
        },
        {
          "output_type": "stream",
          "name": "stdout",
          "text": [
            "[youtube] FfgT6zx4k3Q: Downloading ios player API JSON\n",
            "[youtube] FfgT6zx4k3Q: Downloading android player API JSON\n",
            "[youtube] FfgT6zx4k3Q: Downloading iframe API JS\n",
            "[youtube] FfgT6zx4k3Q: Downloading player da7c2a60\n",
            "[youtube] FfgT6zx4k3Q: Downloading web player API JSON\n",
            "[youtube] FfgT6zx4k3Q: Downloading m3u8 information\n"
          ]
        },
        {
          "output_type": "stream",
          "name": "stderr",
          "text": [
            "WARNING: [youtube] unable to extract yt initial data; please report this issue on  https://github.com/yt-dlp/yt-dlp/issues?q= , filling out the appropriate issue template. Confirm you are on the latest version using  yt-dlp -U\n",
            "WARNING: [youtube] Incomplete data received in embedded initial data; re-fetching using API.\n"
          ]
        },
        {
          "output_type": "stream",
          "name": "stdout",
          "text": [
            "[youtube] FfgT6zx4k3Q: Downloading initial data API JSON\n",
            "[info] FfgT6zx4k3Q: Downloading subtitles: en, en-es, en-fr\n",
            "[info] FfgT6zx4k3Q: Downloading 1 format(s): 303+251\n",
            "Deleting existing file Could Your Phone Hurt You？ Electromagnetic Pollution [FfgT6zx4k3Q].en.vtt\n",
            "[info] Writing video subtitles to: Could Your Phone Hurt You？ Electromagnetic Pollution [FfgT6zx4k3Q].en.vtt\n",
            "[hlsnative] Downloading m3u8 manifest\n",
            "[hlsnative] Total fragments: 1\n",
            "[download] Destination: Could Your Phone Hurt You？ Electromagnetic Pollution [FfgT6zx4k3Q].en.vtt\n",
            "[download] 100% of   11.57KiB in 00:00:00 at 274.62KiB/s             \n",
            "Deleting existing file Could Your Phone Hurt You？ Electromagnetic Pollution [FfgT6zx4k3Q].en-es.vtt\n",
            "[info] Writing video subtitles to: Could Your Phone Hurt You？ Electromagnetic Pollution [FfgT6zx4k3Q].en-es.vtt\n",
            "[download] Destination: Could Your Phone Hurt You？ Electromagnetic Pollution [FfgT6zx4k3Q].en-es.vtt\n",
            "[download] 100% of   11.20KiB in 00:00:00 at 237.82KiB/s\n",
            "[info] Writing video subtitles to: Could Your Phone Hurt You？ Electromagnetic Pollution [FfgT6zx4k3Q].en-fr.vtt\n",
            "[download] Destination: Could Your Phone Hurt You？ Electromagnetic Pollution [FfgT6zx4k3Q].en-fr.vtt\n",
            "[download] 100% of   10.91KiB in 00:00:00 at 201.71KiB/s\n",
            "[youtube] Extracting URL: https://www.youtube.com/watch?v=FfgT6zx4k3Q\n",
            "[youtube] FfgT6zx4k3Q: Downloading webpage\n"
          ]
        },
        {
          "output_type": "stream",
          "name": "stderr",
          "text": [
            "WARNING: [youtube] unable to extract initial player response; please report this issue on  https://github.com/yt-dlp/yt-dlp/issues?q= , filling out the appropriate issue template. Confirm you are on the latest version using  yt-dlp -U\n"
          ]
        },
        {
          "output_type": "stream",
          "name": "stdout",
          "text": [
            "[youtube] FfgT6zx4k3Q: Downloading ios player API JSON\n",
            "[youtube] FfgT6zx4k3Q: Downloading android player API JSON\n",
            "[youtube] FfgT6zx4k3Q: Downloading iframe API JS\n",
            "[youtube] FfgT6zx4k3Q: Downloading web player API JSON\n",
            "[youtube] FfgT6zx4k3Q: Downloading m3u8 information\n"
          ]
        },
        {
          "output_type": "stream",
          "name": "stderr",
          "text": [
            "WARNING: [youtube] unable to extract yt initial data; please report this issue on  https://github.com/yt-dlp/yt-dlp/issues?q= , filling out the appropriate issue template. Confirm you are on the latest version using  yt-dlp -U\n",
            "WARNING: [youtube] Incomplete data received in embedded initial data; re-fetching using API.\n"
          ]
        },
        {
          "output_type": "stream",
          "name": "stdout",
          "text": [
            "[youtube] FfgT6zx4k3Q: Downloading initial data API JSON\n",
            "[info] FfgT6zx4k3Q: Downloading subtitles: en, en-es, en-fr\n",
            "[info] FfgT6zx4k3Q: Downloading 1 format(s): 303+251\n",
            "Deleting existing file Could Your Phone Hurt You？ Electromagnetic Pollution [FfgT6zx4k3Q].en.vtt\n",
            "[info] Writing video subtitles to: Could Your Phone Hurt You？ Electromagnetic Pollution [FfgT6zx4k3Q].en.vtt\n",
            "[hlsnative] Downloading m3u8 manifest\n",
            "[hlsnative] Total fragments: 1\n",
            "[download] Destination: Could Your Phone Hurt You？ Electromagnetic Pollution [FfgT6zx4k3Q].en.vtt\n",
            "[download] 100% of   11.57KiB in 00:00:00 at 271.68KiB/s             \n",
            "Deleting existing file Could Your Phone Hurt You？ Electromagnetic Pollution [FfgT6zx4k3Q].en-es.vtt\n",
            "[info] Writing video subtitles to: Could Your Phone Hurt You？ Electromagnetic Pollution [FfgT6zx4k3Q].en-es.vtt\n",
            "[download] Destination: Could Your Phone Hurt You？ Electromagnetic Pollution [FfgT6zx4k3Q].en-es.vtt\n",
            "[download] 100% of   11.20KiB in 00:00:00 at 136.97KiB/s\n",
            "Deleting existing file Could Your Phone Hurt You？ Electromagnetic Pollution [FfgT6zx4k3Q].en-fr.vtt\n",
            "[info] Writing video subtitles to: Could Your Phone Hurt You？ Electromagnetic Pollution [FfgT6zx4k3Q].en-fr.vtt\n",
            "[download] Destination: Could Your Phone Hurt You？ Electromagnetic Pollution [FfgT6zx4k3Q].en-fr.vtt\n",
            "[download] 100% of   10.91KiB in 00:00:00 at 164.68KiB/s\n",
            "[youtube] Extracting URL: https://www.youtube.com/watch?v=FfgT6zx4k3Q\n",
            "[youtube] FfgT6zx4k3Q: Downloading webpage\n"
          ]
        },
        {
          "output_type": "stream",
          "name": "stderr",
          "text": [
            "WARNING: [youtube] unable to extract initial player response; please report this issue on  https://github.com/yt-dlp/yt-dlp/issues?q= , filling out the appropriate issue template. Confirm you are on the latest version using  yt-dlp -U\n"
          ]
        },
        {
          "output_type": "stream",
          "name": "stdout",
          "text": [
            "[youtube] FfgT6zx4k3Q: Downloading ios player API JSON\n",
            "[youtube] FfgT6zx4k3Q: Downloading android player API JSON\n",
            "[youtube] FfgT6zx4k3Q: Downloading iframe API JS\n",
            "[youtube] FfgT6zx4k3Q: Downloading web player API JSON\n",
            "[youtube] FfgT6zx4k3Q: Downloading m3u8 information\n"
          ]
        },
        {
          "output_type": "stream",
          "name": "stderr",
          "text": [
            "WARNING: [youtube] unable to extract yt initial data; please report this issue on  https://github.com/yt-dlp/yt-dlp/issues?q= , filling out the appropriate issue template. Confirm you are on the latest version using  yt-dlp -U\n",
            "WARNING: [youtube] Incomplete data received in embedded initial data; re-fetching using API.\n"
          ]
        },
        {
          "output_type": "stream",
          "name": "stdout",
          "text": [
            "[youtube] FfgT6zx4k3Q: Downloading initial data API JSON\n",
            "[info] FfgT6zx4k3Q: Downloading subtitles: en, en-es, en-fr\n",
            "[info] FfgT6zx4k3Q: Downloading 1 format(s): 303+251\n",
            "Deleting existing file Could Your Phone Hurt You？ Electromagnetic Pollution [FfgT6zx4k3Q].en.vtt\n",
            "[info] Writing video subtitles to: Could Your Phone Hurt You？ Electromagnetic Pollution [FfgT6zx4k3Q].en.vtt\n",
            "[hlsnative] Downloading m3u8 manifest\n",
            "[hlsnative] Total fragments: 1\n",
            "[download] Destination: Could Your Phone Hurt You？ Electromagnetic Pollution [FfgT6zx4k3Q].en.vtt\n",
            "[download] 100% of   11.57KiB in 00:00:00 at 292.33KiB/s             \n",
            "Deleting existing file Could Your Phone Hurt You？ Electromagnetic Pollution [FfgT6zx4k3Q].en-es.vtt\n",
            "[info] Writing video subtitles to: Could Your Phone Hurt You？ Electromagnetic Pollution [FfgT6zx4k3Q].en-es.vtt\n",
            "[download] Destination: Could Your Phone Hurt You？ Electromagnetic Pollution [FfgT6zx4k3Q].en-es.vtt\n",
            "[download] 100% of   11.20KiB in 00:00:00 at 219.68KiB/s\n",
            "Deleting existing file Could Your Phone Hurt You？ Electromagnetic Pollution [FfgT6zx4k3Q].en-fr.vtt\n",
            "[info] Writing video subtitles to: Could Your Phone Hurt You？ Electromagnetic Pollution [FfgT6zx4k3Q].en-fr.vtt\n",
            "[download] Destination: Could Your Phone Hurt You？ Electromagnetic Pollution [FfgT6zx4k3Q].en-fr.vtt\n",
            "[download] 100% of   10.91KiB in 00:00:00 at 254.87KiB/s\n",
            "[youtube] Extracting URL: https://www.youtube.com/watch?v=FfgT6zx4k3Q\n",
            "[youtube] FfgT6zx4k3Q: Downloading webpage\n"
          ]
        },
        {
          "output_type": "stream",
          "name": "stderr",
          "text": [
            "WARNING: [youtube] unable to extract initial player response; please report this issue on  https://github.com/yt-dlp/yt-dlp/issues?q= , filling out the appropriate issue template. Confirm you are on the latest version using  yt-dlp -U\n"
          ]
        },
        {
          "output_type": "stream",
          "name": "stdout",
          "text": [
            "[youtube] FfgT6zx4k3Q: Downloading ios player API JSON\n",
            "[youtube] FfgT6zx4k3Q: Downloading android player API JSON\n",
            "[youtube] FfgT6zx4k3Q: Downloading iframe API JS\n",
            "[youtube] FfgT6zx4k3Q: Downloading web player API JSON\n",
            "[youtube] FfgT6zx4k3Q: Downloading m3u8 information\n"
          ]
        },
        {
          "output_type": "stream",
          "name": "stderr",
          "text": [
            "WARNING: [youtube] unable to extract yt initial data; please report this issue on  https://github.com/yt-dlp/yt-dlp/issues?q= , filling out the appropriate issue template. Confirm you are on the latest version using  yt-dlp -U\n",
            "WARNING: [youtube] Incomplete data received in embedded initial data; re-fetching using API.\n"
          ]
        },
        {
          "output_type": "stream",
          "name": "stdout",
          "text": [
            "[youtube] FfgT6zx4k3Q: Downloading initial data API JSON\n",
            "[info] FfgT6zx4k3Q: Downloading subtitles: en, en-es, en-fr\n",
            "[info] FfgT6zx4k3Q: Downloading 1 format(s): 303+251\n",
            "Deleting existing file Could Your Phone Hurt You？ Electromagnetic Pollution [FfgT6zx4k3Q].en.vtt\n",
            "[info] Writing video subtitles to: Could Your Phone Hurt You？ Electromagnetic Pollution [FfgT6zx4k3Q].en.vtt\n",
            "[hlsnative] Downloading m3u8 manifest\n",
            "[hlsnative] Total fragments: 1\n",
            "[download] Destination: Could Your Phone Hurt You？ Electromagnetic Pollution [FfgT6zx4k3Q].en.vtt\n",
            "[download] 100% of   11.57KiB in 00:00:00 at 291.11KiB/s             \n",
            "Deleting existing file Could Your Phone Hurt You？ Electromagnetic Pollution [FfgT6zx4k3Q].en-es.vtt\n",
            "[info] Writing video subtitles to: Could Your Phone Hurt You？ Electromagnetic Pollution [FfgT6zx4k3Q].en-es.vtt\n",
            "[download] Destination: Could Your Phone Hurt You？ Electromagnetic Pollution [FfgT6zx4k3Q].en-es.vtt\n",
            "[download] 100% of   11.20KiB in 00:00:00 at 233.93KiB/s\n",
            "Deleting existing file Could Your Phone Hurt You？ Electromagnetic Pollution [FfgT6zx4k3Q].en-fr.vtt\n",
            "[info] Writing video subtitles to: Could Your Phone Hurt You？ Electromagnetic Pollution [FfgT6zx4k3Q].en-fr.vtt\n",
            "[download] Destination: Could Your Phone Hurt You？ Electromagnetic Pollution [FfgT6zx4k3Q].en-fr.vtt\n",
            "[download] 100% of   10.91KiB in 00:00:00 at 208.50KiB/s\n",
            "[youtube] Extracting URL: https://www.youtube.com/watch?v=FfgT6zx4k3Q\n",
            "[youtube] FfgT6zx4k3Q: Downloading webpage\n"
          ]
        },
        {
          "output_type": "stream",
          "name": "stderr",
          "text": [
            "WARNING: [youtube] unable to extract initial player response; please report this issue on  https://github.com/yt-dlp/yt-dlp/issues?q= , filling out the appropriate issue template. Confirm you are on the latest version using  yt-dlp -U\n"
          ]
        },
        {
          "output_type": "stream",
          "name": "stdout",
          "text": [
            "[youtube] FfgT6zx4k3Q: Downloading ios player API JSON\n",
            "[youtube] FfgT6zx4k3Q: Downloading android player API JSON\n",
            "[youtube] FfgT6zx4k3Q: Downloading iframe API JS\n",
            "[youtube] FfgT6zx4k3Q: Downloading web player API JSON\n",
            "[youtube] FfgT6zx4k3Q: Downloading m3u8 information\n"
          ]
        },
        {
          "output_type": "stream",
          "name": "stderr",
          "text": [
            "WARNING: [youtube] unable to extract yt initial data; please report this issue on  https://github.com/yt-dlp/yt-dlp/issues?q= , filling out the appropriate issue template. Confirm you are on the latest version using  yt-dlp -U\n",
            "WARNING: [youtube] Incomplete data received in embedded initial data; re-fetching using API.\n"
          ]
        },
        {
          "output_type": "stream",
          "name": "stdout",
          "text": [
            "[youtube] FfgT6zx4k3Q: Downloading initial data API JSON\n",
            "[info] FfgT6zx4k3Q: Downloading subtitles: en, en-es, en-fr\n",
            "[info] FfgT6zx4k3Q: Downloading 1 format(s): 303+251\n",
            "Deleting existing file Could Your Phone Hurt You？ Electromagnetic Pollution [FfgT6zx4k3Q].en.vtt\n",
            "[info] Writing video subtitles to: Could Your Phone Hurt You？ Electromagnetic Pollution [FfgT6zx4k3Q].en.vtt\n",
            "[hlsnative] Downloading m3u8 manifest\n",
            "[hlsnative] Total fragments: 1\n",
            "[download] Destination: Could Your Phone Hurt You？ Electromagnetic Pollution [FfgT6zx4k3Q].en.vtt\n",
            "[download] 100% of   11.57KiB in 00:00:00 at 284.08KiB/s             \n",
            "Deleting existing file Could Your Phone Hurt You？ Electromagnetic Pollution [FfgT6zx4k3Q].en-es.vtt\n",
            "[info] Writing video subtitles to: Could Your Phone Hurt You？ Electromagnetic Pollution [FfgT6zx4k3Q].en-es.vtt\n",
            "[download] Destination: Could Your Phone Hurt You？ Electromagnetic Pollution [FfgT6zx4k3Q].en-es.vtt\n",
            "[download] 100% of   11.20KiB in 00:00:00 at 231.54KiB/s\n",
            "Deleting existing file Could Your Phone Hurt You？ Electromagnetic Pollution [FfgT6zx4k3Q].en-fr.vtt\n",
            "[info] Writing video subtitles to: Could Your Phone Hurt You？ Electromagnetic Pollution [FfgT6zx4k3Q].en-fr.vtt\n",
            "[download] Destination: Could Your Phone Hurt You？ Electromagnetic Pollution [FfgT6zx4k3Q].en-fr.vtt\n",
            "[download] 100% of   10.91KiB in 00:00:00 at 264.27KiB/s\n",
            "[youtube] Extracting URL: https://www.youtube.com/watch?v=FfgT6zx4k3Q\n",
            "[youtube] FfgT6zx4k3Q: Downloading webpage\n"
          ]
        },
        {
          "output_type": "stream",
          "name": "stderr",
          "text": [
            "WARNING: [youtube] unable to extract initial player response; please report this issue on  https://github.com/yt-dlp/yt-dlp/issues?q= , filling out the appropriate issue template. Confirm you are on the latest version using  yt-dlp -U\n"
          ]
        },
        {
          "output_type": "stream",
          "name": "stdout",
          "text": [
            "[youtube] FfgT6zx4k3Q: Downloading ios player API JSON\n",
            "[youtube] FfgT6zx4k3Q: Downloading android player API JSON\n",
            "[youtube] FfgT6zx4k3Q: Downloading iframe API JS\n",
            "[youtube] FfgT6zx4k3Q: Downloading web player API JSON\n",
            "[youtube] FfgT6zx4k3Q: Downloading m3u8 information\n"
          ]
        },
        {
          "output_type": "stream",
          "name": "stderr",
          "text": [
            "WARNING: [youtube] unable to extract yt initial data; please report this issue on  https://github.com/yt-dlp/yt-dlp/issues?q= , filling out the appropriate issue template. Confirm you are on the latest version using  yt-dlp -U\n",
            "WARNING: [youtube] Incomplete data received in embedded initial data; re-fetching using API.\n"
          ]
        },
        {
          "output_type": "stream",
          "name": "stdout",
          "text": [
            "[youtube] FfgT6zx4k3Q: Downloading initial data API JSON\n",
            "[info] FfgT6zx4k3Q: Downloading subtitles: en, en-es, en-fr\n",
            "[info] FfgT6zx4k3Q: Downloading 1 format(s): 303+251\n",
            "Deleting existing file Could Your Phone Hurt You？ Electromagnetic Pollution [FfgT6zx4k3Q].en.vtt\n",
            "[info] Writing video subtitles to: Could Your Phone Hurt You？ Electromagnetic Pollution [FfgT6zx4k3Q].en.vtt\n",
            "[hlsnative] Downloading m3u8 manifest\n",
            "[hlsnative] Total fragments: 1\n",
            "[download] Destination: Could Your Phone Hurt You？ Electromagnetic Pollution [FfgT6zx4k3Q].en.vtt\n",
            "[download] 100% of   11.57KiB in 00:00:00 at 276.83KiB/s             \n",
            "Deleting existing file Could Your Phone Hurt You？ Electromagnetic Pollution [FfgT6zx4k3Q].en-es.vtt\n",
            "[info] Writing video subtitles to: Could Your Phone Hurt You？ Electromagnetic Pollution [FfgT6zx4k3Q].en-es.vtt\n",
            "[download] Destination: Could Your Phone Hurt You？ Electromagnetic Pollution [FfgT6zx4k3Q].en-es.vtt\n",
            "[download] 100% of   11.20KiB in 00:00:00 at 256.76KiB/s\n",
            "Deleting existing file Could Your Phone Hurt You？ Electromagnetic Pollution [FfgT6zx4k3Q].en-fr.vtt\n",
            "[info] Writing video subtitles to: Could Your Phone Hurt You？ Electromagnetic Pollution [FfgT6zx4k3Q].en-fr.vtt\n",
            "[download] Destination: Could Your Phone Hurt You？ Electromagnetic Pollution [FfgT6zx4k3Q].en-fr.vtt\n",
            "[download] 100% of   10.91KiB in 00:00:00 at 257.79KiB/s\n",
            "[youtube] Extracting URL: https://www.youtube.com/watch?v=FfgT6zx4k3Q\n",
            "[youtube] FfgT6zx4k3Q: Downloading webpage\n"
          ]
        },
        {
          "output_type": "stream",
          "name": "stderr",
          "text": [
            "WARNING: [youtube] unable to extract initial player response; please report this issue on  https://github.com/yt-dlp/yt-dlp/issues?q= , filling out the appropriate issue template. Confirm you are on the latest version using  yt-dlp -U\n"
          ]
        },
        {
          "output_type": "stream",
          "name": "stdout",
          "text": [
            "[youtube] FfgT6zx4k3Q: Downloading ios player API JSON\n",
            "[youtube] FfgT6zx4k3Q: Downloading android player API JSON\n",
            "[youtube] FfgT6zx4k3Q: Downloading iframe API JS\n",
            "[youtube] FfgT6zx4k3Q: Downloading web player API JSON\n",
            "[youtube] FfgT6zx4k3Q: Downloading m3u8 information\n"
          ]
        },
        {
          "output_type": "stream",
          "name": "stderr",
          "text": [
            "WARNING: [youtube] unable to extract yt initial data; please report this issue on  https://github.com/yt-dlp/yt-dlp/issues?q= , filling out the appropriate issue template. Confirm you are on the latest version using  yt-dlp -U\n",
            "WARNING: [youtube] Incomplete data received in embedded initial data; re-fetching using API.\n"
          ]
        },
        {
          "output_type": "stream",
          "name": "stdout",
          "text": [
            "[youtube] FfgT6zx4k3Q: Downloading initial data API JSON\n",
            "[info] FfgT6zx4k3Q: Downloading subtitles: en, en-es, en-fr\n",
            "[info] FfgT6zx4k3Q: Downloading 1 format(s): 303+251\n",
            "Deleting existing file Could Your Phone Hurt You？ Electromagnetic Pollution [FfgT6zx4k3Q].en.vtt\n",
            "[info] Writing video subtitles to: Could Your Phone Hurt You？ Electromagnetic Pollution [FfgT6zx4k3Q].en.vtt\n",
            "[hlsnative] Downloading m3u8 manifest\n",
            "[hlsnative] Total fragments: 1\n",
            "[download] Destination: Could Your Phone Hurt You？ Electromagnetic Pollution [FfgT6zx4k3Q].en.vtt\n",
            "[download] 100% of   11.57KiB in 00:00:00 at 240.42KiB/s             \n",
            "Deleting existing file Could Your Phone Hurt You？ Electromagnetic Pollution [FfgT6zx4k3Q].en-es.vtt\n",
            "[info] Writing video subtitles to: Could Your Phone Hurt You？ Electromagnetic Pollution [FfgT6zx4k3Q].en-es.vtt\n",
            "[download] Destination: Could Your Phone Hurt You？ Electromagnetic Pollution [FfgT6zx4k3Q].en-es.vtt\n",
            "[download] 100% of   11.20KiB in 00:00:00 at 223.66KiB/s\n",
            "Deleting existing file Could Your Phone Hurt You？ Electromagnetic Pollution [FfgT6zx4k3Q].en-fr.vtt\n",
            "[info] Writing video subtitles to: Could Your Phone Hurt You？ Electromagnetic Pollution [FfgT6zx4k3Q].en-fr.vtt\n",
            "[download] Destination: Could Your Phone Hurt You？ Electromagnetic Pollution [FfgT6zx4k3Q].en-fr.vtt\n",
            "[download] 100% of   10.91KiB in 00:00:00 at 52.19KiB/s\n",
            "[youtube] Extracting URL: https://www.youtube.com/watch?v=FfgT6zx4k3Q\n",
            "[youtube] FfgT6zx4k3Q: Downloading webpage\n"
          ]
        },
        {
          "output_type": "stream",
          "name": "stderr",
          "text": [
            "WARNING: [youtube] unable to extract initial player response; please report this issue on  https://github.com/yt-dlp/yt-dlp/issues?q= , filling out the appropriate issue template. Confirm you are on the latest version using  yt-dlp -U\n"
          ]
        },
        {
          "output_type": "stream",
          "name": "stdout",
          "text": [
            "[youtube] FfgT6zx4k3Q: Downloading ios player API JSON\n",
            "[youtube] FfgT6zx4k3Q: Downloading android player API JSON\n",
            "[youtube] FfgT6zx4k3Q: Downloading iframe API JS\n",
            "[youtube] FfgT6zx4k3Q: Downloading web player API JSON\n",
            "[youtube] FfgT6zx4k3Q: Downloading m3u8 information\n"
          ]
        },
        {
          "output_type": "stream",
          "name": "stderr",
          "text": [
            "WARNING: [youtube] unable to extract yt initial data; please report this issue on  https://github.com/yt-dlp/yt-dlp/issues?q= , filling out the appropriate issue template. Confirm you are on the latest version using  yt-dlp -U\n",
            "WARNING: [youtube] Incomplete data received in embedded initial data; re-fetching using API.\n"
          ]
        },
        {
          "output_type": "stream",
          "name": "stdout",
          "text": [
            "[youtube] FfgT6zx4k3Q: Downloading initial data API JSON\n",
            "[info] FfgT6zx4k3Q: Downloading subtitles: en, en-es, en-fr\n",
            "[info] FfgT6zx4k3Q: Downloading 1 format(s): 303+251\n",
            "Deleting existing file Could Your Phone Hurt You？ Electromagnetic Pollution [FfgT6zx4k3Q].en.vtt\n",
            "[info] Writing video subtitles to: Could Your Phone Hurt You？ Electromagnetic Pollution [FfgT6zx4k3Q].en.vtt\n",
            "[hlsnative] Downloading m3u8 manifest\n",
            "[hlsnative] Total fragments: 1\n",
            "[download] Destination: Could Your Phone Hurt You？ Electromagnetic Pollution [FfgT6zx4k3Q].en.vtt\n",
            "[download] 100% of   11.57KiB in 00:00:00 at 308.59KiB/s             \n",
            "Deleting existing file Could Your Phone Hurt You？ Electromagnetic Pollution [FfgT6zx4k3Q].en-es.vtt\n",
            "[info] Writing video subtitles to: Could Your Phone Hurt You？ Electromagnetic Pollution [FfgT6zx4k3Q].en-es.vtt\n",
            "[download] Destination: Could Your Phone Hurt You？ Electromagnetic Pollution [FfgT6zx4k3Q].en-es.vtt\n",
            "[download] 100% of   11.20KiB in 00:00:00 at 236.45KiB/s\n",
            "Deleting existing file Could Your Phone Hurt You？ Electromagnetic Pollution [FfgT6zx4k3Q].en-fr.vtt\n",
            "[info] Writing video subtitles to: Could Your Phone Hurt You？ Electromagnetic Pollution [FfgT6zx4k3Q].en-fr.vtt\n",
            "[download] Destination: Could Your Phone Hurt You？ Electromagnetic Pollution [FfgT6zx4k3Q].en-fr.vtt\n",
            "[download] 100% of   10.91KiB in 00:00:00 at 269.33KiB/s\n",
            "[youtube] Extracting URL: https://www.youtube.com/watch?v=FfgT6zx4k3Q\n",
            "[youtube] FfgT6zx4k3Q: Downloading webpage\n"
          ]
        },
        {
          "output_type": "stream",
          "name": "stderr",
          "text": [
            "WARNING: [youtube] unable to extract initial player response; please report this issue on  https://github.com/yt-dlp/yt-dlp/issues?q= , filling out the appropriate issue template. Confirm you are on the latest version using  yt-dlp -U\n"
          ]
        },
        {
          "output_type": "stream",
          "name": "stdout",
          "text": [
            "[youtube] FfgT6zx4k3Q: Downloading ios player API JSON\n",
            "[youtube] FfgT6zx4k3Q: Downloading android player API JSON\n",
            "[youtube] FfgT6zx4k3Q: Downloading iframe API JS\n",
            "[youtube] FfgT6zx4k3Q: Downloading web player API JSON\n",
            "[youtube] FfgT6zx4k3Q: Downloading m3u8 information\n"
          ]
        },
        {
          "output_type": "stream",
          "name": "stderr",
          "text": [
            "WARNING: [youtube] unable to extract yt initial data; please report this issue on  https://github.com/yt-dlp/yt-dlp/issues?q= , filling out the appropriate issue template. Confirm you are on the latest version using  yt-dlp -U\n",
            "WARNING: [youtube] Incomplete data received in embedded initial data; re-fetching using API.\n"
          ]
        },
        {
          "output_type": "stream",
          "name": "stdout",
          "text": [
            "[youtube] FfgT6zx4k3Q: Downloading initial data API JSON\n",
            "[info] FfgT6zx4k3Q: Downloading subtitles: en, en-es, en-fr\n",
            "[info] FfgT6zx4k3Q: Downloading 1 format(s): 303+251\n",
            "Deleting existing file Could Your Phone Hurt You？ Electromagnetic Pollution [FfgT6zx4k3Q].en.vtt\n",
            "[info] Writing video subtitles to: Could Your Phone Hurt You？ Electromagnetic Pollution [FfgT6zx4k3Q].en.vtt\n",
            "[hlsnative] Downloading m3u8 manifest\n",
            "[hlsnative] Total fragments: 1\n",
            "[download] Destination: Could Your Phone Hurt You？ Electromagnetic Pollution [FfgT6zx4k3Q].en.vtt\n",
            "[download] 100% of   11.57KiB in 00:00:00 at 248.48KiB/s             \n",
            "Deleting existing file Could Your Phone Hurt You？ Electromagnetic Pollution [FfgT6zx4k3Q].en-es.vtt\n",
            "[info] Writing video subtitles to: Could Your Phone Hurt You？ Electromagnetic Pollution [FfgT6zx4k3Q].en-es.vtt\n",
            "[download] Destination: Could Your Phone Hurt You？ Electromagnetic Pollution [FfgT6zx4k3Q].en-es.vtt\n",
            "[download] 100% of   11.20KiB in 00:00:00 at 253.86KiB/s\n",
            "Deleting existing file Could Your Phone Hurt You？ Electromagnetic Pollution [FfgT6zx4k3Q].en-fr.vtt\n",
            "[info] Writing video subtitles to: Could Your Phone Hurt You？ Electromagnetic Pollution [FfgT6zx4k3Q].en-fr.vtt\n",
            "[download] Destination: Could Your Phone Hurt You？ Electromagnetic Pollution [FfgT6zx4k3Q].en-fr.vtt\n",
            "[download] 100% of   10.91KiB in 00:00:00 at 234.42KiB/s\n",
            "[youtube] Extracting URL: https://www.youtube.com/watch?v=FfgT6zx4k3Q\n",
            "[youtube] FfgT6zx4k3Q: Downloading webpage\n"
          ]
        },
        {
          "output_type": "stream",
          "name": "stderr",
          "text": [
            "WARNING: [youtube] unable to extract initial player response; please report this issue on  https://github.com/yt-dlp/yt-dlp/issues?q= , filling out the appropriate issue template. Confirm you are on the latest version using  yt-dlp -U\n"
          ]
        },
        {
          "output_type": "stream",
          "name": "stdout",
          "text": [
            "[youtube] FfgT6zx4k3Q: Downloading ios player API JSON\n",
            "[youtube] FfgT6zx4k3Q: Downloading android player API JSON\n",
            "[youtube] FfgT6zx4k3Q: Downloading iframe API JS\n",
            "[youtube] FfgT6zx4k3Q: Downloading web player API JSON\n",
            "[youtube] FfgT6zx4k3Q: Downloading m3u8 information\n"
          ]
        },
        {
          "output_type": "stream",
          "name": "stderr",
          "text": [
            "WARNING: [youtube] unable to extract yt initial data; please report this issue on  https://github.com/yt-dlp/yt-dlp/issues?q= , filling out the appropriate issue template. Confirm you are on the latest version using  yt-dlp -U\n",
            "WARNING: [youtube] Incomplete data received in embedded initial data; re-fetching using API.\n"
          ]
        },
        {
          "output_type": "stream",
          "name": "stdout",
          "text": [
            "[youtube] FfgT6zx4k3Q: Downloading initial data API JSON\n",
            "[info] FfgT6zx4k3Q: Downloading subtitles: en, en-es, en-fr\n",
            "[info] FfgT6zx4k3Q: Downloading 1 format(s): 303+251\n",
            "Deleting existing file Could Your Phone Hurt You？ Electromagnetic Pollution [FfgT6zx4k3Q].en.vtt\n",
            "[info] Writing video subtitles to: Could Your Phone Hurt You？ Electromagnetic Pollution [FfgT6zx4k3Q].en.vtt\n",
            "[hlsnative] Downloading m3u8 manifest\n",
            "[hlsnative] Total fragments: 1\n",
            "[download] Destination: Could Your Phone Hurt You？ Electromagnetic Pollution [FfgT6zx4k3Q].en.vtt\n",
            "[download] fragment not found; Skipping fragment 1 ...\n"
          ]
        },
        {
          "output_type": "stream",
          "name": "stderr",
          "text": [
            "ERROR: The downloaded file is empty\n",
            "ERROR: Unable to download video subtitles for 'en': ERROR: The downloaded file is empty\n",
            "Traceback (most recent call last):\n",
            "  File \"/usr/local/lib/python3.10/dist-packages/yt_dlp/YoutubeDL.py\", line 4147, in _write_subtitles\n",
            "    self.dl(sub_filename, sub_copy, subtitle=True)\n",
            "  File \"/usr/local/lib/python3.10/dist-packages/yt_dlp/YoutubeDL.py\", line 3084, in dl\n",
            "    return fd.download(name, new_info, subtitle)\n",
            "  File \"/usr/local/lib/python3.10/dist-packages/yt_dlp/downloader/common.py\", line 461, in download\n",
            "    ret = self.real_download(filename, info_dict)\n",
            "  File \"/usr/local/lib/python3.10/dist-packages/yt_dlp/downloader/hls.py\", line 372, in real_download\n",
            "    self.download_and_append_fragments(\n",
            "  File \"/usr/local/lib/python3.10/dist-packages/yt_dlp/downloader/fragment.py\", line 542, in download_and_append_fragments\n",
            "    return self._finish_frag_download(ctx, info_dict)\n",
            "  File \"/usr/local/lib/python3.10/dist-packages/yt_dlp/downloader/fragment.py\", line 315, in _finish_frag_download\n",
            "    self.report_error('The downloaded file is empty')\n",
            "  File \"/usr/local/lib/python3.10/dist-packages/yt_dlp/YoutubeDL.py\", line 1042, in report_error\n",
            "    self.trouble(f'{self._format_err(\"ERROR:\", self.Styles.ERROR)} {message}', *args, **kwargs)\n",
            "  File \"/usr/local/lib/python3.10/dist-packages/yt_dlp/YoutubeDL.py\", line 981, in trouble\n",
            "    raise DownloadError(message, exc_info)\n",
            "yt_dlp.utils.DownloadError: ERROR: The downloaded file is empty\n",
            "\n",
            "During handling of the above exception, another exception occurred:\n",
            "\n",
            "Traceback (most recent call last):\n",
            "  File \"/usr/local/lib/python3.10/dist-packages/gradio/routes.py\", line 488, in run_predict\n",
            "    output = await app.get_blocks().process_api(\n",
            "  File \"/usr/local/lib/python3.10/dist-packages/gradio/blocks.py\", line 1431, in process_api\n",
            "    result = await self.call_function(\n",
            "  File \"/usr/local/lib/python3.10/dist-packages/gradio/blocks.py\", line 1109, in call_function\n",
            "    prediction = await anyio.to_thread.run_sync(\n",
            "  File \"/usr/local/lib/python3.10/dist-packages/anyio/to_thread.py\", line 33, in run_sync\n",
            "    return await get_asynclib().run_sync_in_worker_thread(\n",
            "  File \"/usr/local/lib/python3.10/dist-packages/anyio/_backends/_asyncio.py\", line 877, in run_sync_in_worker_thread\n",
            "    return await future\n",
            "  File \"/usr/local/lib/python3.10/dist-packages/anyio/_backends/_asyncio.py\", line 807, in run\n",
            "    result = context.run(func, *args)\n",
            "  File \"/usr/local/lib/python3.10/dist-packages/gradio/utils.py\", line 706, in wrapper\n",
            "    response = f(*args, **kwargs)\n",
            "  File \"<ipython-input-132-c55d1f287a1e>\", line 17, in respond\n",
            "    title, summary = video_summarize(link.strip())\n",
            "  File \"<ipython-input-126-40cea4c6a40b>\", line 2, in video_summarize\n",
            "    title, vttfile=get_transcript(url)\n",
            "  File \"<ipython-input-124-ad5d56708ffd>\", line 11, in get_transcript\n",
            "    op = [f for f in os.listdir() if f.startswith(os.path.splitext(ydl.prepare_filename(ydl.extract_info(url)))[0]) and f.endswith('.vtt')]\n",
            "  File \"<ipython-input-124-ad5d56708ffd>\", line 11, in <listcomp>\n",
            "    op = [f for f in os.listdir() if f.startswith(os.path.splitext(ydl.prepare_filename(ydl.extract_info(url)))[0]) and f.endswith('.vtt')]\n",
            "  File \"/usr/local/lib/python3.10/dist-packages/yt_dlp/YoutubeDL.py\", line 1549, in extract_info\n",
            "    return self.__extract_info(url, self.get_info_extractor(key), download, extra_info, process)\n",
            "  File \"/usr/local/lib/python3.10/dist-packages/yt_dlp/YoutubeDL.py\", line 1560, in wrapper\n",
            "    return func(self, *args, **kwargs)\n",
            "  File \"/usr/local/lib/python3.10/dist-packages/yt_dlp/YoutubeDL.py\", line 1709, in __extract_info\n",
            "    return self.process_ie_result(ie_result, download, extra_info)\n",
            "  File \"/usr/local/lib/python3.10/dist-packages/yt_dlp/YoutubeDL.py\", line 1768, in process_ie_result\n",
            "    ie_result = self.process_video_result(ie_result, download=download)\n",
            "  File \"/usr/local/lib/python3.10/dist-packages/yt_dlp/YoutubeDL.py\", line 2897, in process_video_result\n",
            "    self.process_info(new_info)\n",
            "  File \"/usr/local/lib/python3.10/dist-packages/yt_dlp/YoutubeDL.py\", line 3151, in process_info\n",
            "    sub_files = self._write_subtitles(info_dict, temp_filename)\n",
            "  File \"/usr/local/lib/python3.10/dist-packages/yt_dlp/YoutubeDL.py\", line 4154, in _write_subtitles\n",
            "    self.report_error(msg)\n",
            "  File \"/usr/local/lib/python3.10/dist-packages/yt_dlp/YoutubeDL.py\", line 1042, in report_error\n",
            "    self.trouble(f'{self._format_err(\"ERROR:\", self.Styles.ERROR)} {message}', *args, **kwargs)\n",
            "  File \"/usr/local/lib/python3.10/dist-packages/yt_dlp/YoutubeDL.py\", line 981, in trouble\n",
            "    raise DownloadError(message, exc_info)\n",
            "yt_dlp.utils.DownloadError: ERROR: Unable to download video subtitles for 'en': ERROR: The downloaded file is empty\n"
          ]
        }
      ]
    },
    {
      "cell_type": "code",
      "source": [],
      "metadata": {
        "id": "fVpeEAd-vSk0"
      },
      "id": "fVpeEAd-vSk0",
      "execution_count": null,
      "outputs": []
    }
  ],
  "metadata": {
    "kernelspec": {
      "display_name": "Python 3",
      "name": "python3"
    },
    "language_info": {
      "codemirror_mode": {
        "name": "ipython",
        "version": 3
      },
      "file_extension": ".py",
      "mimetype": "text/x-python",
      "name": "python",
      "nbconvert_exporter": "python",
      "pygments_lexer": "ipython3",
      "version": "3.10.12"
    },
    "colab": {
      "provenance": [],
      "gpuType": "T4"
    },
    "accelerator": "GPU"
  },
  "nbformat": 4,
  "nbformat_minor": 5
}